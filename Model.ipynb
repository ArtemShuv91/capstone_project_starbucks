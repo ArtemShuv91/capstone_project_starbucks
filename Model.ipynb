{
 "cells": [
  {
   "cell_type": "code",
   "execution_count": 32,
   "id": "857fb086",
   "metadata": {},
   "outputs": [],
   "source": [
    "# Importing the required libraries\n",
    "import os\n",
    "import pprint\n",
    "import json\n",
    "import pandas as pd\n",
    "import numpy as np\n",
    "import matplotlib.pyplot as plt\n",
    "import seaborn as sns\n",
    "from datetime import datetime\n",
    "\n",
    "import boto3\n",
    "import sagemaker\n",
    "from sagemaker import get_execution_role\n",
    "\n",
    "from sagemaker.amazon.amazon_estimator import get_image_uri\n",
    "from sagemaker.predictor import csv_serializer\n",
    "from sagemaker import LinearLearner\n",
    "from sagemaker.tuner import IntegerParameter, ContinuousParameter, HyperparameterTuner, CategoricalParameter\n",
    "from sagemaker.sklearn.processing import SKLearnProcessor\n",
    "from sagemaker.processing import ProcessingInput, ProcessingOutput\n",
    "\n",
    "from sklearn.metrics import accuracy_score, balanced_accuracy_score, \\\n",
    "    precision_score, recall_score, f1_score, average_precision_score, \\\n",
    "    roc_auc_score, roc_curve"
   ]
  },
  {
   "cell_type": "code",
   "execution_count": 7,
   "id": "1cab2b28",
   "metadata": {},
   "outputs": [],
   "source": [
    "# Initialize required variables\n",
    "session = sagemaker.Session()\n",
    "role = get_execution_role()\n",
    "bucket = session.default_bucket()"
   ]
  },
  {
   "cell_type": "code",
   "execution_count": 15,
   "id": "77a8ce9b",
   "metadata": {
    "scrolled": true
   },
   "outputs": [
    {
     "name": "stdout",
     "output_type": "stream",
     "text": [
      "bogo\n",
      "\n",
      "Job Name:  sagemaker-scikit-learn-2021-10-31-12-23-14-283\n",
      "Inputs:  [{'InputName': 'input-1', 'AppManaged': False, 'S3Input': {'S3Uri': 's3://sagemaker-us-east-1-847508660735/CapstoneProjectStarbucks/bogo.csv', 'LocalPath': '/opt/ml/processing/input', 'S3DataType': 'S3Prefix', 'S3InputMode': 'File', 'S3DataDistributionType': 'FullyReplicated', 'S3CompressionType': 'None'}}, {'InputName': 'code', 'AppManaged': False, 'S3Input': {'S3Uri': 's3://sagemaker-us-east-1-847508660735/sagemaker-scikit-learn-2021-10-31-12-23-14-283/input/code/preprocess.py', 'LocalPath': '/opt/ml/processing/input/code', 'S3DataType': 'S3Prefix', 'S3InputMode': 'File', 'S3DataDistributionType': 'FullyReplicated', 'S3CompressionType': 'None'}}]\n",
      "Outputs:  [{'OutputName': 'bogo_data', 'AppManaged': False, 'S3Output': {'S3Uri': 's3://sagemaker-us-east-1-847508660735/sagemaker-scikit-learn-2021-10-31-12-23-14-283/output/bogo_data', 'LocalPath': '/opt/ml/processing/output/', 'S3UploadMode': 'EndOfJob'}}]\n",
      ".........................\u001b[34mRequirement already satisfied: joblib in /miniconda3/lib/python3.7/site-packages (1.0.1)\u001b[0m\n",
      "\u001b[34mWARNING: Running pip as the 'root' user can result in broken permissions and conflicting behaviour with the system package manager. It is recommended to use a virtual environment instead: https://pip.pypa.io/warnings/venv\u001b[0m\n",
      "\u001b[34mWARNING: You are using pip version 21.2.4; however, version 21.3.1 is available.\u001b[0m\n",
      "\u001b[34mYou should consider upgrading via the '/miniconda3/bin/python3 -m pip install --upgrade pip' command.\u001b[0m\n",
      "\u001b[34mCollecting imblearn\n",
      "  Downloading imblearn-0.0-py2.py3-none-any.whl (1.9 kB)\u001b[0m\n",
      "\u001b[34mCollecting imbalanced-learn\n",
      "  Downloading imbalanced_learn-0.8.1-py3-none-any.whl (189 kB)\u001b[0m\n",
      "\u001b[34mCollecting scikit-learn>=0.24\n",
      "  Downloading scikit_learn-1.0.1-cp37-cp37m-manylinux_2_12_x86_64.manylinux2010_x86_64.whl (23.2 MB)\u001b[0m\n",
      "\u001b[34mRequirement already satisfied: numpy>=1.13.3 in /miniconda3/lib/python3.7/site-packages (from imbalanced-learn->imblearn) (1.19.2)\u001b[0m\n",
      "\u001b[34mRequirement already satisfied: joblib>=0.11 in /miniconda3/lib/python3.7/site-packages (from imbalanced-learn->imblearn) (1.0.1)\u001b[0m\n",
      "\u001b[34mRequirement already satisfied: scipy>=0.19.1 in /miniconda3/lib/python3.7/site-packages (from imbalanced-learn->imblearn) (1.5.3)\u001b[0m\n",
      "\u001b[34mRequirement already satisfied: threadpoolctl>=2.0.0 in /miniconda3/lib/python3.7/site-packages (from scikit-learn>=0.24->imbalanced-learn->imblearn) (2.2.0)\u001b[0m\n",
      "\u001b[34mInstalling collected packages: scikit-learn, imbalanced-learn, imblearn\n",
      "  Attempting uninstall: scikit-learn\n",
      "    Found existing installation: scikit-learn 0.23.2\n",
      "    Uninstalling scikit-learn-0.23.2:\n",
      "      Successfully uninstalled scikit-learn-0.23.2\u001b[0m\n",
      "\u001b[34mERROR: pip's dependency resolver does not currently take into account all the packages that are installed. This behaviour is the source of the following dependency conflicts.\u001b[0m\n",
      "\u001b[34msagemaker-sklearn-container 2.0 requires scikit-learn==0.23.2, but you have scikit-learn 1.0.1 which is incompatible.\u001b[0m\n",
      "\u001b[34mSuccessfully installed imbalanced-learn-0.8.1 imblearn-0.0 scikit-learn-1.0.1\u001b[0m\n",
      "\u001b[34mWARNING: Running pip as the 'root' user can result in broken permissions and conflicting behaviour with the system package manager. It is recommended to use a virtual environment instead: https://pip.pypa.io/warnings/venv\u001b[0m\n",
      "\u001b[34mWARNING: You are using pip version 21.2.4; however, version 21.3.1 is available.\u001b[0m\n",
      "\u001b[34mYou should consider upgrading via the '/miniconda3/bin/python3 -m pip install --upgrade pip' command.\u001b[0m\n",
      "\u001b[34mRequirement already satisfied: scikit-learn in /miniconda3/lib/python3.7/site-packages (1.0.1)\u001b[0m\n",
      "\u001b[34mRequirement already satisfied: scipy>=1.1.0 in /miniconda3/lib/python3.7/site-packages (from scikit-learn) (1.5.3)\u001b[0m\n",
      "\u001b[34mRequirement already satisfied: threadpoolctl>=2.0.0 in /miniconda3/lib/python3.7/site-packages (from scikit-learn) (2.2.0)\u001b[0m\n",
      "\u001b[34mRequirement already satisfied: joblib>=0.11 in /miniconda3/lib/python3.7/site-packages (from scikit-learn) (1.0.1)\u001b[0m\n",
      "\u001b[34mRequirement already satisfied: numpy>=1.14.6 in /miniconda3/lib/python3.7/site-packages (from scikit-learn) (1.19.2)\u001b[0m\n",
      "\u001b[34mWARNING: Running pip as the 'root' user can result in broken permissions and conflicting behaviour with the system package manager. It is recommended to use a virtual environment instead: https://pip.pypa.io/warnings/venv\u001b[0m\n",
      "\u001b[34mWARNING: You are using pip version 21.2.4; however, version 21.3.1 is available.\u001b[0m\n",
      "\u001b[34mYou should consider upgrading via the '/miniconda3/bin/python3 -m pip install --upgrade pip' command.\u001b[0m\n",
      "\n",
      "discount\n",
      "\n",
      "Job Name:  sagemaker-scikit-learn-2021-10-31-12-27-57-352\n",
      "Inputs:  [{'InputName': 'input-1', 'AppManaged': False, 'S3Input': {'S3Uri': 's3://sagemaker-us-east-1-847508660735/CapstoneProjectStarbucks/discount.csv', 'LocalPath': '/opt/ml/processing/input', 'S3DataType': 'S3Prefix', 'S3InputMode': 'File', 'S3DataDistributionType': 'FullyReplicated', 'S3CompressionType': 'None'}}, {'InputName': 'code', 'AppManaged': False, 'S3Input': {'S3Uri': 's3://sagemaker-us-east-1-847508660735/sagemaker-scikit-learn-2021-10-31-12-27-57-352/input/code/preprocess.py', 'LocalPath': '/opt/ml/processing/input/code', 'S3DataType': 'S3Prefix', 'S3InputMode': 'File', 'S3DataDistributionType': 'FullyReplicated', 'S3CompressionType': 'None'}}]\n",
      "Outputs:  [{'OutputName': 'discount_data', 'AppManaged': False, 'S3Output': {'S3Uri': 's3://sagemaker-us-east-1-847508660735/sagemaker-scikit-learn-2021-10-31-12-27-57-352/output/discount_data', 'LocalPath': '/opt/ml/processing/output/', 'S3UploadMode': 'EndOfJob'}}]\n",
      "..........................\u001b[34mRequirement already satisfied: joblib in /miniconda3/lib/python3.7/site-packages (1.0.1)\u001b[0m\n",
      "\u001b[34mWARNING: Running pip as the 'root' user can result in broken permissions and conflicting behaviour with the system package manager. It is recommended to use a virtual environment instead: https://pip.pypa.io/warnings/venv\u001b[0m\n",
      "\u001b[34mWARNING: You are using pip version 21.2.4; however, version 21.3.1 is available.\u001b[0m\n",
      "\u001b[34mYou should consider upgrading via the '/miniconda3/bin/python3 -m pip install --upgrade pip' command.\u001b[0m\n",
      "\u001b[34mCollecting imblearn\n",
      "  Downloading imblearn-0.0-py2.py3-none-any.whl (1.9 kB)\u001b[0m\n",
      "\u001b[34mCollecting imbalanced-learn\n",
      "  Downloading imbalanced_learn-0.8.1-py3-none-any.whl (189 kB)\u001b[0m\n",
      "\u001b[34mRequirement already satisfied: scipy>=0.19.1 in /miniconda3/lib/python3.7/site-packages (from imbalanced-learn->imblearn) (1.5.3)\u001b[0m\n",
      "\u001b[34mCollecting scikit-learn>=0.24\n",
      "  Downloading scikit_learn-1.0.1-cp37-cp37m-manylinux_2_12_x86_64.manylinux2010_x86_64.whl (23.2 MB)\u001b[0m\n",
      "\u001b[34mRequirement already satisfied: joblib>=0.11 in /miniconda3/lib/python3.7/site-packages (from imbalanced-learn->imblearn) (1.0.1)\u001b[0m\n",
      "\u001b[34mRequirement already satisfied: numpy>=1.13.3 in /miniconda3/lib/python3.7/site-packages (from imbalanced-learn->imblearn) (1.19.2)\u001b[0m\n",
      "\u001b[34mRequirement already satisfied: threadpoolctl>=2.0.0 in /miniconda3/lib/python3.7/site-packages (from scikit-learn>=0.24->imbalanced-learn->imblearn) (2.2.0)\u001b[0m\n",
      "\u001b[34mInstalling collected packages: scikit-learn, imbalanced-learn, imblearn\n",
      "  Attempting uninstall: scikit-learn\n",
      "    Found existing installation: scikit-learn 0.23.2\n",
      "    Uninstalling scikit-learn-0.23.2:\n",
      "      Successfully uninstalled scikit-learn-0.23.2\u001b[0m\n",
      "\u001b[34mERROR: pip's dependency resolver does not currently take into account all the packages that are installed. This behaviour is the source of the following dependency conflicts.\u001b[0m\n",
      "\u001b[34msagemaker-sklearn-container 2.0 requires scikit-learn==0.23.2, but you have scikit-learn 1.0.1 which is incompatible.\u001b[0m\n",
      "\u001b[34mWARNING: Running pip as the 'root' user can result in broken permissions and conflicting behaviour with the system package manager. It is recommended to use a virtual environment instead: https://pip.pypa.io/warnings/venv\u001b[0m\n",
      "\u001b[34mSuccessfully installed imbalanced-learn-0.8.1 imblearn-0.0 scikit-learn-1.0.1\u001b[0m\n",
      "\u001b[34mWARNING: You are using pip version 21.2.4; however, version 21.3.1 is available.\u001b[0m\n",
      "\u001b[34mYou should consider upgrading via the '/miniconda3/bin/python3 -m pip install --upgrade pip' command.\u001b[0m\n",
      "\u001b[34mRequirement already satisfied: scikit-learn in /miniconda3/lib/python3.7/site-packages (1.0.1)\u001b[0m\n",
      "\u001b[34mRequirement already satisfied: numpy>=1.14.6 in /miniconda3/lib/python3.7/site-packages (from scikit-learn) (1.19.2)\u001b[0m\n",
      "\u001b[34mRequirement already satisfied: joblib>=0.11 in /miniconda3/lib/python3.7/site-packages (from scikit-learn) (1.0.1)\u001b[0m\n",
      "\u001b[34mRequirement already satisfied: scipy>=1.1.0 in /miniconda3/lib/python3.7/site-packages (from scikit-learn) (1.5.3)\u001b[0m\n",
      "\u001b[34mRequirement already satisfied: threadpoolctl>=2.0.0 in /miniconda3/lib/python3.7/site-packages (from scikit-learn) (2.2.0)\u001b[0m\n",
      "\u001b[34mWARNING: Running pip as the 'root' user can result in broken permissions and conflicting behaviour with the system package manager. It is recommended to use a virtual environment instead: https://pip.pypa.io/warnings/venv\u001b[0m\n",
      "\u001b[34mWARNING: You are using pip version 21.2.4; however, version 21.3.1 is available.\u001b[0m\n",
      "\u001b[34mYou should consider upgrading via the '/miniconda3/bin/python3 -m pip install --upgrade pip' command.\u001b[0m\n"
     ]
    },
    {
     "name": "stdout",
     "output_type": "stream",
     "text": [
      "\n",
      "info\n",
      "\n",
      "Job Name:  sagemaker-scikit-learn-2021-10-31-12-32-40-415\n",
      "Inputs:  [{'InputName': 'input-1', 'AppManaged': False, 'S3Input': {'S3Uri': 's3://sagemaker-us-east-1-847508660735/CapstoneProjectStarbucks/info.csv', 'LocalPath': '/opt/ml/processing/input', 'S3DataType': 'S3Prefix', 'S3InputMode': 'File', 'S3DataDistributionType': 'FullyReplicated', 'S3CompressionType': 'None'}}, {'InputName': 'code', 'AppManaged': False, 'S3Input': {'S3Uri': 's3://sagemaker-us-east-1-847508660735/sagemaker-scikit-learn-2021-10-31-12-32-40-415/input/code/preprocess.py', 'LocalPath': '/opt/ml/processing/input/code', 'S3DataType': 'S3Prefix', 'S3InputMode': 'File', 'S3DataDistributionType': 'FullyReplicated', 'S3CompressionType': 'None'}}]\n",
      "Outputs:  [{'OutputName': 'info_data', 'AppManaged': False, 'S3Output': {'S3Uri': 's3://sagemaker-us-east-1-847508660735/sagemaker-scikit-learn-2021-10-31-12-32-40-415/output/info_data', 'LocalPath': '/opt/ml/processing/output/', 'S3UploadMode': 'EndOfJob'}}]\n",
      "..........................\u001b[34mRequirement already satisfied: joblib in /miniconda3/lib/python3.7/site-packages (1.0.1)\u001b[0m\n",
      "\u001b[34mWARNING: Running pip as the 'root' user can result in broken permissions and conflicting behaviour with the system package manager. It is recommended to use a virtual environment instead: https://pip.pypa.io/warnings/venv\u001b[0m\n",
      "\u001b[34mWARNING: You are using pip version 21.2.4; however, version 21.3.1 is available.\u001b[0m\n",
      "\u001b[34mYou should consider upgrading via the '/miniconda3/bin/python3 -m pip install --upgrade pip' command.\u001b[0m\n",
      "\u001b[34mCollecting imblearn\n",
      "  Downloading imblearn-0.0-py2.py3-none-any.whl (1.9 kB)\u001b[0m\n",
      "\u001b[34mCollecting imbalanced-learn\n",
      "  Downloading imbalanced_learn-0.8.1-py3-none-any.whl (189 kB)\u001b[0m\n",
      "\u001b[34mCollecting scikit-learn>=0.24\n",
      "  Downloading scikit_learn-1.0.1-cp37-cp37m-manylinux_2_12_x86_64.manylinux2010_x86_64.whl (23.2 MB)\u001b[0m\n",
      "\u001b[34mRequirement already satisfied: scipy>=0.19.1 in /miniconda3/lib/python3.7/site-packages (from imbalanced-learn->imblearn) (1.5.3)\u001b[0m\n",
      "\u001b[34mRequirement already satisfied: numpy>=1.13.3 in /miniconda3/lib/python3.7/site-packages (from imbalanced-learn->imblearn) (1.19.2)\u001b[0m\n",
      "\u001b[34mRequirement already satisfied: joblib>=0.11 in /miniconda3/lib/python3.7/site-packages (from imbalanced-learn->imblearn) (1.0.1)\u001b[0m\n",
      "\u001b[34mRequirement already satisfied: threadpoolctl>=2.0.0 in /miniconda3/lib/python3.7/site-packages (from scikit-learn>=0.24->imbalanced-learn->imblearn) (2.2.0)\u001b[0m\n",
      "\u001b[34mInstalling collected packages: scikit-learn, imbalanced-learn, imblearn\n",
      "  Attempting uninstall: scikit-learn\n",
      "    Found existing installation: scikit-learn 0.23.2\n",
      "    Uninstalling scikit-learn-0.23.2:\u001b[0m\n",
      "\u001b[34m      Successfully uninstalled scikit-learn-0.23.2\u001b[0m\n",
      "\u001b[34mSuccessfully installed imbalanced-learn-0.8.1 imblearn-0.0 scikit-learn-1.0.1\u001b[0m\n",
      "\u001b[34mERROR: pip's dependency resolver does not currently take into account all the packages that are installed. This behaviour is the source of the following dependency conflicts.\u001b[0m\n",
      "\u001b[34msagemaker-sklearn-container 2.0 requires scikit-learn==0.23.2, but you have scikit-learn 1.0.1 which is incompatible.\u001b[0m\n",
      "\u001b[34mWARNING: Running pip as the 'root' user can result in broken permissions and conflicting behaviour with the system package manager. It is recommended to use a virtual environment instead: https://pip.pypa.io/warnings/venv\u001b[0m\n",
      "\u001b[34mWARNING: You are using pip version 21.2.4; however, version 21.3.1 is available.\u001b[0m\n",
      "\u001b[34mYou should consider upgrading via the '/miniconda3/bin/python3 -m pip install --upgrade pip' command.\u001b[0m\n",
      "\u001b[34mRequirement already satisfied: scikit-learn in /miniconda3/lib/python3.7/site-packages (1.0.1)\u001b[0m\n",
      "\u001b[34mRequirement already satisfied: joblib>=0.11 in /miniconda3/lib/python3.7/site-packages (from scikit-learn) (1.0.1)\u001b[0m\n",
      "\u001b[34mRequirement already satisfied: scipy>=1.1.0 in /miniconda3/lib/python3.7/site-packages (from scikit-learn) (1.5.3)\u001b[0m\n",
      "\u001b[34mRequirement already satisfied: threadpoolctl>=2.0.0 in /miniconda3/lib/python3.7/site-packages (from scikit-learn) (2.2.0)\u001b[0m\n",
      "\u001b[34mRequirement already satisfied: numpy>=1.14.6 in /miniconda3/lib/python3.7/site-packages (from scikit-learn) (1.19.2)\u001b[0m\n",
      "\u001b[34mWARNING: Running pip as the 'root' user can result in broken permissions and conflicting behaviour with the system package manager. It is recommended to use a virtual environment instead: https://pip.pypa.io/warnings/venv\u001b[0m\n",
      "\u001b[34mWARNING: You are using pip version 21.2.4; however, version 21.3.1 is available.\u001b[0m\n",
      "\u001b[34mYou should consider upgrading via the '/miniconda3/bin/python3 -m pip install --upgrade pip' command.\u001b[0m\n",
      "\n"
     ]
    }
   ],
   "source": [
    "# Create dictionary with the data for each offer type\n",
    "output_configs = {}\n",
    "\n",
    "for target_name in ['bogo', 'discount', 'info']:\n",
    "    print(target_name)\n",
    "    \n",
    "    sklearn_processor = SKLearnProcessor(framework_version='0.23-1',\n",
    "                                         role=role,\n",
    "                                         instance_type='ml.m5.xlarge',\n",
    "                                         instance_count=1)\n",
    "    sklearn_processor.run(\n",
    "        code='model_utils/preprocess.py',\n",
    "        inputs=[ProcessingInput(os.path.join('s3://', \n",
    "        bucket, f'CapstoneProjectStarbucks/{target_name}.csv'), \n",
    "        '/opt/ml/processing/input')],\n",
    "        outputs=[\n",
    "            ProcessingOutput(source=f'/opt/ml/processing/output/',\n",
    "                             output_name=f'{target_name}_data')\n",
    "        ],\n",
    "        arguments=['--target', target_name]\n",
    "     )\n",
    "\n",
    "    preprocessing_job_description = sklearn_processor.jobs[-1].describe()\n",
    "    output_configs[target_name] = preprocessing_job_description[\n",
    "                                                    'ProcessingOutputConfig']"
   ]
  },
  {
   "cell_type": "code",
   "execution_count": 16,
   "id": "ec023393",
   "metadata": {},
   "outputs": [],
   "source": [
    "# Get location on S3\n",
    "preprocessed_data = {}\n",
    "\n",
    "for output in output_configs:\n",
    "    preprocessed_data[output] = \\\n",
    "            output_configs[output]['Outputs'][0]['S3Output']['S3Uri']\n",
    "\n",
    "# Move datasets to Project folder\n",
    "s3_client = boto3.client('s3')\n",
    "for k in preprocessed_data:\n",
    "    for f in ['train.csv', 'val.csv', 'test.csv', 'test_target.csv', \n",
    "              'transformer.joblib']:\n",
    "        copy_source = {'Bucket': bucket, \n",
    "           'Key': '/'.join(preprocessed_data[k][5:].split('/')[1:] + \\\n",
    "                                                       [f'{k}_{f}'])}\n",
    "        s3_client.copy_object(CopySource=copy_source, \n",
    "                  Bucket=bucket, Key=f'CapstoneProjectStarbucks/{k}/{k}_{f}')\n",
    "\n",
    "# Download the preprocessed datasets\n",
    "for k in preprocessed_data:\n",
    "    for f in ['train.csv', 'val.csv', 'test.csv', 'test_target.csv']:\n",
    "        session.download_data(f'./data/{k}/', bucket, \n",
    "                              f'CapstoneProjectStarbucks/{k}/{k}_{f}')"
   ]
  },
  {
   "cell_type": "code",
   "execution_count": 17,
   "id": "29ea365f",
   "metadata": {},
   "outputs": [],
   "source": [
    "# This dataset will contain all the information about the developed models\n",
    "best_model = {'bogo': {}, 'discount': {}, 'info': {}}"
   ]
  },
  {
   "cell_type": "code",
   "execution_count": 21,
   "id": "bc516b1a",
   "metadata": {},
   "outputs": [
    {
     "name": "stderr",
     "output_type": "stream",
     "text": [
      "The method get_image_uri has been renamed in sagemaker>=2.\n",
      "See: https://sagemaker.readthedocs.io/en/stable/v2.html for details.\n",
      "train_instance_count has been renamed in sagemaker>=2.\n",
      "See: https://sagemaker.readthedocs.io/en/stable/v2.html for details.\n",
      "train_instance_type has been renamed in sagemaker>=2.\n",
      "See: https://sagemaker.readthedocs.io/en/stable/v2.html for details.\n"
     ]
    },
    {
     "name": "stdout",
     "output_type": "stream",
     "text": [
      "...............................................................................................................................................................................................................................................................!\n",
      "Waiting bogo...\n",
      "!\n"
     ]
    },
    {
     "name": "stderr",
     "output_type": "stream",
     "text": [
      "train_instance_count has been renamed in sagemaker>=2.\n",
      "See: https://sagemaker.readthedocs.io/en/stable/v2.html for details.\n",
      "train_instance_type has been renamed in sagemaker>=2.\n",
      "See: https://sagemaker.readthedocs.io/en/stable/v2.html for details.\n"
     ]
    },
    {
     "name": "stdout",
     "output_type": "stream",
     "text": [
      "...........................................................................................................................................................................................................................................................!\n",
      "Waiting discount...\n",
      "!"
     ]
    },
    {
     "name": "stderr",
     "output_type": "stream",
     "text": [
      "train_instance_count has been renamed in sagemaker>=2.\n",
      "See: https://sagemaker.readthedocs.io/en/stable/v2.html for details.\n",
      "train_instance_type has been renamed in sagemaker>=2.\n",
      "See: https://sagemaker.readthedocs.io/en/stable/v2.html for details.\n"
     ]
    },
    {
     "name": "stdout",
     "output_type": "stream",
     "text": [
      "\n",
      "..............................................................................................................................................................................................................................................................!\n",
      "Waiting info...\n",
      "!\n"
     ]
    }
   ],
   "source": [
    "# Set the model image\n",
    "container = get_image_uri(session.boto_region_name, 'xgboost', '0.90-1')\n",
    "\n",
    "for prefix in ['bogo', 'discount', 'info']:\n",
    "    # Initialize XGBoost\n",
    "    xgb = sagemaker.estimator.Estimator(container,\n",
    "        role,\n",
    "        train_instance_count=1,\n",
    "        train_instance_type='ml.c4.xlarge',\n",
    "        output_path=f's3://{bucket}/CapstoneProjectStarbucks/{prefix}/model',\n",
    "        sagemaker_session=session,\n",
    "        base_job_name=prefix + '-')\n",
    "    \n",
    "    xgb.set_hyperparameters(max_depth=4,\n",
    "                            eta=0.1,\n",
    "                            gamma=4,\n",
    "                            min_child_weight=6,\n",
    "                            colsample_bytree=0.5,\n",
    "                            subsample=0.6,\n",
    "                            early_stopping_rounds=10,\n",
    "                            num_round=200,\n",
    "                            seed=1)\n",
    "\n",
    "    # Initialize Tuner\n",
    "    xgb_hyperparameter_tuner = HyperparameterTuner(estimator=xgb,\n",
    "                   objective_metric_name='validation:f1',\n",
    "                   objective_type='Maximize',\n",
    "                   max_jobs=20,\n",
    "                   max_parallel_jobs=4,\n",
    "                   hyperparameter_ranges = {\n",
    "                        'max_depth': IntegerParameter(2, 6),\n",
    "                        'eta'      : ContinuousParameter(0.01, 0.5),\n",
    "                        'gamma': ContinuousParameter(0, 10),\n",
    "                        'min_child_weight': IntegerParameter(2, 8),\n",
    "                        'colsample_bytree': ContinuousParameter(0.2, 1.0),\n",
    "                        'subsample': ContinuousParameter(0.3, 1.0),\n",
    "                   },\n",
    "                   base_tuning_job_name=prefix + '-xgb-tuning')\n",
    "\n",
    "    \n",
    "    # Take train and validation folders on S3\n",
    "    s3_input_train = sagemaker.inputs.TrainingInput(\n",
    "        s3_data=f's3://{bucket}/CapstoneProjectStarbucks/{prefix}/{prefix}_train.csv', content_type='csv')\n",
    "    s3_input_validation = sagemaker.inputs.TrainingInput(\n",
    "        s3_data=f's3://{bucket}/CapstoneProjectStarbucks/{prefix}/{prefix}_val.csv', content_type='csv')\n",
    "\n",
    "    # Fit the Tuner\n",
    "    xgb_hyperparameter_tuner.fit({'train': s3_input_train, \n",
    "                                  'validation': s3_input_validation})\n",
    "    \n",
    "    print(f'Waiting {prefix}...')\n",
    "    xgb_hyperparameter_tuner.wait()\n",
    "\n",
    "    # Save results and the best model\n",
    "    best_model[prefix]['xgb'] = {'name': \n",
    "         xgb_hyperparameter_tuner.best_training_job(),\n",
    "         'value': \n",
    "         xgb_hyperparameter_tuner.analytics().dataframe()[\\\n",
    "                                          'FinalObjectiveValue'].max()}"
   ]
  },
  {
   "cell_type": "code",
   "execution_count": 24,
   "id": "7938ce77",
   "metadata": {},
   "outputs": [
    {
     "name": "stdout",
     "output_type": "stream",
     "text": [
      "bogo\n",
      "\n",
      "2021-10-31 13:00:49 Starting - Preparing the instances for training\n",
      "2021-10-31 13:00:49 Downloading - Downloading input data\n",
      "2021-10-31 13:00:49 Training - Training image download completed. Training in progress.\n",
      "2021-10-31 13:00:49 Uploading - Uploading generated training model\n",
      "2021-10-31 13:00:49 Completed - Training job completed\n",
      "2021-10-31 15:38:25 Starting - Starting the training job...\n",
      "2021-10-31 15:38:48 Starting - Launching requested ML instancesProfilerReport-1635694705: InProgress\n",
      "......\n",
      "2021-10-31 15:39:48 Starting - Preparing the instances for training.........\n",
      "2021-10-31 15:41:12 Downloading - Downloading input data...\n",
      "2021-10-31 15:41:49 Training - Downloading the training image..\u001b[34mINFO:sagemaker-containers:Imported framework sagemaker_xgboost_container.training\u001b[0m\n",
      "\u001b[34mINFO:sagemaker-containers:Failed to parse hyperparameter _tuning_objective_metric value validation:f1 to Json.\u001b[0m\n",
      "\u001b[34mReturning the value itself\u001b[0m\n",
      "\u001b[34mINFO:sagemaker-containers:No GPUs detected (normal if no gpus installed)\u001b[0m\n",
      "\u001b[34mINFO:sagemaker_xgboost_container.training:Running XGBoost Sagemaker in algorithm mode\u001b[0m\n",
      "\u001b[34mINFO:root:Determined delimiter of CSV input is ','\u001b[0m\n",
      "\u001b[34mINFO:root:Determined delimiter of CSV input is ','\u001b[0m\n",
      "\u001b[34mINFO:root:Determined delimiter of CSV input is ','\u001b[0m\n",
      "\u001b[34m[15:42:00] 12425x15 matrix with 186375 entries loaded from /opt/ml/input/data/train?format=csv&label_column=0&delimiter=,\u001b[0m\n",
      "\u001b[34mINFO:root:Determined delimiter of CSV input is ','\u001b[0m\n",
      "\u001b[34m[15:42:00] 3551x15 matrix with 53265 entries loaded from /opt/ml/input/data/validation?format=csv&label_column=0&delimiter=,\u001b[0m\n",
      "\u001b[34mINFO:root:Single node training.\u001b[0m\n",
      "\u001b[34mINFO:root:Setting up HPO optimized metric to be : f1\u001b[0m\n",
      "\u001b[34mINFO:root:Train matrix has 12425 rows\u001b[0m\n",
      "\u001b[34mINFO:root:Validation matrix has 3551 rows\u001b[0m\n",
      "\u001b[34m[0]#011train-rmse:0.457269#011validation-rmse:0.460157#011train-f1:0.730638#011validation-f1:0.719528\u001b[0m\n",
      "\u001b[34m[1]#011train-rmse:0.438182#011validation-rmse:0.442973#011train-f1:0.734448#011validation-f1:0.724676\u001b[0m\n",
      "\u001b[34m[2]#011train-rmse:0.428402#011validation-rmse:0.434477#011train-f1:0.741539#011validation-f1:0.732169\u001b[0m\n",
      "\u001b[34m[3]#011train-rmse:0.422293#011validation-rmse:0.43029#011train-f1:0.749112#011validation-f1:0.730457\u001b[0m\n",
      "\u001b[34m[4]#011train-rmse:0.418142#011validation-rmse:0.428067#011train-f1:0.750556#011validation-f1:0.734105\u001b[0m\n",
      "\u001b[34m[5]#011train-rmse:0.414382#011validation-rmse:0.425941#011train-f1:0.754644#011validation-f1:0.734664\u001b[0m\n",
      "\u001b[34m[6]#011train-rmse:0.412242#011validation-rmse:0.42548#011train-f1:0.756931#011validation-f1:0.73638\u001b[0m\n",
      "\u001b[34m[7]#011train-rmse:0.409974#011validation-rmse:0.423788#011train-f1:0.758381#011validation-f1:0.73864\u001b[0m\n",
      "\u001b[34m[8]#011train-rmse:0.407843#011validation-rmse:0.42381#011train-f1:0.760551#011validation-f1:0.738656\u001b[0m\n",
      "\u001b[34m[9]#011train-rmse:0.406842#011validation-rmse:0.423356#011train-f1:0.761192#011validation-f1:0.742027\u001b[0m\n",
      "\u001b[34m[10]#011train-rmse:0.405705#011validation-rmse:0.423425#011train-f1:0.763109#011validation-f1:0.744823\u001b[0m\n",
      "\n",
      "2021-10-31 15:42:11 Uploading - Uploading generated training model\n",
      "2021-10-31 15:42:11 Completed - Training job completed\n",
      "Training seconds: 59\n",
      "Billable seconds: 59\n",
      "discount\n",
      "\n",
      "2021-10-31 13:22:21 Starting - Preparing the instances for training\n",
      "2021-10-31 13:22:21 Downloading - Downloading input data\n",
      "2021-10-31 13:22:21 Training - Training image download completed. Training in progress.\n",
      "2021-10-31 13:22:21 Uploading - Uploading generated training model\n",
      "2021-10-31 13:22:21 Completed - Training job completed\n",
      "2021-10-31 15:42:38 Starting - Starting the training job...\n",
      "2021-10-31 15:43:02 Starting - Launching requested ML instancesProfilerReport-1635694958: InProgress\n",
      "...\n",
      "2021-10-31 15:43:38 Starting - Preparing the instances for training.........\n",
      "2021-10-31 15:45:08 Downloading - Downloading input data...\n",
      "2021-10-31 15:45:34 Training - Downloading the training image..\u001b[34mINFO:sagemaker-containers:Imported framework sagemaker_xgboost_container.training\u001b[0m\n",
      "\u001b[34mINFO:sagemaker-containers:Failed to parse hyperparameter _tuning_objective_metric value validation:f1 to Json.\u001b[0m\n",
      "\u001b[34mReturning the value itself\u001b[0m\n",
      "\u001b[34mINFO:sagemaker-containers:No GPUs detected (normal if no gpus installed)\u001b[0m\n",
      "\u001b[34mINFO:sagemaker_xgboost_container.training:Running XGBoost Sagemaker in algorithm mode\u001b[0m\n",
      "\u001b[34mINFO:root:Determined delimiter of CSV input is ','\u001b[0m\n",
      "\u001b[34mINFO:root:Determined delimiter of CSV input is ','\u001b[0m\n",
      "\u001b[34mINFO:root:Determined delimiter of CSV input is ','\u001b[0m\n",
      "\u001b[34m[15:45:52] 7170x15 matrix with 107550 entries loaded from /opt/ml/input/data/train?format=csv&label_column=0&delimiter=,\u001b[0m\n",
      "\u001b[34mINFO:root:Determined delimiter of CSV input is ','\u001b[0m\n",
      "\u001b[34m[15:45:52] 2049x15 matrix with 30735 entries loaded from /opt/ml/input/data/validation?format=csv&label_column=0&delimiter=,\u001b[0m\n",
      "\u001b[34mINFO:root:Single node training.\u001b[0m\n",
      "\u001b[34mINFO:root:Setting up HPO optimized metric to be : f1\u001b[0m\n",
      "\u001b[34mINFO:root:Train matrix has 7170 rows\u001b[0m\n",
      "\u001b[34mINFO:root:Validation matrix has 2049 rows\u001b[0m\n",
      "\u001b[34m[0]#011train-rmse:0.472597#011validation-rmse:0.469911#011train-f1:0.672409#011validation-f1:0.690897\u001b[0m\n",
      "\u001b[34m[1]#011train-rmse:0.46#011validation-rmse:0.456114#011train-f1:0.690222#011validation-f1:0.70017\u001b[0m\n",
      "\u001b[34m[2]#011train-rmse:0.454201#011validation-rmse:0.449213#011train-f1:0.689825#011validation-f1:0.695248\u001b[0m\n",
      "\u001b[34m[3]#011train-rmse:0.448525#011validation-rmse:0.444118#011train-f1:0.704797#011validation-f1:0.716412\u001b[0m\n",
      "\u001b[34m[4]#011train-rmse:0.444827#011validation-rmse:0.441063#011train-f1:0.706744#011validation-f1:0.716025\u001b[0m\n",
      "\u001b[34m[5]#011train-rmse:0.441364#011validation-rmse:0.437957#011train-f1:0.71418#011validation-f1:0.727902\u001b[0m\n",
      "\u001b[34m[6]#011train-rmse:0.439459#011validation-rmse:0.436558#011train-f1:0.715104#011validation-f1:0.733987\u001b[0m\n",
      "\u001b[34m[7]#011train-rmse:0.437621#011validation-rmse:0.434875#011train-f1:0.718943#011validation-f1:0.727906\u001b[0m\n",
      "\u001b[34m[8]#011train-rmse:0.436264#011validation-rmse:0.433998#011train-f1:0.721257#011validation-f1:0.728885\u001b[0m\n",
      "\u001b[34m[9]#011train-rmse:0.434973#011validation-rmse:0.432573#011train-f1:0.721923#011validation-f1:0.734334\u001b[0m\n",
      "\u001b[34m[10]#011train-rmse:0.434037#011validation-rmse:0.431889#011train-f1:0.725301#011validation-f1:0.735889\u001b[0m\n",
      "\n",
      "2021-10-31 15:46:04 Uploading - Uploading generated training model\n",
      "2021-10-31 15:46:04 Completed - Training job completed\n",
      "Training seconds: 56\n",
      "Billable seconds: 56\n",
      "info\n",
      "\n",
      "2021-10-31 13:43:26 Starting - Preparing the instances for training\n",
      "2021-10-31 13:43:26 Downloading - Downloading input data\n",
      "2021-10-31 13:43:26 Training - Training image download completed. Training in progress.\n",
      "2021-10-31 13:43:26 Uploading - Uploading generated training model\n",
      "2021-10-31 13:43:26 Completed - Training job completed\n",
      "2021-10-31 15:46:27 Starting - Starting the training job...\n",
      "2021-10-31 15:46:29 Starting - Launching requested ML instancesProfilerReport-1635695187: InProgress\n",
      "...\n",
      "2021-10-31 15:47:25 Starting - Preparing the instances for training.........\n",
      "2021-10-31 15:48:55 Downloading - Downloading input data...\n",
      "2021-10-31 15:49:20 Training - Downloading the training image...\n",
      "2021-10-31 15:49:56 Uploading - Uploading generated training model\n",
      "2021-10-31 15:49:56 Completed - Training job completed\n",
      "\u001b[34mINFO:sagemaker-containers:Imported framework sagemaker_xgboost_container.training\u001b[0m\n",
      "\u001b[34mINFO:sagemaker-containers:Failed to parse hyperparameter _tuning_objective_metric value validation:f1 to Json.\u001b[0m\n",
      "\u001b[34mReturning the value itself\u001b[0m\n",
      "\u001b[34mINFO:sagemaker-containers:No GPUs detected (normal if no gpus installed)\u001b[0m\n",
      "\u001b[34mINFO:sagemaker_xgboost_container.training:Running XGBoost Sagemaker in algorithm mode\u001b[0m\n",
      "\u001b[34mINFO:root:Determined delimiter of CSV input is ','\u001b[0m\n",
      "\u001b[34mINFO:root:Determined delimiter of CSV input is ','\u001b[0m\n",
      "\u001b[34mINFO:root:Determined delimiter of CSV input is ','\u001b[0m\n",
      "\u001b[34m[15:49:44] 4713x15 matrix with 70695 entries loaded from /opt/ml/input/data/train?format=csv&label_column=0&delimiter=,\u001b[0m\n",
      "\u001b[34mINFO:root:Determined delimiter of CSV input is ','\u001b[0m\n",
      "\u001b[34m[15:49:44] 1347x15 matrix with 20205 entries loaded from /opt/ml/input/data/validation?format=csv&label_column=0&delimiter=,\u001b[0m\n",
      "\u001b[34mINFO:root:Single node training.\u001b[0m\n",
      "\u001b[34mINFO:root:Setting up HPO optimized metric to be : f1\u001b[0m\n",
      "\u001b[34mINFO:root:Train matrix has 4713 rows\u001b[0m\n",
      "\u001b[34mINFO:root:Validation matrix has 1347 rows\u001b[0m\n",
      "\u001b[34m[0]#011train-rmse:0.487792#011validation-rmse:0.490518#011train-f1:0.61146#011validation-f1:0.592546\u001b[0m\n",
      "\u001b[34m[1]#011train-rmse:0.476682#011validation-rmse:0.482639#011train-f1:0.648228#011validation-f1:0.634734\u001b[0m\n",
      "\u001b[34m[2]#011train-rmse:0.471922#011validation-rmse:0.479921#011train-f1:0.6507#011validation-f1:0.627274\u001b[0m\n",
      "\u001b[34m[3]#011train-rmse:0.464665#011validation-rmse:0.474113#011train-f1:0.657233#011validation-f1:0.646493\u001b[0m\n",
      "\u001b[34m[4]#011train-rmse:0.461019#011validation-rmse:0.473448#011train-f1:0.666856#011validation-f1:0.636333\u001b[0m\n",
      "\u001b[34m[5]#011train-rmse:0.456611#011validation-rmse:0.469313#011train-f1:0.671853#011validation-f1:0.648723\u001b[0m\n",
      "\u001b[34m[6]#011train-rmse:0.455525#011validation-rmse:0.469354#011train-f1:0.674034#011validation-f1:0.648539\u001b[0m\n",
      "\u001b[34m[7]#011train-rmse:0.453051#011validation-rmse:0.467099#011train-f1:0.676015#011validation-f1:0.651172\u001b[0m\n",
      "\u001b[34m[8]#011train-rmse:0.451241#011validation-rmse:0.468343#011train-f1:0.676667#011validation-f1:0.651258\u001b[0m\n",
      "\u001b[34m[9]#011train-rmse:0.44925#011validation-rmse:0.465794#011train-f1:0.676974#011validation-f1:0.653659\u001b[0m\n",
      "\u001b[34m[10]#011train-rmse:0.448799#011validation-rmse:0.466159#011train-f1:0.678159#011validation-f1:0.655036\u001b[0m\n"
     ]
    },
    {
     "name": "stdout",
     "output_type": "stream",
     "text": [
      "Training seconds: 61\n",
      "Billable seconds: 61\n"
     ]
    }
   ],
   "source": [
    "# Retrain the best model\n",
    "for prefix in ['bogo', 'discount', 'info']:\n",
    "    print(prefix)\n",
    "    \n",
    "    tuner = sagemaker.estimator.Estimator.attach(\\\n",
    "                                 best_model[prefix]['xgb']['name'])\n",
    "    \n",
    "    s3_input_train = sagemaker.inputs.TrainingInput(\\\n",
    "                    s3_data=f's3://{bucket}/CapstoneProjectStarbucks/{prefix}/{prefix}_train.csv', content_type='csv')\n",
    "    s3_input_validation = sagemaker.inputs.TrainingInput(\\\n",
    "                     s3_data=f's3://{bucket}/CapstoneProjectStarbucks/{prefix}/{prefix}_val.csv', \n",
    "                                             content_type='csv')\n",
    "\n",
    "    tuner.fit({'train': s3_input_train, 'validation': s3_input_validation})\n",
    "\n",
    "    best_model[prefix]['xgb']['model'] = tuner"
   ]
  },
  {
   "cell_type": "code",
   "execution_count": 25,
   "id": "5e2854fa",
   "metadata": {},
   "outputs": [
    {
     "name": "stderr",
     "output_type": "stream",
     "text": [
      "train_instance_count has been renamed in sagemaker>=2.\n",
      "See: https://sagemaker.readthedocs.io/en/stable/v2.html for details.\n",
      "train_instance_type has been renamed in sagemaker>=2.\n",
      "See: https://sagemaker.readthedocs.io/en/stable/v2.html for details.\n",
      "Defaulting to the only supported framework/algorithm version: 1. Ignoring framework/algorithm version: 1.\n",
      "Defaulting to the only supported framework/algorithm version: 1. Ignoring framework/algorithm version: 1.\n"
     ]
    },
    {
     "name": "stdout",
     "output_type": "stream",
     "text": [
      "\n",
      "2021-10-31 15:50:14 Starting - Starting the training job.\n",
      "2021-10-31 15:50:22 Starting - Launching requested ML instances..........\n",
      "2021-10-31 15:51:18 Starting - Preparing the instances for training.........................\n",
      "2021-10-31 15:53:27 Downloading - Downloading input data..\n",
      "2021-10-31 15:53:45 Training - Downloading the training image...\n",
      "2021-10-31 15:54:05 Training - Training image download completed. Training in progress...........................\n",
      "2021-10-31 15:56:17 Uploading - Uploading generated training model\n",
      "2021-10-31 15:56:25 Completed - Training job completed"
     ]
    },
    {
     "name": "stderr",
     "output_type": "stream",
     "text": [
      "Warning: No metrics called train:binary_f_beta found\n",
      "Warning: No metrics called validation:binary_log_loss found\n",
      "Warning: No metrics called test:binary_f_beta found\n",
      "Warning: No metrics called test:recall found\n",
      "Warning: No metrics called test:objective_loss found\n",
      "Warning: No metrics called validation:binary_balanced_accuracy found\n"
     ]
    },
    {
     "name": "stdout",
     "output_type": "stream",
     "text": [
      "\n"
     ]
    },
    {
     "name": "stderr",
     "output_type": "stream",
     "text": [
      "Warning: No metrics called test:precision found\n",
      "Warning: No metrics called train:binary_classification_accuracy found\n",
      "Warning: No metrics called train:recall found\n",
      "Warning: No metrics called train:precision found\n",
      "Warning: No metrics called train:objective_loss:final found\n",
      "Warning: No metrics called test:binary_classification_accuracy found\n",
      "Warning: No metrics called test:roc_auc_score found\n",
      "train_instance_count has been renamed in sagemaker>=2.\n",
      "See: https://sagemaker.readthedocs.io/en/stable/v2.html for details.\n",
      "train_instance_type has been renamed in sagemaker>=2.\n",
      "See: https://sagemaker.readthedocs.io/en/stable/v2.html for details.\n",
      "Defaulting to the only supported framework/algorithm version: 1. Ignoring framework/algorithm version: 1.\n",
      "Defaulting to the only supported framework/algorithm version: 1. Ignoring framework/algorithm version: 1.\n"
     ]
    },
    {
     "name": "stdout",
     "output_type": "stream",
     "text": [
      "\n",
      "2021-10-31 15:56:27 Starting - Starting the training job\n",
      "2021-10-31 15:56:29 Starting - Launching requested ML instances...............\n",
      "2021-10-31 15:57:52 Starting - Preparing the instances for training..........................\n",
      "2021-10-31 16:00:05 Downloading - Downloading input data..\n",
      "2021-10-31 16:00:23 Training - Downloading the training image....\n",
      "2021-10-31 16:00:45 Training - Training image download completed. Training in progress...................\n",
      "2021-10-31 16:02:23 Uploading - Uploading generated training model.\n",
      "2021-10-31 16:02:32 Completed - Training job completed"
     ]
    },
    {
     "name": "stderr",
     "output_type": "stream",
     "text": [
      "Warning: No metrics called train:binary_f_beta found\n",
      "Warning: No metrics called validation:binary_log_loss found\n",
      "Warning: No metrics called test:binary_f_beta found\n",
      "Warning: No metrics called test:recall found\n",
      "Warning: No metrics called test:objective_loss found\n",
      "Warning: No metrics called validation:binary_balanced_accuracy found\n"
     ]
    },
    {
     "name": "stdout",
     "output_type": "stream",
     "text": [
      "\n"
     ]
    },
    {
     "name": "stderr",
     "output_type": "stream",
     "text": [
      "Warning: No metrics called test:precision found\n",
      "Warning: No metrics called train:binary_classification_accuracy found\n",
      "Warning: No metrics called train:recall found\n",
      "Warning: No metrics called train:precision found\n",
      "Warning: No metrics called train:objective_loss:final found\n",
      "Warning: No metrics called test:binary_classification_accuracy found\n",
      "Warning: No metrics called test:roc_auc_score found\n",
      "train_instance_count has been renamed in sagemaker>=2.\n",
      "See: https://sagemaker.readthedocs.io/en/stable/v2.html for details.\n",
      "train_instance_type has been renamed in sagemaker>=2.\n",
      "See: https://sagemaker.readthedocs.io/en/stable/v2.html for details.\n",
      "Defaulting to the only supported framework/algorithm version: 1. Ignoring framework/algorithm version: 1.\n",
      "Defaulting to the only supported framework/algorithm version: 1. Ignoring framework/algorithm version: 1.\n"
     ]
    },
    {
     "name": "stdout",
     "output_type": "stream",
     "text": [
      "\n",
      "2021-10-31 16:02:36 Starting - Starting the training job\n",
      "2021-10-31 16:02:39 Starting - Launching requested ML instances............\n",
      "2021-10-31 16:03:46 Starting - Preparing the instances for training.......................\n",
      "2021-10-31 16:05:45 Downloading - Downloading input data\n",
      "2021-10-31 16:05:51 Training - Downloading the training image...\n",
      "2021-10-31 16:06:12 Training - Training image download completed. Training in progress................\n",
      "2021-10-31 16:07:29 Uploading - Uploading generated training model\n",
      "2021-10-31 16:07:37 Completed - Training job completed"
     ]
    },
    {
     "name": "stderr",
     "output_type": "stream",
     "text": [
      "Warning: No metrics called train:binary_f_beta found\n",
      "Warning: No metrics called validation:binary_log_loss found\n",
      "Warning: No metrics called test:binary_f_beta found\n",
      "Warning: No metrics called test:recall found\n",
      "Warning: No metrics called test:objective_loss found\n",
      "Warning: No metrics called validation:binary_balanced_accuracy found\n"
     ]
    },
    {
     "name": "stdout",
     "output_type": "stream",
     "text": [
      "\n"
     ]
    },
    {
     "name": "stderr",
     "output_type": "stream",
     "text": [
      "Warning: No metrics called test:precision found\n",
      "Warning: No metrics called train:binary_classification_accuracy found\n",
      "Warning: No metrics called train:recall found\n",
      "Warning: No metrics called train:precision found\n",
      "Warning: No metrics called train:objective_loss:final found\n",
      "Warning: No metrics called test:binary_classification_accuracy found\n",
      "Warning: No metrics called test:roc_auc_score found\n"
     ]
    }
   ],
   "source": [
    "# Train the Linear Model\n",
    "for prefix in ['bogo', 'discount', 'info']:\n",
    "    # Create instance of LinearLearner\n",
    "    ll = LinearLearner(role,\n",
    "           train_instance_count=1, \n",
    "           train_instance_type='ml.c4.xlarge',\n",
    "           predictor_type='binary_classifier',\n",
    "           output_path='s3://{}/CapstoneProjectStarbucks/{}/model'.format(\\\n",
    "                                                          bucket, prefix),\n",
    "           sagemaker_session=session,\n",
    "           binary_classifier_model_selection_criteria='f1',\n",
    "           epochs=100,\n",
    "           use_bias=True,\n",
    "           optimizer='adam',\n",
    "           loss='auto',\n",
    "           wd=0,\n",
    "           normalize_data=True,\n",
    "           unbias_data=True,\n",
    "           early_stopping_patience=5,\n",
    "           learning_rate=0.01,\n",
    "           balance_multiclass_weights=True)\n",
    "    \n",
    "    # Create Sets from the local data as the inputs to the Linear model\n",
    "    train = pd.read_csv(f'./data/{prefix}/{prefix}_train.csv', header=None)\n",
    "    train_data = ll.record_set(train.drop(0, 1).values.astype('float32'), \n",
    "                   labels=train[0].values.astype('float32'), channel='train')\n",
    "    \n",
    "    valid = pd.read_csv(f'./data/{prefix}/{prefix}_train.csv', header=None)\n",
    "    validation_data = ll.record_set(valid.drop(0, 1).values.astype('float32'), \n",
    "                labels=valid[0].values.astype('float32'), channel='validation')\n",
    "\n",
    "    # Fit the model\n",
    "    ll.fit([train_data, validation_data], logs=False)\n",
    "\n",
    "    # Save results\n",
    "    tja = ll.training_job_analytics\n",
    "    res = tja.dataframe()\n",
    "    best_model[prefix]['ll'] = {'name': tja.name,\n",
    "        'value': res.loc[res['metric_name'] == 'validation:binary_f_beta', \n",
    "                         'value'].values[0],\n",
    "        'model': ll}"
   ]
  },
  {
   "cell_type": "markdown",
   "id": "4dbc063f",
   "metadata": {},
   "source": [
    "We see that for Bogo and Discount XGB provides the best result, while for Informational offer the Linear model is the most suiting one."
   ]
  },
  {
   "cell_type": "code",
   "execution_count": 26,
   "id": "e9020732",
   "metadata": {},
   "outputs": [
    {
     "name": "stdout",
     "output_type": "stream",
     "text": [
      "{'bogo': {'ll': {'model': <sagemaker.amazon.linear_learner.LinearLearner object at 0x7f5c44adfcf8>,\n",
      "                 'name': 'linear-learner-2021-10-31-15-50-14-130',\n",
      "                 'value': 0.7183136412459721},\n",
      "          'xgb': {'model': <sagemaker.estimator.Estimator object at 0x7f5c4791afd0>,\n",
      "                  'name': 'bogo-xgb-tuning-211031-1240-020-6be16c90',\n",
      "                  'value': 0.7448229789733887}},\n",
      " 'discount': {'ll': {'model': <sagemaker.amazon.linear_learner.LinearLearner object at 0x7f5c46aef080>,\n",
      "                     'name': 'linear-learner-2021-10-31-15-56-27-606',\n",
      "                     'value': 0.712468193384224},\n",
      "              'xgb': {'model': <sagemaker.estimator.Estimator object at 0x7f5c49297d68>,\n",
      "                      'name': 'discount-xgb-tuning-211031-1301-020-1a4af985',\n",
      "                      'value': 0.7358890175819397}},\n",
      " 'info': {'ll': {'model': <sagemaker.amazon.linear_learner.LinearLearner object at 0x7f5c46aef240>,\n",
      "                 'name': 'linear-learner-2021-10-31-16-02-35-933',\n",
      "                 'value': 0.6948876587430804},\n",
      "          'xgb': {'model': <sagemaker.estimator.Estimator object at 0x7f5c44f8fcc0>,\n",
      "                  'name': 'info-xgb-tuning-211031-1323-017-471719b6',\n",
      "                  'value': 0.6550359725952148}}}\n"
     ]
    }
   ],
   "source": [
    "# Print the best model\n",
    "pprint.pprint(best_model)"
   ]
  },
  {
   "cell_type": "code",
   "execution_count": 28,
   "id": "a7c22db7",
   "metadata": {},
   "outputs": [
    {
     "name": "stderr",
     "output_type": "stream",
     "text": [
      "Defaulting to the only supported framework/algorithm version: 1. Ignoring framework/algorithm version: 1.\n"
     ]
    },
    {
     "name": "stdout",
     "output_type": "stream",
     "text": [
      "bogo\n",
      ".....................................................................!\n",
      "!\n",
      "..................................................................!"
     ]
    },
    {
     "name": "stderr",
     "output_type": "stream",
     "text": [
      "Defaulting to the only supported framework/algorithm version: 1. Ignoring framework/algorithm version: 1.\n"
     ]
    },
    {
     "name": "stdout",
     "output_type": "stream",
     "text": [
      "\n",
      "discount\n",
      "......................................................................!\n",
      "!\n",
      "....................................................................!\n",
      "info\n"
     ]
    },
    {
     "name": "stderr",
     "output_type": "stream",
     "text": [
      "Defaulting to the only supported framework/algorithm version: 1. Ignoring framework/algorithm version: 1.\n"
     ]
    },
    {
     "name": "stdout",
     "output_type": "stream",
     "text": [
      "....................................................................!\n",
      "!\n",
      "...............................................................!\n"
     ]
    }
   ],
   "source": [
    "# Create Transformers\n",
    "for prefix in ['bogo','discount', 'info']:\n",
    "    print(prefix)\n",
    "\n",
    "    # Create XGB Transformer\n",
    "    transformer = best_model[prefix]['ll']['model'].transformer(\\\n",
    "                        instance_count = 1, instance_type = 'ml.m4.xlarge')\n",
    "\n",
    "    # Batch transform\n",
    "    transformer.transform(f's3://{bucket}/CapstoneProjectStarbucks/{prefix}/{prefix}_test.csv',\n",
    "                   content_type='text/csv', split_type='Line', logs=False)\n",
    "    \n",
    "    transformer.wait(logs=False)\n",
    "    \n",
    "    # Download the data\n",
    "    session.download_data(f'./data/{prefix}/{prefix}_ll_preds', bucket,\n",
    "                  key_prefix='/'.join(transformer.output_path.split('/')[3:]))\n",
    "    \n",
    "    # Create Linear Transformer\n",
    "    transformer = best_model[prefix]['xgb']['model'].transformer(\\\n",
    "                     instance_count = 1, instance_type = 'ml.m4.xlarge')\n",
    "\n",
    "    # Batch transform\n",
    "    transformer.transform(f's3://{bucket}/CapstoneProjectStarbucks/{prefix}/{prefix}_test.csv',\n",
    "       content_type='text/csv', split_type='Line', wait=True, logs=False)\n",
    "\n",
    "    # Download the data\n",
    "    session.download_data(f'./data/{prefix}/{prefix}_xgb_preds', bucket,\n",
    "                  key_prefix='/'.join(transformer.output_path.split('/')[3:]))"
   ]
  },
  {
   "cell_type": "code",
   "execution_count": 39,
   "id": "87c9884e",
   "metadata": {},
   "outputs": [],
   "source": [
    "# Create a function to assess the results\n",
    "def assess_model(y, y_prob, y_pred=None):\n",
    "    '''\n",
    "    This function provides performance measures for ML models, given\n",
    "    the true labels and the predictions. In addition, it plots the \n",
    "    ROC Curve and the Confusion Matrix.\n",
    "    \n",
    "    Args:\n",
    "    y (list/numpy.array) - the true labels\n",
    "    y_prob (list/numpy.array) - model-returned probabilities\n",
    "    y_pred (list/numpy.array) - Predictions returned by the model.\n",
    "    \n",
    "    Outputs:\n",
    "    res (DataFrame) - dataset contains a list of the most used performance\n",
    "    measures for the data provided.\n",
    "    '''\n",
    "\n",
    "    \n",
    "    if y_pred is None:\n",
    "        y_pred = pd.Series([1 if x >= 0.5 else 0 for x in y_prob])\n",
    "        \n",
    "    res = pd.DataFrame(\n",
    "        {'value': [accuracy_score(y, y_pred),\n",
    "                   balanced_accuracy_score(y, y_pred),\n",
    "                   precision_score(y, y_pred), recall_score(y, y_pred),\n",
    "                   f1_score(y, y_pred),\n",
    "                   average_precision_score(y, y_prob),\n",
    "                   roc_auc_score(y, y_prob)]\n",
    "         },\n",
    "        index=['accuracy', 'balanced_accuracy', 'precision', 'recall', 'f1',\n",
    "               'average_precision', 'AUC']\n",
    "    )\n",
    "\n",
    "    fpr, tpr, _ = roc_curve(y, y_prob)\n",
    "    plt.plot(fpr, tpr)\n",
    "    plt.title('ROC Curve')\n",
    "    plt.show()\n",
    "\n",
    "    print('Confusion matrix')\n",
    "    display(pd.crosstab(y, y_pred, normalize='index'))\n",
    "\n",
    "    return res"
   ]
  },
  {
   "cell_type": "code",
   "execution_count": 40,
   "id": "d8a7ac2a",
   "metadata": {
    "scrolled": false
   },
   "outputs": [
    {
     "name": "stdout",
     "output_type": "stream",
     "text": [
      "bogo Offer\n",
      "XGBoost Model\n"
     ]
    },
    {
     "data": {
      "image/png": "[encoded data removed]",
      "text/plain": [
       "<Figure size 432x288 with 1 Axes>"
      ]
     },
     "metadata": {
      "needs_background": "light"
     },
     "output_type": "display_data"
    },
    {
     "name": "stdout",
     "output_type": "stream",
     "text": [
      "Confusion matrix\n"
     ]
    },
    {
     "data": {
      "text/html": [
       "<div>\n",
       "<style scoped>\n",
       "    .dataframe tbody tr th:only-of-type {\n",
       "        vertical-align: middle;\n",
       "    }\n",
       "\n",
       "    .dataframe tbody tr th {\n",
       "        vertical-align: top;\n",
       "    }\n",
       "\n",
       "    .dataframe thead th {\n",
       "        text-align: right;\n",
       "    }\n",
       "</style>\n",
       "<table border=\"1\" class=\"dataframe\">\n",
       "  <thead>\n",
       "    <tr style=\"text-align: right;\">\n",
       "      <th>col_0</th>\n",
       "      <th>0</th>\n",
       "      <th>1</th>\n",
       "    </tr>\n",
       "    <tr>\n",
       "      <th>0</th>\n",
       "      <th></th>\n",
       "      <th></th>\n",
       "    </tr>\n",
       "  </thead>\n",
       "  <tbody>\n",
       "    <tr>\n",
       "      <th>0.0</th>\n",
       "      <td>0.685811</td>\n",
       "      <td>0.314189</td>\n",
       "    </tr>\n",
       "    <tr>\n",
       "      <th>1.0</th>\n",
       "      <td>0.256757</td>\n",
       "      <td>0.743243</td>\n",
       "    </tr>\n",
       "  </tbody>\n",
       "</table>\n",
       "</div>"
      ],
      "text/plain": [
       "col_0         0         1\n",
       "0                        \n",
       "0.0    0.685811  0.314189\n",
       "1.0    0.256757  0.743243"
      ]
     },
     "metadata": {},
     "output_type": "display_data"
    },
    {
     "data": {
      "text/html": [
       "<div>\n",
       "<style scoped>\n",
       "    .dataframe tbody tr th:only-of-type {\n",
       "        vertical-align: middle;\n",
       "    }\n",
       "\n",
       "    .dataframe tbody tr th {\n",
       "        vertical-align: top;\n",
       "    }\n",
       "\n",
       "    .dataframe thead th {\n",
       "        text-align: right;\n",
       "    }\n",
       "</style>\n",
       "<table border=\"1\" class=\"dataframe\">\n",
       "  <thead>\n",
       "    <tr style=\"text-align: right;\">\n",
       "      <th></th>\n",
       "      <th>value</th>\n",
       "    </tr>\n",
       "  </thead>\n",
       "  <tbody>\n",
       "    <tr>\n",
       "      <th>accuracy</th>\n",
       "      <td>0.714527</td>\n",
       "    </tr>\n",
       "    <tr>\n",
       "      <th>balanced_accuracy</th>\n",
       "      <td>0.714527</td>\n",
       "    </tr>\n",
       "    <tr>\n",
       "      <th>precision</th>\n",
       "      <td>0.702875</td>\n",
       "    </tr>\n",
       "    <tr>\n",
       "      <th>recall</th>\n",
       "      <td>0.743243</td>\n",
       "    </tr>\n",
       "    <tr>\n",
       "      <th>f1</th>\n",
       "      <td>0.722496</td>\n",
       "    </tr>\n",
       "    <tr>\n",
       "      <th>average_precision</th>\n",
       "      <td>0.751441</td>\n",
       "    </tr>\n",
       "    <tr>\n",
       "      <th>AUC</th>\n",
       "      <td>0.770225</td>\n",
       "    </tr>\n",
       "  </tbody>\n",
       "</table>\n",
       "</div>"
      ],
      "text/plain": [
       "                      value\n",
       "accuracy           0.714527\n",
       "balanced_accuracy  0.714527\n",
       "precision          0.702875\n",
       "recall             0.743243\n",
       "f1                 0.722496\n",
       "average_precision  0.751441\n",
       "AUC                0.770225"
      ]
     },
     "metadata": {},
     "output_type": "display_data"
    },
    {
     "name": "stdout",
     "output_type": "stream",
     "text": [
      "LinearLearner Model\n"
     ]
    },
    {
     "data": {
      "image/png": "[encoded data removed]",
      "text/plain": [
       "<Figure size 432x288 with 1 Axes>"
      ]
     },
     "metadata": {
      "needs_background": "light"
     },
     "output_type": "display_data"
    },
    {
     "name": "stdout",
     "output_type": "stream",
     "text": [
      "Confusion matrix\n"
     ]
    },
    {
     "data": {
      "text/html": [
       "<div>\n",
       "<style scoped>\n",
       "    .dataframe tbody tr th:only-of-type {\n",
       "        vertical-align: middle;\n",
       "    }\n",
       "\n",
       "    .dataframe tbody tr th {\n",
       "        vertical-align: top;\n",
       "    }\n",
       "\n",
       "    .dataframe thead th {\n",
       "        text-align: right;\n",
       "    }\n",
       "</style>\n",
       "<table border=\"1\" class=\"dataframe\">\n",
       "  <thead>\n",
       "    <tr style=\"text-align: right;\">\n",
       "      <th>col_0</th>\n",
       "      <th>0</th>\n",
       "      <th>1</th>\n",
       "    </tr>\n",
       "    <tr>\n",
       "      <th>0</th>\n",
       "      <th></th>\n",
       "      <th></th>\n",
       "    </tr>\n",
       "  </thead>\n",
       "  <tbody>\n",
       "    <tr>\n",
       "      <th>0.0</th>\n",
       "      <td>0.457207</td>\n",
       "      <td>0.542793</td>\n",
       "    </tr>\n",
       "    <tr>\n",
       "      <th>1.0</th>\n",
       "      <td>0.140766</td>\n",
       "      <td>0.859234</td>\n",
       "    </tr>\n",
       "  </tbody>\n",
       "</table>\n",
       "</div>"
      ],
      "text/plain": [
       "col_0         0         1\n",
       "0                        \n",
       "0.0    0.457207  0.542793\n",
       "1.0    0.140766  0.859234"
      ]
     },
     "metadata": {},
     "output_type": "display_data"
    },
    {
     "data": {
      "text/html": [
       "<div>\n",
       "<style scoped>\n",
       "    .dataframe tbody tr th:only-of-type {\n",
       "        vertical-align: middle;\n",
       "    }\n",
       "\n",
       "    .dataframe tbody tr th {\n",
       "        vertical-align: top;\n",
       "    }\n",
       "\n",
       "    .dataframe thead th {\n",
       "        text-align: right;\n",
       "    }\n",
       "</style>\n",
       "<table border=\"1\" class=\"dataframe\">\n",
       "  <thead>\n",
       "    <tr style=\"text-align: right;\">\n",
       "      <th></th>\n",
       "      <th>value</th>\n",
       "    </tr>\n",
       "  </thead>\n",
       "  <tbody>\n",
       "    <tr>\n",
       "      <th>accuracy</th>\n",
       "      <td>0.658221</td>\n",
       "    </tr>\n",
       "    <tr>\n",
       "      <th>balanced_accuracy</th>\n",
       "      <td>0.658221</td>\n",
       "    </tr>\n",
       "    <tr>\n",
       "      <th>precision</th>\n",
       "      <td>0.612851</td>\n",
       "    </tr>\n",
       "    <tr>\n",
       "      <th>recall</th>\n",
       "      <td>0.859234</td>\n",
       "    </tr>\n",
       "    <tr>\n",
       "      <th>f1</th>\n",
       "      <td>0.715424</td>\n",
       "    </tr>\n",
       "    <tr>\n",
       "      <th>average_precision</th>\n",
       "      <td>0.711542</td>\n",
       "    </tr>\n",
       "    <tr>\n",
       "      <th>AUC</th>\n",
       "      <td>0.743128</td>\n",
       "    </tr>\n",
       "  </tbody>\n",
       "</table>\n",
       "</div>"
      ],
      "text/plain": [
       "                      value\n",
       "accuracy           0.658221\n",
       "balanced_accuracy  0.658221\n",
       "precision          0.612851\n",
       "recall             0.859234\n",
       "f1                 0.715424\n",
       "average_precision  0.711542\n",
       "AUC                0.743128"
      ]
     },
     "metadata": {},
     "output_type": "display_data"
    },
    {
     "name": "stdout",
     "output_type": "stream",
     "text": [
      "\n",
      "\n",
      "\n",
      "discount Offer\n",
      "XGBoost Model\n"
     ]
    },
    {
     "data": {
      "image/png": "[encoded data removed]",
      "text/plain": [
       "<Figure size 432x288 with 1 Axes>"
      ]
     },
     "metadata": {
      "needs_background": "light"
     },
     "output_type": "display_data"
    },
    {
     "name": "stdout",
     "output_type": "stream",
     "text": [
      "Confusion matrix\n"
     ]
    },
    {
     "data": {
      "text/html": [
       "<div>\n",
       "<style scoped>\n",
       "    .dataframe tbody tr th:only-of-type {\n",
       "        vertical-align: middle;\n",
       "    }\n",
       "\n",
       "    .dataframe tbody tr th {\n",
       "        vertical-align: top;\n",
       "    }\n",
       "\n",
       "    .dataframe thead th {\n",
       "        text-align: right;\n",
       "    }\n",
       "</style>\n",
       "<table border=\"1\" class=\"dataframe\">\n",
       "  <thead>\n",
       "    <tr style=\"text-align: right;\">\n",
       "      <th>col_0</th>\n",
       "      <th>0</th>\n",
       "      <th>1</th>\n",
       "    </tr>\n",
       "    <tr>\n",
       "      <th>0</th>\n",
       "      <th></th>\n",
       "      <th></th>\n",
       "    </tr>\n",
       "  </thead>\n",
       "  <tbody>\n",
       "    <tr>\n",
       "      <th>0.0</th>\n",
       "      <td>0.822266</td>\n",
       "      <td>0.177734</td>\n",
       "    </tr>\n",
       "    <tr>\n",
       "      <th>1.0</th>\n",
       "      <td>0.506823</td>\n",
       "      <td>0.493177</td>\n",
       "    </tr>\n",
       "  </tbody>\n",
       "</table>\n",
       "</div>"
      ],
      "text/plain": [
       "col_0         0         1\n",
       "0                        \n",
       "0.0    0.822266  0.177734\n",
       "1.0    0.506823  0.493177"
      ]
     },
     "metadata": {},
     "output_type": "display_data"
    },
    {
     "data": {
      "text/html": [
       "<div>\n",
       "<style scoped>\n",
       "    .dataframe tbody tr th:only-of-type {\n",
       "        vertical-align: middle;\n",
       "    }\n",
       "\n",
       "    .dataframe tbody tr th {\n",
       "        vertical-align: top;\n",
       "    }\n",
       "\n",
       "    .dataframe thead th {\n",
       "        text-align: right;\n",
       "    }\n",
       "</style>\n",
       "<table border=\"1\" class=\"dataframe\">\n",
       "  <thead>\n",
       "    <tr style=\"text-align: right;\">\n",
       "      <th></th>\n",
       "      <th>value</th>\n",
       "    </tr>\n",
       "  </thead>\n",
       "  <tbody>\n",
       "    <tr>\n",
       "      <th>accuracy</th>\n",
       "      <td>0.657561</td>\n",
       "    </tr>\n",
       "    <tr>\n",
       "      <th>balanced_accuracy</th>\n",
       "      <td>0.657722</td>\n",
       "    </tr>\n",
       "    <tr>\n",
       "      <th>precision</th>\n",
       "      <td>0.735465</td>\n",
       "    </tr>\n",
       "    <tr>\n",
       "      <th>recall</th>\n",
       "      <td>0.493177</td>\n",
       "    </tr>\n",
       "    <tr>\n",
       "      <th>f1</th>\n",
       "      <td>0.590432</td>\n",
       "    </tr>\n",
       "    <tr>\n",
       "      <th>average_precision</th>\n",
       "      <td>0.653268</td>\n",
       "    </tr>\n",
       "    <tr>\n",
       "      <th>AUC</th>\n",
       "      <td>0.694937</td>\n",
       "    </tr>\n",
       "  </tbody>\n",
       "</table>\n",
       "</div>"
      ],
      "text/plain": [
       "                      value\n",
       "accuracy           0.657561\n",
       "balanced_accuracy  0.657722\n",
       "precision          0.735465\n",
       "recall             0.493177\n",
       "f1                 0.590432\n",
       "average_precision  0.653268\n",
       "AUC                0.694937"
      ]
     },
     "metadata": {},
     "output_type": "display_data"
    },
    {
     "name": "stdout",
     "output_type": "stream",
     "text": [
      "LinearLearner Model\n"
     ]
    },
    {
     "data": {
      "image/png": "[encoded data removed]",
      "text/plain": [
       "<Figure size 432x288 with 1 Axes>"
      ]
     },
     "metadata": {
      "needs_background": "light"
     },
     "output_type": "display_data"
    },
    {
     "name": "stdout",
     "output_type": "stream",
     "text": [
      "Confusion matrix\n"
     ]
    },
    {
     "data": {
      "text/html": [
       "<div>\n",
       "<style scoped>\n",
       "    .dataframe tbody tr th:only-of-type {\n",
       "        vertical-align: middle;\n",
       "    }\n",
       "\n",
       "    .dataframe tbody tr th {\n",
       "        vertical-align: top;\n",
       "    }\n",
       "\n",
       "    .dataframe thead th {\n",
       "        text-align: right;\n",
       "    }\n",
       "</style>\n",
       "<table border=\"1\" class=\"dataframe\">\n",
       "  <thead>\n",
       "    <tr style=\"text-align: right;\">\n",
       "      <th>col_0</th>\n",
       "      <th>0</th>\n",
       "      <th>1</th>\n",
       "    </tr>\n",
       "    <tr>\n",
       "      <th>0</th>\n",
       "      <th></th>\n",
       "      <th></th>\n",
       "    </tr>\n",
       "  </thead>\n",
       "  <tbody>\n",
       "    <tr>\n",
       "      <th>0.0</th>\n",
       "      <td>0.460938</td>\n",
       "      <td>0.539062</td>\n",
       "    </tr>\n",
       "    <tr>\n",
       "      <th>1.0</th>\n",
       "      <td>0.177388</td>\n",
       "      <td>0.822612</td>\n",
       "    </tr>\n",
       "  </tbody>\n",
       "</table>\n",
       "</div>"
      ],
      "text/plain": [
       "col_0         0         1\n",
       "0                        \n",
       "0.0    0.460938  0.539062\n",
       "1.0    0.177388  0.822612"
      ]
     },
     "metadata": {},
     "output_type": "display_data"
    },
    {
     "data": {
      "text/html": [
       "<div>\n",
       "<style scoped>\n",
       "    .dataframe tbody tr th:only-of-type {\n",
       "        vertical-align: middle;\n",
       "    }\n",
       "\n",
       "    .dataframe tbody tr th {\n",
       "        vertical-align: top;\n",
       "    }\n",
       "\n",
       "    .dataframe thead th {\n",
       "        text-align: right;\n",
       "    }\n",
       "</style>\n",
       "<table border=\"1\" class=\"dataframe\">\n",
       "  <thead>\n",
       "    <tr style=\"text-align: right;\">\n",
       "      <th></th>\n",
       "      <th>value</th>\n",
       "    </tr>\n",
       "  </thead>\n",
       "  <tbody>\n",
       "    <tr>\n",
       "      <th>accuracy</th>\n",
       "      <td>0.641951</td>\n",
       "    </tr>\n",
       "    <tr>\n",
       "      <th>balanced_accuracy</th>\n",
       "      <td>0.641775</td>\n",
       "    </tr>\n",
       "    <tr>\n",
       "      <th>precision</th>\n",
       "      <td>0.604585</td>\n",
       "    </tr>\n",
       "    <tr>\n",
       "      <th>recall</th>\n",
       "      <td>0.822612</td>\n",
       "    </tr>\n",
       "    <tr>\n",
       "      <th>f1</th>\n",
       "      <td>0.696945</td>\n",
       "    </tr>\n",
       "    <tr>\n",
       "      <th>average_precision</th>\n",
       "      <td>0.677121</td>\n",
       "    </tr>\n",
       "    <tr>\n",
       "      <th>AUC</th>\n",
       "      <td>0.708409</td>\n",
       "    </tr>\n",
       "  </tbody>\n",
       "</table>\n",
       "</div>"
      ],
      "text/plain": [
       "                      value\n",
       "accuracy           0.641951\n",
       "balanced_accuracy  0.641775\n",
       "precision          0.604585\n",
       "recall             0.822612\n",
       "f1                 0.696945\n",
       "average_precision  0.677121\n",
       "AUC                0.708409"
      ]
     },
     "metadata": {},
     "output_type": "display_data"
    },
    {
     "name": "stdout",
     "output_type": "stream",
     "text": [
      "\n",
      "\n",
      "\n",
      "info Offer\n",
      "XGBoost Model\n"
     ]
    },
    {
     "data": {
      "image/png": "[encoded data removed]",
      "text/plain": [
       "<Figure size 432x288 with 1 Axes>"
      ]
     },
     "metadata": {
      "needs_background": "light"
     },
     "output_type": "display_data"
    },
    {
     "name": "stdout",
     "output_type": "stream",
     "text": [
      "Confusion matrix\n"
     ]
    },
    {
     "data": {
      "text/html": [
       "<div>\n",
       "<style scoped>\n",
       "    .dataframe tbody tr th:only-of-type {\n",
       "        vertical-align: middle;\n",
       "    }\n",
       "\n",
       "    .dataframe tbody tr th {\n",
       "        vertical-align: top;\n",
       "    }\n",
       "\n",
       "    .dataframe thead th {\n",
       "        text-align: right;\n",
       "    }\n",
       "</style>\n",
       "<table border=\"1\" class=\"dataframe\">\n",
       "  <thead>\n",
       "    <tr style=\"text-align: right;\">\n",
       "      <th>col_0</th>\n",
       "      <th>0</th>\n",
       "      <th>1</th>\n",
       "    </tr>\n",
       "    <tr>\n",
       "      <th>0</th>\n",
       "      <th></th>\n",
       "      <th></th>\n",
       "    </tr>\n",
       "  </thead>\n",
       "  <tbody>\n",
       "    <tr>\n",
       "      <th>0.0</th>\n",
       "      <td>0.569733</td>\n",
       "      <td>0.430267</td>\n",
       "    </tr>\n",
       "    <tr>\n",
       "      <th>1.0</th>\n",
       "      <td>0.350148</td>\n",
       "      <td>0.649852</td>\n",
       "    </tr>\n",
       "  </tbody>\n",
       "</table>\n",
       "</div>"
      ],
      "text/plain": [
       "col_0         0         1\n",
       "0                        \n",
       "0.0    0.569733  0.430267\n",
       "1.0    0.350148  0.649852"
      ]
     },
     "metadata": {},
     "output_type": "display_data"
    },
    {
     "data": {
      "text/html": [
       "<div>\n",
       "<style scoped>\n",
       "    .dataframe tbody tr th:only-of-type {\n",
       "        vertical-align: middle;\n",
       "    }\n",
       "\n",
       "    .dataframe tbody tr th {\n",
       "        vertical-align: top;\n",
       "    }\n",
       "\n",
       "    .dataframe thead th {\n",
       "        text-align: right;\n",
       "    }\n",
       "</style>\n",
       "<table border=\"1\" class=\"dataframe\">\n",
       "  <thead>\n",
       "    <tr style=\"text-align: right;\">\n",
       "      <th></th>\n",
       "      <th>value</th>\n",
       "    </tr>\n",
       "  </thead>\n",
       "  <tbody>\n",
       "    <tr>\n",
       "      <th>accuracy</th>\n",
       "      <td>0.609792</td>\n",
       "    </tr>\n",
       "    <tr>\n",
       "      <th>balanced_accuracy</th>\n",
       "      <td>0.609792</td>\n",
       "    </tr>\n",
       "    <tr>\n",
       "      <th>precision</th>\n",
       "      <td>0.601648</td>\n",
       "    </tr>\n",
       "    <tr>\n",
       "      <th>recall</th>\n",
       "      <td>0.649852</td>\n",
       "    </tr>\n",
       "    <tr>\n",
       "      <th>f1</th>\n",
       "      <td>0.624822</td>\n",
       "    </tr>\n",
       "    <tr>\n",
       "      <th>average_precision</th>\n",
       "      <td>0.594362</td>\n",
       "    </tr>\n",
       "    <tr>\n",
       "      <th>AUC</th>\n",
       "      <td>0.626267</td>\n",
       "    </tr>\n",
       "  </tbody>\n",
       "</table>\n",
       "</div>"
      ],
      "text/plain": [
       "                      value\n",
       "accuracy           0.609792\n",
       "balanced_accuracy  0.609792\n",
       "precision          0.601648\n",
       "recall             0.649852\n",
       "f1                 0.624822\n",
       "average_precision  0.594362\n",
       "AUC                0.626267"
      ]
     },
     "metadata": {},
     "output_type": "display_data"
    },
    {
     "name": "stdout",
     "output_type": "stream",
     "text": [
      "LinearLearner Model\n"
     ]
    },
    {
     "data": {
      "image/png": "[encoded data removed]",
      "text/plain": [
       "<Figure size 432x288 with 1 Axes>"
      ]
     },
     "metadata": {
      "needs_background": "light"
     },
     "output_type": "display_data"
    },
    {
     "name": "stdout",
     "output_type": "stream",
     "text": [
      "Confusion matrix\n"
     ]
    },
    {
     "data": {
      "text/html": [
       "<div>\n",
       "<style scoped>\n",
       "    .dataframe tbody tr th:only-of-type {\n",
       "        vertical-align: middle;\n",
       "    }\n",
       "\n",
       "    .dataframe tbody tr th {\n",
       "        vertical-align: top;\n",
       "    }\n",
       "\n",
       "    .dataframe thead th {\n",
       "        text-align: right;\n",
       "    }\n",
       "</style>\n",
       "<table border=\"1\" class=\"dataframe\">\n",
       "  <thead>\n",
       "    <tr style=\"text-align: right;\">\n",
       "      <th>col_0</th>\n",
       "      <th>0</th>\n",
       "      <th>1</th>\n",
       "    </tr>\n",
       "    <tr>\n",
       "      <th>0</th>\n",
       "      <th></th>\n",
       "      <th></th>\n",
       "    </tr>\n",
       "  </thead>\n",
       "  <tbody>\n",
       "    <tr>\n",
       "      <th>0.0</th>\n",
       "      <td>0.308605</td>\n",
       "      <td>0.691395</td>\n",
       "    </tr>\n",
       "    <tr>\n",
       "      <th>1.0</th>\n",
       "      <td>0.109792</td>\n",
       "      <td>0.890208</td>\n",
       "    </tr>\n",
       "  </tbody>\n",
       "</table>\n",
       "</div>"
      ],
      "text/plain": [
       "col_0         0         1\n",
       "0                        \n",
       "0.0    0.308605  0.691395\n",
       "1.0    0.109792  0.890208"
      ]
     },
     "metadata": {},
     "output_type": "display_data"
    },
    {
     "data": {
      "text/html": [
       "<div>\n",
       "<style scoped>\n",
       "    .dataframe tbody tr th:only-of-type {\n",
       "        vertical-align: middle;\n",
       "    }\n",
       "\n",
       "    .dataframe tbody tr th {\n",
       "        vertical-align: top;\n",
       "    }\n",
       "\n",
       "    .dataframe thead th {\n",
       "        text-align: right;\n",
       "    }\n",
       "</style>\n",
       "<table border=\"1\" class=\"dataframe\">\n",
       "  <thead>\n",
       "    <tr style=\"text-align: right;\">\n",
       "      <th></th>\n",
       "      <th>value</th>\n",
       "    </tr>\n",
       "  </thead>\n",
       "  <tbody>\n",
       "    <tr>\n",
       "      <th>accuracy</th>\n",
       "      <td>0.599407</td>\n",
       "    </tr>\n",
       "    <tr>\n",
       "      <th>balanced_accuracy</th>\n",
       "      <td>0.599407</td>\n",
       "    </tr>\n",
       "    <tr>\n",
       "      <th>precision</th>\n",
       "      <td>0.562852</td>\n",
       "    </tr>\n",
       "    <tr>\n",
       "      <th>recall</th>\n",
       "      <td>0.890208</td>\n",
       "    </tr>\n",
       "    <tr>\n",
       "      <th>f1</th>\n",
       "      <td>0.689655</td>\n",
       "    </tr>\n",
       "    <tr>\n",
       "      <th>average_precision</th>\n",
       "      <td>0.654555</td>\n",
       "    </tr>\n",
       "    <tr>\n",
       "      <th>AUC</th>\n",
       "      <td>0.677253</td>\n",
       "    </tr>\n",
       "  </tbody>\n",
       "</table>\n",
       "</div>"
      ],
      "text/plain": [
       "                      value\n",
       "accuracy           0.599407\n",
       "balanced_accuracy  0.599407\n",
       "precision          0.562852\n",
       "recall             0.890208\n",
       "f1                 0.689655\n",
       "average_precision  0.654555\n",
       "AUC                0.677253"
      ]
     },
     "metadata": {},
     "output_type": "display_data"
    },
    {
     "name": "stdout",
     "output_type": "stream",
     "text": [
      "\n",
      "\n",
      "\n"
     ]
    }
   ],
   "source": [
    "# Plot the aggregated results\n",
    "for prefix in ['bogo', 'discount', 'info']:\n",
    "    print(prefix +' Offer')\n",
    "    \n",
    "    # Load True Labels\n",
    "    y_test = pd.read_csv(f'./data/{prefix}/{prefix}_test_target.csv', \n",
    "                         squeeze=True, header=None)\n",
    "    \n",
    "    # XGBoost\n",
    "    print('XGBoost Model')\n",
    "    y_prob = pd.read_csv(f'./data/{prefix}/{prefix}_xgb_preds/{prefix}_test.csv.out', squeeze=True, header=None)\n",
    "    display(assess_model(y_test, y_prob))\n",
    "\n",
    "    # LinearLearner\n",
    "    print('LinearLearner Model')\n",
    "    with open(f'./data/{prefix}/{prefix}_ll_preds/{prefix}_test.csv.out', \n",
    "                                                                  'r') as f:\n",
    "        jsons = [json.loads(x.replace('\\n', '')) for x in f.readlines()]\n",
    "    res = pd.DataFrame(jsons)\n",
    "    display(assess_model(y_test, res['score'].values, y_pred=res[\n",
    "                                                'predicted_label'].values))\n",
    "    \n",
    "    print('\\n\\n')"
   ]
  },
  {
   "cell_type": "code",
   "execution_count": null,
   "id": "61bfc8f0",
   "metadata": {},
   "outputs": [],
   "source": []
  }
 ],
 "metadata": {
  "kernelspec": {
   "display_name": "conda_python3",
   "language": "python",
   "name": "conda_python3"
  },
  "language_info": {
   "codemirror_mode": {
    "name": "ipython",
    "version": 3
   },
   "file_extension": ".py",
   "mimetype": "text/x-python",
   "name": "python",
   "nbconvert_exporter": "python",
   "pygments_lexer": "ipython3",
   "version": "3.6.13"
  }
 },
 "nbformat": 4,
 "nbformat_minor": 5
}
