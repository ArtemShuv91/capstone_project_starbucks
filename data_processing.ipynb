{
 "cells": [
  {
   "cell_type": "markdown",
   "metadata": {},
   "source": [
    "# Starbucks Capstone Project solution for ML Engineer Nanodegree"
   ]
  },
  {
   "cell_type": "markdown",
   "metadata": {},
   "source": [
    "## Data Processing"
   ]
  },
  {
   "cell_type": "code",
   "execution_count": 1,
   "metadata": {},
   "outputs": [],
   "source": [
    "# Importing the required libraries\n",
    "\n",
    "import pandas as pd\n",
    "import numpy as np\n",
    "import matplotlib.pyplot as plt\n",
    "import seaborn as sns\n",
    "from datetime import datetime"
   ]
  },
  {
   "cell_type": "code",
   "execution_count": 6,
   "metadata": {},
   "outputs": [],
   "source": [
    "# Read the data\n",
    "portfolio_df = pd.read_json('data/portfolio.json', orient='records', lines=True)\n",
    "profile_df = pd.read_json('data/profile.json', orient='records', lines=True)\n",
    "transcript_df = pd.read_json('data/transcript.json', orient='records', lines=True)"
   ]
  },
  {
   "cell_type": "markdown",
   "metadata": {},
   "source": [
    "### Data Exploration"
   ]
  },
  {
   "cell_type": "markdown",
   "metadata": {},
   "source": [
    "#### Portfolio DataFrame"
   ]
  },
  {
   "cell_type": "code",
   "execution_count": 7,
   "metadata": {},
   "outputs": [
    {
     "name": "stdout",
     "output_type": "stream",
     "text": [
      "The shape of Portfolio dataframe is (10, 6)\n"
     ]
    }
   ],
   "source": [
    "# Descripe the Portfolio dataframe\n",
    "print('The shape of Portfolio dataframe is {}'.format(portfolio_df.shape))"
   ]
  },
  {
   "cell_type": "markdown",
   "metadata": {},
   "source": [
    "This dataframe contains the information about different offers with details about each of them"
   ]
  },
  {
   "cell_type": "code",
   "execution_count": 8,
   "metadata": {},
   "outputs": [
    {
     "data": {
      "text/html": [
       "<div>\n",
       "<style scoped>\n",
       "    .dataframe tbody tr th:only-of-type {\n",
       "        vertical-align: middle;\n",
       "    }\n",
       "\n",
       "    .dataframe tbody tr th {\n",
       "        vertical-align: top;\n",
       "    }\n",
       "\n",
       "    .dataframe thead th {\n",
       "        text-align: right;\n",
       "    }\n",
       "</style>\n",
       "<table border=\"1\" class=\"dataframe\">\n",
       "  <thead>\n",
       "    <tr style=\"text-align: right;\">\n",
       "      <th></th>\n",
       "      <th>reward</th>\n",
       "      <th>channels</th>\n",
       "      <th>difficulty</th>\n",
       "      <th>duration</th>\n",
       "      <th>offer_type</th>\n",
       "      <th>id</th>\n",
       "    </tr>\n",
       "  </thead>\n",
       "  <tbody>\n",
       "    <tr>\n",
       "      <th>0</th>\n",
       "      <td>10</td>\n",
       "      <td>[email, mobile, social]</td>\n",
       "      <td>10</td>\n",
       "      <td>7</td>\n",
       "      <td>bogo</td>\n",
       "      <td>ae264e3637204a6fb9bb56bc8210ddfd</td>\n",
       "    </tr>\n",
       "    <tr>\n",
       "      <th>1</th>\n",
       "      <td>10</td>\n",
       "      <td>[web, email, mobile, social]</td>\n",
       "      <td>10</td>\n",
       "      <td>5</td>\n",
       "      <td>bogo</td>\n",
       "      <td>4d5c57ea9a6940dd891ad53e9dbe8da0</td>\n",
       "    </tr>\n",
       "    <tr>\n",
       "      <th>2</th>\n",
       "      <td>0</td>\n",
       "      <td>[web, email, mobile]</td>\n",
       "      <td>0</td>\n",
       "      <td>4</td>\n",
       "      <td>informational</td>\n",
       "      <td>3f207df678b143eea3cee63160fa8bed</td>\n",
       "    </tr>\n",
       "    <tr>\n",
       "      <th>3</th>\n",
       "      <td>5</td>\n",
       "      <td>[web, email, mobile]</td>\n",
       "      <td>5</td>\n",
       "      <td>7</td>\n",
       "      <td>bogo</td>\n",
       "      <td>9b98b8c7a33c4b65b9aebfe6a799e6d9</td>\n",
       "    </tr>\n",
       "    <tr>\n",
       "      <th>4</th>\n",
       "      <td>5</td>\n",
       "      <td>[web, email]</td>\n",
       "      <td>20</td>\n",
       "      <td>10</td>\n",
       "      <td>discount</td>\n",
       "      <td>0b1e1539f2cc45b7b9fa7c272da2e1d7</td>\n",
       "    </tr>\n",
       "    <tr>\n",
       "      <th>5</th>\n",
       "      <td>3</td>\n",
       "      <td>[web, email, mobile, social]</td>\n",
       "      <td>7</td>\n",
       "      <td>7</td>\n",
       "      <td>discount</td>\n",
       "      <td>2298d6c36e964ae4a3e7e9706d1fb8c2</td>\n",
       "    </tr>\n",
       "    <tr>\n",
       "      <th>6</th>\n",
       "      <td>2</td>\n",
       "      <td>[web, email, mobile, social]</td>\n",
       "      <td>10</td>\n",
       "      <td>10</td>\n",
       "      <td>discount</td>\n",
       "      <td>fafdcd668e3743c1bb461111dcafc2a4</td>\n",
       "    </tr>\n",
       "    <tr>\n",
       "      <th>7</th>\n",
       "      <td>0</td>\n",
       "      <td>[email, mobile, social]</td>\n",
       "      <td>0</td>\n",
       "      <td>3</td>\n",
       "      <td>informational</td>\n",
       "      <td>5a8bc65990b245e5a138643cd4eb9837</td>\n",
       "    </tr>\n",
       "    <tr>\n",
       "      <th>8</th>\n",
       "      <td>5</td>\n",
       "      <td>[web, email, mobile, social]</td>\n",
       "      <td>5</td>\n",
       "      <td>5</td>\n",
       "      <td>bogo</td>\n",
       "      <td>f19421c1d4aa40978ebb69ca19b0e20d</td>\n",
       "    </tr>\n",
       "    <tr>\n",
       "      <th>9</th>\n",
       "      <td>2</td>\n",
       "      <td>[web, email, mobile]</td>\n",
       "      <td>10</td>\n",
       "      <td>7</td>\n",
       "      <td>discount</td>\n",
       "      <td>2906b810c7d4411798c6938adc9daaa5</td>\n",
       "    </tr>\n",
       "  </tbody>\n",
       "</table>\n",
       "</div>"
      ],
      "text/plain": [
       "   reward                      channels  difficulty  duration     offer_type  \\\n",
       "0      10       [email, mobile, social]          10         7           bogo   \n",
       "1      10  [web, email, mobile, social]          10         5           bogo   \n",
       "2       0          [web, email, mobile]           0         4  informational   \n",
       "3       5          [web, email, mobile]           5         7           bogo   \n",
       "4       5                  [web, email]          20        10       discount   \n",
       "5       3  [web, email, mobile, social]           7         7       discount   \n",
       "6       2  [web, email, mobile, social]          10        10       discount   \n",
       "7       0       [email, mobile, social]           0         3  informational   \n",
       "8       5  [web, email, mobile, social]           5         5           bogo   \n",
       "9       2          [web, email, mobile]          10         7       discount   \n",
       "\n",
       "                                 id  \n",
       "0  ae264e3637204a6fb9bb56bc8210ddfd  \n",
       "1  4d5c57ea9a6940dd891ad53e9dbe8da0  \n",
       "2  3f207df678b143eea3cee63160fa8bed  \n",
       "3  9b98b8c7a33c4b65b9aebfe6a799e6d9  \n",
       "4  0b1e1539f2cc45b7b9fa7c272da2e1d7  \n",
       "5  2298d6c36e964ae4a3e7e9706d1fb8c2  \n",
       "6  fafdcd668e3743c1bb461111dcafc2a4  \n",
       "7  5a8bc65990b245e5a138643cd4eb9837  \n",
       "8  f19421c1d4aa40978ebb69ca19b0e20d  \n",
       "9  2906b810c7d4411798c6938adc9daaa5  "
      ]
     },
     "metadata": {},
     "output_type": "display_data"
    }
   ],
   "source": [
    "# Show the Portfolio dataframe\n",
    "display(portfolio_df)"
   ]
  },
  {
   "cell_type": "markdown",
   "metadata": {},
   "source": [
    "#### Profile DataFrame"
   ]
  },
  {
   "cell_type": "code",
   "execution_count": 9,
   "metadata": {
    "scrolled": true
   },
   "outputs": [
    {
     "name": "stdout",
     "output_type": "stream",
     "text": [
      "The shape of Profile dataframe is (17000, 5)\n"
     ]
    }
   ],
   "source": [
    "# Descripe the Profile dataframe\n",
    "print('The shape of Profile dataframe is {}'.format(profile_df.shape))"
   ]
  },
  {
   "cell_type": "markdown",
   "metadata": {},
   "source": [
    "This dataframe contains the information about different customers with their demographic data"
   ]
  },
  {
   "cell_type": "code",
   "execution_count": 10,
   "metadata": {},
   "outputs": [
    {
     "data": {
      "text/html": [
       "<div>\n",
       "<style scoped>\n",
       "    .dataframe tbody tr th:only-of-type {\n",
       "        vertical-align: middle;\n",
       "    }\n",
       "\n",
       "    .dataframe tbody tr th {\n",
       "        vertical-align: top;\n",
       "    }\n",
       "\n",
       "    .dataframe thead th {\n",
       "        text-align: right;\n",
       "    }\n",
       "</style>\n",
       "<table border=\"1\" class=\"dataframe\">\n",
       "  <thead>\n",
       "    <tr style=\"text-align: right;\">\n",
       "      <th></th>\n",
       "      <th>gender</th>\n",
       "      <th>age</th>\n",
       "      <th>id</th>\n",
       "      <th>became_member_on</th>\n",
       "      <th>income</th>\n",
       "    </tr>\n",
       "  </thead>\n",
       "  <tbody>\n",
       "    <tr>\n",
       "      <th>0</th>\n",
       "      <td>None</td>\n",
       "      <td>118</td>\n",
       "      <td>68be06ca386d4c31939f3a4f0e3dd783</td>\n",
       "      <td>20170212</td>\n",
       "      <td>NaN</td>\n",
       "    </tr>\n",
       "    <tr>\n",
       "      <th>1</th>\n",
       "      <td>F</td>\n",
       "      <td>55</td>\n",
       "      <td>0610b486422d4921ae7d2bf64640c50b</td>\n",
       "      <td>20170715</td>\n",
       "      <td>112000.0</td>\n",
       "    </tr>\n",
       "    <tr>\n",
       "      <th>2</th>\n",
       "      <td>None</td>\n",
       "      <td>118</td>\n",
       "      <td>38fe809add3b4fcf9315a9694bb96ff5</td>\n",
       "      <td>20180712</td>\n",
       "      <td>NaN</td>\n",
       "    </tr>\n",
       "    <tr>\n",
       "      <th>3</th>\n",
       "      <td>F</td>\n",
       "      <td>75</td>\n",
       "      <td>78afa995795e4d85b5d9ceeca43f5fef</td>\n",
       "      <td>20170509</td>\n",
       "      <td>100000.0</td>\n",
       "    </tr>\n",
       "    <tr>\n",
       "      <th>4</th>\n",
       "      <td>None</td>\n",
       "      <td>118</td>\n",
       "      <td>a03223e636434f42ac4c3df47e8bac43</td>\n",
       "      <td>20170804</td>\n",
       "      <td>NaN</td>\n",
       "    </tr>\n",
       "    <tr>\n",
       "      <th>...</th>\n",
       "      <td>...</td>\n",
       "      <td>...</td>\n",
       "      <td>...</td>\n",
       "      <td>...</td>\n",
       "      <td>...</td>\n",
       "    </tr>\n",
       "    <tr>\n",
       "      <th>16995</th>\n",
       "      <td>F</td>\n",
       "      <td>45</td>\n",
       "      <td>6d5f3a774f3d4714ab0c092238f3a1d7</td>\n",
       "      <td>20180604</td>\n",
       "      <td>54000.0</td>\n",
       "    </tr>\n",
       "    <tr>\n",
       "      <th>16996</th>\n",
       "      <td>M</td>\n",
       "      <td>61</td>\n",
       "      <td>2cb4f97358b841b9a9773a7aa05a9d77</td>\n",
       "      <td>20180713</td>\n",
       "      <td>72000.0</td>\n",
       "    </tr>\n",
       "    <tr>\n",
       "      <th>16997</th>\n",
       "      <td>M</td>\n",
       "      <td>49</td>\n",
       "      <td>01d26f638c274aa0b965d24cefe3183f</td>\n",
       "      <td>20170126</td>\n",
       "      <td>73000.0</td>\n",
       "    </tr>\n",
       "    <tr>\n",
       "      <th>16998</th>\n",
       "      <td>F</td>\n",
       "      <td>83</td>\n",
       "      <td>9dc1421481194dcd9400aec7c9ae6366</td>\n",
       "      <td>20160307</td>\n",
       "      <td>50000.0</td>\n",
       "    </tr>\n",
       "    <tr>\n",
       "      <th>16999</th>\n",
       "      <td>F</td>\n",
       "      <td>62</td>\n",
       "      <td>e4052622e5ba45a8b96b59aba68cf068</td>\n",
       "      <td>20170722</td>\n",
       "      <td>82000.0</td>\n",
       "    </tr>\n",
       "  </tbody>\n",
       "</table>\n",
       "<p>17000 rows × 5 columns</p>\n",
       "</div>"
      ],
      "text/plain": [
       "      gender  age                                id  became_member_on  \\\n",
       "0       None  118  68be06ca386d4c31939f3a4f0e3dd783          20170212   \n",
       "1          F   55  0610b486422d4921ae7d2bf64640c50b          20170715   \n",
       "2       None  118  38fe809add3b4fcf9315a9694bb96ff5          20180712   \n",
       "3          F   75  78afa995795e4d85b5d9ceeca43f5fef          20170509   \n",
       "4       None  118  a03223e636434f42ac4c3df47e8bac43          20170804   \n",
       "...      ...  ...                               ...               ...   \n",
       "16995      F   45  6d5f3a774f3d4714ab0c092238f3a1d7          20180604   \n",
       "16996      M   61  2cb4f97358b841b9a9773a7aa05a9d77          20180713   \n",
       "16997      M   49  01d26f638c274aa0b965d24cefe3183f          20170126   \n",
       "16998      F   83  9dc1421481194dcd9400aec7c9ae6366          20160307   \n",
       "16999      F   62  e4052622e5ba45a8b96b59aba68cf068          20170722   \n",
       "\n",
       "         income  \n",
       "0           NaN  \n",
       "1      112000.0  \n",
       "2           NaN  \n",
       "3      100000.0  \n",
       "4           NaN  \n",
       "...         ...  \n",
       "16995   54000.0  \n",
       "16996   72000.0  \n",
       "16997   73000.0  \n",
       "16998   50000.0  \n",
       "16999   82000.0  \n",
       "\n",
       "[17000 rows x 5 columns]"
      ]
     },
     "metadata": {},
     "output_type": "display_data"
    }
   ],
   "source": [
    "# Show the Profile dataframe\n",
    "display(profile_df)"
   ]
  },
  {
   "cell_type": "markdown",
   "metadata": {},
   "source": [
    "We see the missing values in gender and income, so there is a reason to process this dataframe. In addition, it is useful to convert the string dates into datetime values."
   ]
  },
  {
   "cell_type": "code",
   "execution_count": 11,
   "metadata": {},
   "outputs": [
    {
     "data": {
      "text/plain": [
       "{False}"
      ]
     },
     "execution_count": 11,
     "metadata": {},
     "output_type": "execute_result"
    }
   ],
   "source": [
    "# There are no duplicated customers in dataframe\n",
    "set(profile_df.duplicated(subset=['id']))"
   ]
  },
  {
   "cell_type": "code",
   "execution_count": 12,
   "metadata": {},
   "outputs": [
    {
     "data": {
      "text/html": [
       "<div>\n",
       "<style scoped>\n",
       "    .dataframe tbody tr th:only-of-type {\n",
       "        vertical-align: middle;\n",
       "    }\n",
       "\n",
       "    .dataframe tbody tr th {\n",
       "        vertical-align: top;\n",
       "    }\n",
       "\n",
       "    .dataframe thead th {\n",
       "        text-align: right;\n",
       "    }\n",
       "</style>\n",
       "<table border=\"1\" class=\"dataframe\">\n",
       "  <thead>\n",
       "    <tr style=\"text-align: right;\">\n",
       "      <th></th>\n",
       "      <th>age</th>\n",
       "      <th>became_member_on</th>\n",
       "      <th>income</th>\n",
       "    </tr>\n",
       "  </thead>\n",
       "  <tbody>\n",
       "    <tr>\n",
       "      <th>count</th>\n",
       "      <td>2175.0</td>\n",
       "      <td>2.175000e+03</td>\n",
       "      <td>0.0</td>\n",
       "    </tr>\n",
       "    <tr>\n",
       "      <th>mean</th>\n",
       "      <td>118.0</td>\n",
       "      <td>2.016804e+07</td>\n",
       "      <td>NaN</td>\n",
       "    </tr>\n",
       "    <tr>\n",
       "      <th>std</th>\n",
       "      <td>0.0</td>\n",
       "      <td>1.009105e+04</td>\n",
       "      <td>NaN</td>\n",
       "    </tr>\n",
       "    <tr>\n",
       "      <th>min</th>\n",
       "      <td>118.0</td>\n",
       "      <td>2.013080e+07</td>\n",
       "      <td>NaN</td>\n",
       "    </tr>\n",
       "    <tr>\n",
       "      <th>25%</th>\n",
       "      <td>118.0</td>\n",
       "      <td>2.016070e+07</td>\n",
       "      <td>NaN</td>\n",
       "    </tr>\n",
       "    <tr>\n",
       "      <th>50%</th>\n",
       "      <td>118.0</td>\n",
       "      <td>2.017073e+07</td>\n",
       "      <td>NaN</td>\n",
       "    </tr>\n",
       "    <tr>\n",
       "      <th>75%</th>\n",
       "      <td>118.0</td>\n",
       "      <td>2.017123e+07</td>\n",
       "      <td>NaN</td>\n",
       "    </tr>\n",
       "    <tr>\n",
       "      <th>max</th>\n",
       "      <td>118.0</td>\n",
       "      <td>2.018073e+07</td>\n",
       "      <td>NaN</td>\n",
       "    </tr>\n",
       "  </tbody>\n",
       "</table>\n",
       "</div>"
      ],
      "text/plain": [
       "          age  became_member_on  income\n",
       "count  2175.0      2.175000e+03     0.0\n",
       "mean    118.0      2.016804e+07     NaN\n",
       "std       0.0      1.009105e+04     NaN\n",
       "min     118.0      2.013080e+07     NaN\n",
       "25%     118.0      2.016070e+07     NaN\n",
       "50%     118.0      2.017073e+07     NaN\n",
       "75%     118.0      2.017123e+07     NaN\n",
       "max     118.0      2.018073e+07     NaN"
      ]
     },
     "metadata": {},
     "output_type": "display_data"
    },
    {
     "data": {
      "text/html": [
       "<div>\n",
       "<style scoped>\n",
       "    .dataframe tbody tr th:only-of-type {\n",
       "        vertical-align: middle;\n",
       "    }\n",
       "\n",
       "    .dataframe tbody tr th {\n",
       "        vertical-align: top;\n",
       "    }\n",
       "\n",
       "    .dataframe thead th {\n",
       "        text-align: right;\n",
       "    }\n",
       "</style>\n",
       "<table border=\"1\" class=\"dataframe\">\n",
       "  <thead>\n",
       "    <tr style=\"text-align: right;\">\n",
       "      <th></th>\n",
       "      <th>age</th>\n",
       "      <th>became_member_on</th>\n",
       "      <th>income</th>\n",
       "    </tr>\n",
       "  </thead>\n",
       "  <tbody>\n",
       "    <tr>\n",
       "      <th>count</th>\n",
       "      <td>2175.0</td>\n",
       "      <td>2.175000e+03</td>\n",
       "      <td>0.0</td>\n",
       "    </tr>\n",
       "    <tr>\n",
       "      <th>mean</th>\n",
       "      <td>118.0</td>\n",
       "      <td>2.016804e+07</td>\n",
       "      <td>NaN</td>\n",
       "    </tr>\n",
       "    <tr>\n",
       "      <th>std</th>\n",
       "      <td>0.0</td>\n",
       "      <td>1.009105e+04</td>\n",
       "      <td>NaN</td>\n",
       "    </tr>\n",
       "    <tr>\n",
       "      <th>min</th>\n",
       "      <td>118.0</td>\n",
       "      <td>2.013080e+07</td>\n",
       "      <td>NaN</td>\n",
       "    </tr>\n",
       "    <tr>\n",
       "      <th>25%</th>\n",
       "      <td>118.0</td>\n",
       "      <td>2.016070e+07</td>\n",
       "      <td>NaN</td>\n",
       "    </tr>\n",
       "    <tr>\n",
       "      <th>50%</th>\n",
       "      <td>118.0</td>\n",
       "      <td>2.017073e+07</td>\n",
       "      <td>NaN</td>\n",
       "    </tr>\n",
       "    <tr>\n",
       "      <th>75%</th>\n",
       "      <td>118.0</td>\n",
       "      <td>2.017123e+07</td>\n",
       "      <td>NaN</td>\n",
       "    </tr>\n",
       "    <tr>\n",
       "      <th>max</th>\n",
       "      <td>118.0</td>\n",
       "      <td>2.018073e+07</td>\n",
       "      <td>NaN</td>\n",
       "    </tr>\n",
       "  </tbody>\n",
       "</table>\n",
       "</div>"
      ],
      "text/plain": [
       "          age  became_member_on  income\n",
       "count  2175.0      2.175000e+03     0.0\n",
       "mean    118.0      2.016804e+07     NaN\n",
       "std       0.0      1.009105e+04     NaN\n",
       "min     118.0      2.013080e+07     NaN\n",
       "25%     118.0      2.016070e+07     NaN\n",
       "50%     118.0      2.017073e+07     NaN\n",
       "75%     118.0      2.017123e+07     NaN\n",
       "max     118.0      2.018073e+07     NaN"
      ]
     },
     "metadata": {},
     "output_type": "display_data"
    }
   ],
   "source": [
    "# We see that NaN values for Income and Gender intersects, so we can drop them\n",
    "display(profile_df.loc[profile_df['income'].isnull()].describe())\n",
    "display(profile_df.loc[profile_df['gender'].isnull()].describe())"
   ]
  },
  {
   "cell_type": "code",
   "execution_count": 13,
   "metadata": {},
   "outputs": [
    {
     "name": "stdout",
     "output_type": "stream",
     "text": [
      "After that, the shape of Profile dataframe is (14825, 5)\n"
     ]
    },
    {
     "data": {
      "text/html": [
       "<div>\n",
       "<style scoped>\n",
       "    .dataframe tbody tr th:only-of-type {\n",
       "        vertical-align: middle;\n",
       "    }\n",
       "\n",
       "    .dataframe tbody tr th {\n",
       "        vertical-align: top;\n",
       "    }\n",
       "\n",
       "    .dataframe thead th {\n",
       "        text-align: right;\n",
       "    }\n",
       "</style>\n",
       "<table border=\"1\" class=\"dataframe\">\n",
       "  <thead>\n",
       "    <tr style=\"text-align: right;\">\n",
       "      <th></th>\n",
       "      <th>gender</th>\n",
       "      <th>age</th>\n",
       "      <th>id</th>\n",
       "      <th>became_member_on</th>\n",
       "      <th>income</th>\n",
       "    </tr>\n",
       "  </thead>\n",
       "  <tbody>\n",
       "    <tr>\n",
       "      <th>1</th>\n",
       "      <td>F</td>\n",
       "      <td>55</td>\n",
       "      <td>0610b486422d4921ae7d2bf64640c50b</td>\n",
       "      <td>20170715</td>\n",
       "      <td>112000.0</td>\n",
       "    </tr>\n",
       "    <tr>\n",
       "      <th>3</th>\n",
       "      <td>F</td>\n",
       "      <td>75</td>\n",
       "      <td>78afa995795e4d85b5d9ceeca43f5fef</td>\n",
       "      <td>20170509</td>\n",
       "      <td>100000.0</td>\n",
       "    </tr>\n",
       "    <tr>\n",
       "      <th>5</th>\n",
       "      <td>M</td>\n",
       "      <td>68</td>\n",
       "      <td>e2127556f4f64592b11af22de27a7932</td>\n",
       "      <td>20180426</td>\n",
       "      <td>70000.0</td>\n",
       "    </tr>\n",
       "    <tr>\n",
       "      <th>8</th>\n",
       "      <td>M</td>\n",
       "      <td>65</td>\n",
       "      <td>389bc3fa690240e798340f5a15918d5c</td>\n",
       "      <td>20180209</td>\n",
       "      <td>53000.0</td>\n",
       "    </tr>\n",
       "    <tr>\n",
       "      <th>12</th>\n",
       "      <td>M</td>\n",
       "      <td>58</td>\n",
       "      <td>2eeac8d8feae4a8cad5a6af0499a211d</td>\n",
       "      <td>20171111</td>\n",
       "      <td>51000.0</td>\n",
       "    </tr>\n",
       "    <tr>\n",
       "      <th>...</th>\n",
       "      <td>...</td>\n",
       "      <td>...</td>\n",
       "      <td>...</td>\n",
       "      <td>...</td>\n",
       "      <td>...</td>\n",
       "    </tr>\n",
       "    <tr>\n",
       "      <th>16995</th>\n",
       "      <td>F</td>\n",
       "      <td>45</td>\n",
       "      <td>6d5f3a774f3d4714ab0c092238f3a1d7</td>\n",
       "      <td>20180604</td>\n",
       "      <td>54000.0</td>\n",
       "    </tr>\n",
       "    <tr>\n",
       "      <th>16996</th>\n",
       "      <td>M</td>\n",
       "      <td>61</td>\n",
       "      <td>2cb4f97358b841b9a9773a7aa05a9d77</td>\n",
       "      <td>20180713</td>\n",
       "      <td>72000.0</td>\n",
       "    </tr>\n",
       "    <tr>\n",
       "      <th>16997</th>\n",
       "      <td>M</td>\n",
       "      <td>49</td>\n",
       "      <td>01d26f638c274aa0b965d24cefe3183f</td>\n",
       "      <td>20170126</td>\n",
       "      <td>73000.0</td>\n",
       "    </tr>\n",
       "    <tr>\n",
       "      <th>16998</th>\n",
       "      <td>F</td>\n",
       "      <td>83</td>\n",
       "      <td>9dc1421481194dcd9400aec7c9ae6366</td>\n",
       "      <td>20160307</td>\n",
       "      <td>50000.0</td>\n",
       "    </tr>\n",
       "    <tr>\n",
       "      <th>16999</th>\n",
       "      <td>F</td>\n",
       "      <td>62</td>\n",
       "      <td>e4052622e5ba45a8b96b59aba68cf068</td>\n",
       "      <td>20170722</td>\n",
       "      <td>82000.0</td>\n",
       "    </tr>\n",
       "  </tbody>\n",
       "</table>\n",
       "<p>14825 rows × 5 columns</p>\n",
       "</div>"
      ],
      "text/plain": [
       "      gender  age                                id  became_member_on  \\\n",
       "1          F   55  0610b486422d4921ae7d2bf64640c50b          20170715   \n",
       "3          F   75  78afa995795e4d85b5d9ceeca43f5fef          20170509   \n",
       "5          M   68  e2127556f4f64592b11af22de27a7932          20180426   \n",
       "8          M   65  389bc3fa690240e798340f5a15918d5c          20180209   \n",
       "12         M   58  2eeac8d8feae4a8cad5a6af0499a211d          20171111   \n",
       "...      ...  ...                               ...               ...   \n",
       "16995      F   45  6d5f3a774f3d4714ab0c092238f3a1d7          20180604   \n",
       "16996      M   61  2cb4f97358b841b9a9773a7aa05a9d77          20180713   \n",
       "16997      M   49  01d26f638c274aa0b965d24cefe3183f          20170126   \n",
       "16998      F   83  9dc1421481194dcd9400aec7c9ae6366          20160307   \n",
       "16999      F   62  e4052622e5ba45a8b96b59aba68cf068          20170722   \n",
       "\n",
       "         income  \n",
       "1      112000.0  \n",
       "3      100000.0  \n",
       "5       70000.0  \n",
       "8       53000.0  \n",
       "12      51000.0  \n",
       "...         ...  \n",
       "16995   54000.0  \n",
       "16996   72000.0  \n",
       "16997   73000.0  \n",
       "16998   50000.0  \n",
       "16999   82000.0  \n",
       "\n",
       "[14825 rows x 5 columns]"
      ]
     },
     "metadata": {},
     "output_type": "display_data"
    }
   ],
   "source": [
    "profile_df = profile_df.loc[~profile_df['income'].isnull()]\n",
    "\n",
    "print('After that, the shape of Profile dataframe is {}'.format(profile_df.shape))\n",
    "\n",
    "display(profile_df)"
   ]
  },
  {
   "cell_type": "code",
   "execution_count": 14,
   "metadata": {},
   "outputs": [],
   "source": [
    "# Let's change string date to datetime\n",
    "profile_df['became_member_on'] = pd.to_datetime(profile_df['became_member_on'].astype(str)).dt.date"
   ]
  },
  {
   "cell_type": "code",
   "execution_count": 15,
   "metadata": {},
   "outputs": [],
   "source": [
    "# # We see that the Other gender is not so frequent in the data\n",
    "# pd.DataFrame(profile_df.groupby('gender').describe()['age']['count'])"
   ]
  },
  {
   "cell_type": "code",
   "execution_count": 16,
   "metadata": {},
   "outputs": [
    {
     "name": "stderr",
     "output_type": "stream",
     "text": [
      "/home/ec2-user/anaconda3/envs/python3/lib/python3.6/site-packages/seaborn/distributions.py:2557: FutureWarning: `distplot` is a deprecated function and will be removed in a future version. Please adapt your code to use either `displot` (a figure-level function with similar flexibility) or `histplot` (an axes-level function for histograms).\n",
      "  warnings.warn(msg, FutureWarning)\n"
     ]
    },
    {
     "data": {
      "image/png": "[encoded data removed]",
      "text/plain": [
       "<Figure size 432x288 with 1 Axes>"
      ]
     },
     "metadata": {
      "needs_background": "light"
     },
     "output_type": "display_data"
    }
   ],
   "source": [
    "# We can see the age distribution looks bell-shaped\n",
    "sns.distplot(profile_df['age'])\n",
    "plt.title('Age distribution')\n",
    "plt.show()"
   ]
  },
  {
   "cell_type": "code",
   "execution_count": 17,
   "metadata": {},
   "outputs": [
    {
     "name": "stderr",
     "output_type": "stream",
     "text": [
      "/home/ec2-user/anaconda3/envs/python3/lib/python3.6/site-packages/seaborn/distributions.py:2557: FutureWarning: `distplot` is a deprecated function and will be removed in a future version. Please adapt your code to use either `displot` (a figure-level function with similar flexibility) or `histplot` (an axes-level function for histograms).\n",
      "  warnings.warn(msg, FutureWarning)\n"
     ]
    },
    {
     "data": {
      "image/png": "[encoded data removed]",
      "text/plain": [
       "<Figure size 432x288 with 1 Axes>"
      ]
     },
     "metadata": {
      "needs_background": "light"
     },
     "output_type": "display_data"
    }
   ],
   "source": [
    "# While income distribution is not bell-shaped\n",
    "sns.distplot(profile_df['income'])\n",
    "plt.title('Income distribution')\n",
    "plt.show()"
   ]
  },
  {
   "cell_type": "code",
   "execution_count": 18,
   "metadata": {},
   "outputs": [
    {
     "data": {
      "image/png": "[encoded data removed]",
      "text/plain": [
       "<Figure size 432x288 with 1 Axes>"
      ]
     },
     "metadata": {
      "needs_background": "light"
     },
     "output_type": "display_data"
    }
   ],
   "source": [
    "# The major share of the customers arrived after the 2017\n",
    "profile_df['became_member_on'].hist()\n",
    "plt.show()"
   ]
  },
  {
   "cell_type": "markdown",
   "metadata": {},
   "source": [
    "#### Transcript DataFrame"
   ]
  },
  {
   "cell_type": "markdown",
   "metadata": {},
   "source": [
    "This dataframe contains the information about different transactions with details."
   ]
  },
  {
   "cell_type": "code",
   "execution_count": 19,
   "metadata": {},
   "outputs": [
    {
     "name": "stdout",
     "output_type": "stream",
     "text": [
      "The shape of Transcript dataframe is (306534, 4)\n"
     ]
    }
   ],
   "source": [
    "# Descripe the Transcript dataframe\n",
    "print('The shape of Transcript dataframe is {}'.format(transcript_df.shape))"
   ]
  },
  {
   "cell_type": "code",
   "execution_count": 20,
   "metadata": {},
   "outputs": [
    {
     "data": {
      "text/html": [
       "<div>\n",
       "<style scoped>\n",
       "    .dataframe tbody tr th:only-of-type {\n",
       "        vertical-align: middle;\n",
       "    }\n",
       "\n",
       "    .dataframe tbody tr th {\n",
       "        vertical-align: top;\n",
       "    }\n",
       "\n",
       "    .dataframe thead th {\n",
       "        text-align: right;\n",
       "    }\n",
       "</style>\n",
       "<table border=\"1\" class=\"dataframe\">\n",
       "  <thead>\n",
       "    <tr style=\"text-align: right;\">\n",
       "      <th></th>\n",
       "      <th>person</th>\n",
       "      <th>event</th>\n",
       "      <th>value</th>\n",
       "      <th>time</th>\n",
       "    </tr>\n",
       "  </thead>\n",
       "  <tbody>\n",
       "    <tr>\n",
       "      <th>0</th>\n",
       "      <td>78afa995795e4d85b5d9ceeca43f5fef</td>\n",
       "      <td>offer received</td>\n",
       "      <td>{'offer id': '9b98b8c7a33c4b65b9aebfe6a799e6d9'}</td>\n",
       "      <td>0</td>\n",
       "    </tr>\n",
       "    <tr>\n",
       "      <th>1</th>\n",
       "      <td>a03223e636434f42ac4c3df47e8bac43</td>\n",
       "      <td>offer received</td>\n",
       "      <td>{'offer id': '0b1e1539f2cc45b7b9fa7c272da2e1d7'}</td>\n",
       "      <td>0</td>\n",
       "    </tr>\n",
       "    <tr>\n",
       "      <th>2</th>\n",
       "      <td>e2127556f4f64592b11af22de27a7932</td>\n",
       "      <td>offer received</td>\n",
       "      <td>{'offer id': '2906b810c7d4411798c6938adc9daaa5'}</td>\n",
       "      <td>0</td>\n",
       "    </tr>\n",
       "    <tr>\n",
       "      <th>3</th>\n",
       "      <td>8ec6ce2a7e7949b1bf142def7d0e0586</td>\n",
       "      <td>offer received</td>\n",
       "      <td>{'offer id': 'fafdcd668e3743c1bb461111dcafc2a4'}</td>\n",
       "      <td>0</td>\n",
       "    </tr>\n",
       "    <tr>\n",
       "      <th>4</th>\n",
       "      <td>68617ca6246f4fbc85e91a2a49552598</td>\n",
       "      <td>offer received</td>\n",
       "      <td>{'offer id': '4d5c57ea9a6940dd891ad53e9dbe8da0'}</td>\n",
       "      <td>0</td>\n",
       "    </tr>\n",
       "    <tr>\n",
       "      <th>...</th>\n",
       "      <td>...</td>\n",
       "      <td>...</td>\n",
       "      <td>...</td>\n",
       "      <td>...</td>\n",
       "    </tr>\n",
       "    <tr>\n",
       "      <th>306529</th>\n",
       "      <td>b3a1272bc9904337b331bf348c3e8c17</td>\n",
       "      <td>transaction</td>\n",
       "      <td>{'amount': 1.5899999999999999}</td>\n",
       "      <td>714</td>\n",
       "    </tr>\n",
       "    <tr>\n",
       "      <th>306530</th>\n",
       "      <td>68213b08d99a4ae1b0dcb72aebd9aa35</td>\n",
       "      <td>transaction</td>\n",
       "      <td>{'amount': 9.53}</td>\n",
       "      <td>714</td>\n",
       "    </tr>\n",
       "    <tr>\n",
       "      <th>306531</th>\n",
       "      <td>a00058cf10334a308c68e7631c529907</td>\n",
       "      <td>transaction</td>\n",
       "      <td>{'amount': 3.61}</td>\n",
       "      <td>714</td>\n",
       "    </tr>\n",
       "    <tr>\n",
       "      <th>306532</th>\n",
       "      <td>76ddbd6576844afe811f1a3c0fbb5bec</td>\n",
       "      <td>transaction</td>\n",
       "      <td>{'amount': 3.5300000000000002}</td>\n",
       "      <td>714</td>\n",
       "    </tr>\n",
       "    <tr>\n",
       "      <th>306533</th>\n",
       "      <td>c02b10e8752c4d8e9b73f918558531f7</td>\n",
       "      <td>transaction</td>\n",
       "      <td>{'amount': 4.05}</td>\n",
       "      <td>714</td>\n",
       "    </tr>\n",
       "  </tbody>\n",
       "</table>\n",
       "<p>306534 rows × 4 columns</p>\n",
       "</div>"
      ],
      "text/plain": [
       "                                  person           event  \\\n",
       "0       78afa995795e4d85b5d9ceeca43f5fef  offer received   \n",
       "1       a03223e636434f42ac4c3df47e8bac43  offer received   \n",
       "2       e2127556f4f64592b11af22de27a7932  offer received   \n",
       "3       8ec6ce2a7e7949b1bf142def7d0e0586  offer received   \n",
       "4       68617ca6246f4fbc85e91a2a49552598  offer received   \n",
       "...                                  ...             ...   \n",
       "306529  b3a1272bc9904337b331bf348c3e8c17     transaction   \n",
       "306530  68213b08d99a4ae1b0dcb72aebd9aa35     transaction   \n",
       "306531  a00058cf10334a308c68e7631c529907     transaction   \n",
       "306532  76ddbd6576844afe811f1a3c0fbb5bec     transaction   \n",
       "306533  c02b10e8752c4d8e9b73f918558531f7     transaction   \n",
       "\n",
       "                                                   value  time  \n",
       "0       {'offer id': '9b98b8c7a33c4b65b9aebfe6a799e6d9'}     0  \n",
       "1       {'offer id': '0b1e1539f2cc45b7b9fa7c272da2e1d7'}     0  \n",
       "2       {'offer id': '2906b810c7d4411798c6938adc9daaa5'}     0  \n",
       "3       {'offer id': 'fafdcd668e3743c1bb461111dcafc2a4'}     0  \n",
       "4       {'offer id': '4d5c57ea9a6940dd891ad53e9dbe8da0'}     0  \n",
       "...                                                  ...   ...  \n",
       "306529                    {'amount': 1.5899999999999999}   714  \n",
       "306530                                  {'amount': 9.53}   714  \n",
       "306531                                  {'amount': 3.61}   714  \n",
       "306532                    {'amount': 3.5300000000000002}   714  \n",
       "306533                                  {'amount': 4.05}   714  \n",
       "\n",
       "[306534 rows x 4 columns]"
      ]
     },
     "metadata": {},
     "output_type": "display_data"
    }
   ],
   "source": [
    "# Show the Transcript dataframe\n",
    "display(transcript_df)"
   ]
  },
  {
   "cell_type": "code",
   "execution_count": 21,
   "metadata": {},
   "outputs": [
    {
     "data": {
      "text/html": [
       "<div>\n",
       "<style scoped>\n",
       "    .dataframe tbody tr th:only-of-type {\n",
       "        vertical-align: middle;\n",
       "    }\n",
       "\n",
       "    .dataframe tbody tr th {\n",
       "        vertical-align: top;\n",
       "    }\n",
       "\n",
       "    .dataframe thead th {\n",
       "        text-align: right;\n",
       "    }\n",
       "</style>\n",
       "<table border=\"1\" class=\"dataframe\">\n",
       "  <thead>\n",
       "    <tr style=\"text-align: right;\">\n",
       "      <th></th>\n",
       "      <th>count</th>\n",
       "    </tr>\n",
       "    <tr>\n",
       "      <th>event</th>\n",
       "      <th></th>\n",
       "    </tr>\n",
       "  </thead>\n",
       "  <tbody>\n",
       "    <tr>\n",
       "      <th>offer completed</th>\n",
       "      <td>33579.0</td>\n",
       "    </tr>\n",
       "    <tr>\n",
       "      <th>offer received</th>\n",
       "      <td>76277.0</td>\n",
       "    </tr>\n",
       "    <tr>\n",
       "      <th>offer viewed</th>\n",
       "      <td>57725.0</td>\n",
       "    </tr>\n",
       "    <tr>\n",
       "      <th>transaction</th>\n",
       "      <td>138953.0</td>\n",
       "    </tr>\n",
       "  </tbody>\n",
       "</table>\n",
       "</div>"
      ],
      "text/plain": [
       "                    count\n",
       "event                    \n",
       "offer completed   33579.0\n",
       "offer received    76277.0\n",
       "offer viewed      57725.0\n",
       "transaction      138953.0"
      ]
     },
     "execution_count": 21,
     "metadata": {},
     "output_type": "execute_result"
    }
   ],
   "source": [
    "# Here is the descriptive statistics about the each event count\n",
    "pd.DataFrame(transcript_df.groupby('event').describe()['time']['count'])"
   ]
  },
  {
   "cell_type": "code",
   "execution_count": 22,
   "metadata": {},
   "outputs": [
    {
     "data": {
      "text/html": [
       "<div>\n",
       "<style scoped>\n",
       "    .dataframe tbody tr th:only-of-type {\n",
       "        vertical-align: middle;\n",
       "    }\n",
       "\n",
       "    .dataframe tbody tr th {\n",
       "        vertical-align: top;\n",
       "    }\n",
       "\n",
       "    .dataframe thead th {\n",
       "        text-align: right;\n",
       "    }\n",
       "</style>\n",
       "<table border=\"1\" class=\"dataframe\">\n",
       "  <thead>\n",
       "    <tr style=\"text-align: right;\">\n",
       "      <th>event</th>\n",
       "      <th>offer completed</th>\n",
       "      <th>offer received</th>\n",
       "      <th>offer viewed</th>\n",
       "      <th>transaction</th>\n",
       "    </tr>\n",
       "    <tr>\n",
       "      <th>value</th>\n",
       "      <th></th>\n",
       "      <th></th>\n",
       "      <th></th>\n",
       "      <th></th>\n",
       "    </tr>\n",
       "  </thead>\n",
       "  <tbody>\n",
       "    <tr>\n",
       "      <th>['amount']</th>\n",
       "      <td>0</td>\n",
       "      <td>0</td>\n",
       "      <td>0</td>\n",
       "      <td>138953</td>\n",
       "    </tr>\n",
       "    <tr>\n",
       "      <th>['offer id']</th>\n",
       "      <td>0</td>\n",
       "      <td>76277</td>\n",
       "      <td>57725</td>\n",
       "      <td>0</td>\n",
       "    </tr>\n",
       "    <tr>\n",
       "      <th>['offer_id', 'reward']</th>\n",
       "      <td>33579</td>\n",
       "      <td>0</td>\n",
       "      <td>0</td>\n",
       "      <td>0</td>\n",
       "    </tr>\n",
       "  </tbody>\n",
       "</table>\n",
       "</div>"
      ],
      "text/plain": [
       "event                   offer completed  offer received  offer viewed  \\\n",
       "value                                                                   \n",
       "['amount']                            0               0             0   \n",
       "['offer id']                          0           76277         57725   \n",
       "['offer_id', 'reward']            33579               0             0   \n",
       "\n",
       "event                   transaction  \n",
       "value                                \n",
       "['amount']                   138953  \n",
       "['offer id']                      0  \n",
       "['offer_id', 'reward']            0  "
      ]
     },
     "execution_count": 22,
     "metadata": {},
     "output_type": "execute_result"
    }
   ],
   "source": [
    "# Let's delve more into the Value feature \n",
    "# and check the cross-intersection between the event and value\n",
    "values_parsed = transcript_df['value'].apply(lambda x: str(list(x.keys())))\n",
    "\n",
    "pd.crosstab(values_parsed, transcript_df['event'])"
   ]
  },
  {
   "cell_type": "code",
   "execution_count": 23,
   "metadata": {},
   "outputs": [],
   "source": [
    "# We can parse these values and replace value feature with the more \n",
    "# detailed ones\n",
    "\n",
    "transcript_df['offer_id'] = transcript_df['value'].apply(lambda x: \\\n",
    "                             x['offer_id'] if 'offer_id' in x \\\n",
    "                             else (x['offer id'] if 'offer id' \\\n",
    "                               in x else None))\n",
    "\n",
    "for key in ['amount', 'reward']:\n",
    "    transcript_df[key] = transcript_df['value'].apply(lambda x: \\\n",
    "                          x[key] if key in x else None)"
   ]
  },
  {
   "cell_type": "code",
   "execution_count": 24,
   "metadata": {},
   "outputs": [],
   "source": [
    "# Therefore, we can drop the old feature\n",
    "transcript_df = transcript_df.drop('value', axis=1)"
   ]
  },
  {
   "cell_type": "code",
   "execution_count": 25,
   "metadata": {},
   "outputs": [],
   "source": [
    "# Let's analyze the behavior of the particular client and check\n",
    "# the maximum number of purchases for specific customer\n",
    "\n",
    "purchases_per_client = transcript_df.groupby('person')['time'].count().sort_values(ascending=False)"
   ]
  },
  {
   "cell_type": "code",
   "execution_count": 26,
   "metadata": {},
   "outputs": [
    {
     "data": {
      "text/plain": [
       "person\n",
       "94de646f7b6041228ca7dec82adb97d2    51\n",
       "8dbfa485249f409aa223a2130f40634a    49\n",
       "79d9d4f86aca4bed9290350fb43817c2    48\n",
       "d0a80415b84c4df4908b8403b19765e3    48\n",
       "5e60c6aa3b834e44b822ea43a3efea26    48\n",
       "Name: time, dtype: int64"
      ]
     },
     "execution_count": 26,
     "metadata": {},
     "output_type": "execute_result"
    }
   ],
   "source": [
    "# Here is Top-5\n",
    "purchases_per_client.head(5)"
   ]
  },
  {
   "cell_type": "code",
   "execution_count": 27,
   "metadata": {
    "scrolled": true
   },
   "outputs": [
    {
     "data": {
      "text/html": [
       "<div>\n",
       "<style scoped>\n",
       "    .dataframe tbody tr th:only-of-type {\n",
       "        vertical-align: middle;\n",
       "    }\n",
       "\n",
       "    .dataframe tbody tr th {\n",
       "        vertical-align: top;\n",
       "    }\n",
       "\n",
       "    .dataframe thead th {\n",
       "        text-align: right;\n",
       "    }\n",
       "</style>\n",
       "<table border=\"1\" class=\"dataframe\">\n",
       "  <thead>\n",
       "    <tr style=\"text-align: right;\">\n",
       "      <th></th>\n",
       "      <th>person</th>\n",
       "      <th>event</th>\n",
       "      <th>time</th>\n",
       "      <th>offer_id</th>\n",
       "      <th>amount</th>\n",
       "      <th>reward</th>\n",
       "    </tr>\n",
       "  </thead>\n",
       "  <tbody>\n",
       "    <tr>\n",
       "      <th>2276</th>\n",
       "      <td>94de646f7b6041228ca7dec82adb97d2</td>\n",
       "      <td>offer received</td>\n",
       "      <td>0</td>\n",
       "      <td>f19421c1d4aa40978ebb69ca19b0e20d</td>\n",
       "      <td>NaN</td>\n",
       "      <td>NaN</td>\n",
       "    </tr>\n",
       "    <tr>\n",
       "      <th>16010</th>\n",
       "      <td>94de646f7b6041228ca7dec82adb97d2</td>\n",
       "      <td>offer viewed</td>\n",
       "      <td>6</td>\n",
       "      <td>f19421c1d4aa40978ebb69ca19b0e20d</td>\n",
       "      <td>NaN</td>\n",
       "      <td>NaN</td>\n",
       "    </tr>\n",
       "    <tr>\n",
       "      <th>24531</th>\n",
       "      <td>94de646f7b6041228ca7dec82adb97d2</td>\n",
       "      <td>transaction</td>\n",
       "      <td>30</td>\n",
       "      <td>None</td>\n",
       "      <td>7.41</td>\n",
       "      <td>NaN</td>\n",
       "    </tr>\n",
       "    <tr>\n",
       "      <th>24532</th>\n",
       "      <td>94de646f7b6041228ca7dec82adb97d2</td>\n",
       "      <td>offer completed</td>\n",
       "      <td>30</td>\n",
       "      <td>f19421c1d4aa40978ebb69ca19b0e20d</td>\n",
       "      <td>NaN</td>\n",
       "      <td>5.0</td>\n",
       "    </tr>\n",
       "    <tr>\n",
       "      <th>42252</th>\n",
       "      <td>94de646f7b6041228ca7dec82adb97d2</td>\n",
       "      <td>transaction</td>\n",
       "      <td>102</td>\n",
       "      <td>None</td>\n",
       "      <td>1.47</td>\n",
       "      <td>NaN</td>\n",
       "    </tr>\n",
       "    <tr>\n",
       "      <th>55475</th>\n",
       "      <td>94de646f7b6041228ca7dec82adb97d2</td>\n",
       "      <td>offer received</td>\n",
       "      <td>168</td>\n",
       "      <td>9b98b8c7a33c4b65b9aebfe6a799e6d9</td>\n",
       "      <td>NaN</td>\n",
       "      <td>NaN</td>\n",
       "    </tr>\n",
       "    <tr>\n",
       "      <th>75256</th>\n",
       "      <td>94de646f7b6041228ca7dec82adb97d2</td>\n",
       "      <td>offer viewed</td>\n",
       "      <td>186</td>\n",
       "      <td>9b98b8c7a33c4b65b9aebfe6a799e6d9</td>\n",
       "      <td>NaN</td>\n",
       "      <td>NaN</td>\n",
       "    </tr>\n",
       "    <tr>\n",
       "      <th>77624</th>\n",
       "      <td>94de646f7b6041228ca7dec82adb97d2</td>\n",
       "      <td>transaction</td>\n",
       "      <td>192</td>\n",
       "      <td>None</td>\n",
       "      <td>2.62</td>\n",
       "      <td>NaN</td>\n",
       "    </tr>\n",
       "    <tr>\n",
       "      <th>81725</th>\n",
       "      <td>94de646f7b6041228ca7dec82adb97d2</td>\n",
       "      <td>transaction</td>\n",
       "      <td>204</td>\n",
       "      <td>None</td>\n",
       "      <td>0.59</td>\n",
       "      <td>NaN</td>\n",
       "    </tr>\n",
       "    <tr>\n",
       "      <th>93913</th>\n",
       "      <td>94de646f7b6041228ca7dec82adb97d2</td>\n",
       "      <td>transaction</td>\n",
       "      <td>246</td>\n",
       "      <td>None</td>\n",
       "      <td>2.28</td>\n",
       "      <td>NaN</td>\n",
       "    </tr>\n",
       "    <tr>\n",
       "      <th>96627</th>\n",
       "      <td>94de646f7b6041228ca7dec82adb97d2</td>\n",
       "      <td>transaction</td>\n",
       "      <td>258</td>\n",
       "      <td>None</td>\n",
       "      <td>1.56</td>\n",
       "      <td>NaN</td>\n",
       "    </tr>\n",
       "    <tr>\n",
       "      <th>97913</th>\n",
       "      <td>94de646f7b6041228ca7dec82adb97d2</td>\n",
       "      <td>transaction</td>\n",
       "      <td>264</td>\n",
       "      <td>None</td>\n",
       "      <td>2.74</td>\n",
       "      <td>NaN</td>\n",
       "    </tr>\n",
       "    <tr>\n",
       "      <th>99190</th>\n",
       "      <td>94de646f7b6041228ca7dec82adb97d2</td>\n",
       "      <td>transaction</td>\n",
       "      <td>270</td>\n",
       "      <td>None</td>\n",
       "      <td>6.98</td>\n",
       "      <td>NaN</td>\n",
       "    </tr>\n",
       "    <tr>\n",
       "      <th>99191</th>\n",
       "      <td>94de646f7b6041228ca7dec82adb97d2</td>\n",
       "      <td>offer completed</td>\n",
       "      <td>270</td>\n",
       "      <td>9b98b8c7a33c4b65b9aebfe6a799e6d9</td>\n",
       "      <td>NaN</td>\n",
       "      <td>5.0</td>\n",
       "    </tr>\n",
       "    <tr>\n",
       "      <th>100437</th>\n",
       "      <td>94de646f7b6041228ca7dec82adb97d2</td>\n",
       "      <td>transaction</td>\n",
       "      <td>276</td>\n",
       "      <td>None</td>\n",
       "      <td>5.87</td>\n",
       "      <td>NaN</td>\n",
       "    </tr>\n",
       "    <tr>\n",
       "      <th>101667</th>\n",
       "      <td>94de646f7b6041228ca7dec82adb97d2</td>\n",
       "      <td>transaction</td>\n",
       "      <td>282</td>\n",
       "      <td>None</td>\n",
       "      <td>3.77</td>\n",
       "      <td>NaN</td>\n",
       "    </tr>\n",
       "    <tr>\n",
       "      <th>102890</th>\n",
       "      <td>94de646f7b6041228ca7dec82adb97d2</td>\n",
       "      <td>transaction</td>\n",
       "      <td>288</td>\n",
       "      <td>None</td>\n",
       "      <td>0.33</td>\n",
       "      <td>NaN</td>\n",
       "    </tr>\n",
       "    <tr>\n",
       "      <th>104013</th>\n",
       "      <td>94de646f7b6041228ca7dec82adb97d2</td>\n",
       "      <td>transaction</td>\n",
       "      <td>294</td>\n",
       "      <td>None</td>\n",
       "      <td>1.00</td>\n",
       "      <td>NaN</td>\n",
       "    </tr>\n",
       "    <tr>\n",
       "      <th>109101</th>\n",
       "      <td>94de646f7b6041228ca7dec82adb97d2</td>\n",
       "      <td>transaction</td>\n",
       "      <td>324</td>\n",
       "      <td>None</td>\n",
       "      <td>2.98</td>\n",
       "      <td>NaN</td>\n",
       "    </tr>\n",
       "    <tr>\n",
       "      <th>110041</th>\n",
       "      <td>94de646f7b6041228ca7dec82adb97d2</td>\n",
       "      <td>transaction</td>\n",
       "      <td>330</td>\n",
       "      <td>None</td>\n",
       "      <td>0.52</td>\n",
       "      <td>NaN</td>\n",
       "    </tr>\n",
       "    <tr>\n",
       "      <th>113102</th>\n",
       "      <td>94de646f7b6041228ca7dec82adb97d2</td>\n",
       "      <td>offer received</td>\n",
       "      <td>336</td>\n",
       "      <td>0b1e1539f2cc45b7b9fa7c272da2e1d7</td>\n",
       "      <td>NaN</td>\n",
       "      <td>NaN</td>\n",
       "    </tr>\n",
       "    <tr>\n",
       "      <th>152891</th>\n",
       "      <td>94de646f7b6041228ca7dec82adb97d2</td>\n",
       "      <td>offer received</td>\n",
       "      <td>408</td>\n",
       "      <td>fafdcd668e3743c1bb461111dcafc2a4</td>\n",
       "      <td>NaN</td>\n",
       "      <td>NaN</td>\n",
       "    </tr>\n",
       "    <tr>\n",
       "      <th>164148</th>\n",
       "      <td>94de646f7b6041228ca7dec82adb97d2</td>\n",
       "      <td>offer viewed</td>\n",
       "      <td>408</td>\n",
       "      <td>fafdcd668e3743c1bb461111dcafc2a4</td>\n",
       "      <td>NaN</td>\n",
       "      <td>NaN</td>\n",
       "    </tr>\n",
       "    <tr>\n",
       "      <th>168269</th>\n",
       "      <td>94de646f7b6041228ca7dec82adb97d2</td>\n",
       "      <td>transaction</td>\n",
       "      <td>414</td>\n",
       "      <td>None</td>\n",
       "      <td>9.66</td>\n",
       "      <td>NaN</td>\n",
       "    </tr>\n",
       "    <tr>\n",
       "      <th>171736</th>\n",
       "      <td>94de646f7b6041228ca7dec82adb97d2</td>\n",
       "      <td>offer completed</td>\n",
       "      <td>420</td>\n",
       "      <td>fafdcd668e3743c1bb461111dcafc2a4</td>\n",
       "      <td>NaN</td>\n",
       "      <td>2.0</td>\n",
       "    </tr>\n",
       "    <tr>\n",
       "      <th>171735</th>\n",
       "      <td>94de646f7b6041228ca7dec82adb97d2</td>\n",
       "      <td>transaction</td>\n",
       "      <td>420</td>\n",
       "      <td>None</td>\n",
       "      <td>1.35</td>\n",
       "      <td>NaN</td>\n",
       "    </tr>\n",
       "    <tr>\n",
       "      <th>177767</th>\n",
       "      <td>94de646f7b6041228ca7dec82adb97d2</td>\n",
       "      <td>transaction</td>\n",
       "      <td>432</td>\n",
       "      <td>None</td>\n",
       "      <td>1.84</td>\n",
       "      <td>NaN</td>\n",
       "    </tr>\n",
       "    <tr>\n",
       "      <th>180401</th>\n",
       "      <td>94de646f7b6041228ca7dec82adb97d2</td>\n",
       "      <td>transaction</td>\n",
       "      <td>438</td>\n",
       "      <td>None</td>\n",
       "      <td>0.93</td>\n",
       "      <td>NaN</td>\n",
       "    </tr>\n",
       "    <tr>\n",
       "      <th>185283</th>\n",
       "      <td>94de646f7b6041228ca7dec82adb97d2</td>\n",
       "      <td>transaction</td>\n",
       "      <td>450</td>\n",
       "      <td>None</td>\n",
       "      <td>2.79</td>\n",
       "      <td>NaN</td>\n",
       "    </tr>\n",
       "    <tr>\n",
       "      <th>187480</th>\n",
       "      <td>94de646f7b6041228ca7dec82adb97d2</td>\n",
       "      <td>transaction</td>\n",
       "      <td>456</td>\n",
       "      <td>None</td>\n",
       "      <td>1.70</td>\n",
       "      <td>NaN</td>\n",
       "    </tr>\n",
       "    <tr>\n",
       "      <th>193520</th>\n",
       "      <td>94de646f7b6041228ca7dec82adb97d2</td>\n",
       "      <td>transaction</td>\n",
       "      <td>474</td>\n",
       "      <td>None</td>\n",
       "      <td>0.99</td>\n",
       "      <td>NaN</td>\n",
       "    </tr>\n",
       "    <tr>\n",
       "      <th>198779</th>\n",
       "      <td>94de646f7b6041228ca7dec82adb97d2</td>\n",
       "      <td>transaction</td>\n",
       "      <td>492</td>\n",
       "      <td>None</td>\n",
       "      <td>1.40</td>\n",
       "      <td>NaN</td>\n",
       "    </tr>\n",
       "    <tr>\n",
       "      <th>198780</th>\n",
       "      <td>94de646f7b6041228ca7dec82adb97d2</td>\n",
       "      <td>offer completed</td>\n",
       "      <td>492</td>\n",
       "      <td>0b1e1539f2cc45b7b9fa7c272da2e1d7</td>\n",
       "      <td>NaN</td>\n",
       "      <td>5.0</td>\n",
       "    </tr>\n",
       "    <tr>\n",
       "      <th>203846</th>\n",
       "      <td>94de646f7b6041228ca7dec82adb97d2</td>\n",
       "      <td>offer received</td>\n",
       "      <td>504</td>\n",
       "      <td>9b98b8c7a33c4b65b9aebfe6a799e6d9</td>\n",
       "      <td>NaN</td>\n",
       "      <td>NaN</td>\n",
       "    </tr>\n",
       "    <tr>\n",
       "      <th>222483</th>\n",
       "      <td>94de646f7b6041228ca7dec82adb97d2</td>\n",
       "      <td>offer viewed</td>\n",
       "      <td>516</td>\n",
       "      <td>9b98b8c7a33c4b65b9aebfe6a799e6d9</td>\n",
       "      <td>NaN</td>\n",
       "      <td>NaN</td>\n",
       "    </tr>\n",
       "    <tr>\n",
       "      <th>222484</th>\n",
       "      <td>94de646f7b6041228ca7dec82adb97d2</td>\n",
       "      <td>transaction</td>\n",
       "      <td>516</td>\n",
       "      <td>None</td>\n",
       "      <td>0.27</td>\n",
       "      <td>NaN</td>\n",
       "    </tr>\n",
       "    <tr>\n",
       "      <th>235588</th>\n",
       "      <td>94de646f7b6041228ca7dec82adb97d2</td>\n",
       "      <td>transaction</td>\n",
       "      <td>546</td>\n",
       "      <td>None</td>\n",
       "      <td>1.02</td>\n",
       "      <td>NaN</td>\n",
       "    </tr>\n",
       "    <tr>\n",
       "      <th>237713</th>\n",
       "      <td>94de646f7b6041228ca7dec82adb97d2</td>\n",
       "      <td>transaction</td>\n",
       "      <td>552</td>\n",
       "      <td>None</td>\n",
       "      <td>2.70</td>\n",
       "      <td>NaN</td>\n",
       "    </tr>\n",
       "    <tr>\n",
       "      <th>247375</th>\n",
       "      <td>94de646f7b6041228ca7dec82adb97d2</td>\n",
       "      <td>offer received</td>\n",
       "      <td>576</td>\n",
       "      <td>4d5c57ea9a6940dd891ad53e9dbe8da0</td>\n",
       "      <td>NaN</td>\n",
       "      <td>NaN</td>\n",
       "    </tr>\n",
       "    <tr>\n",
       "      <th>258696</th>\n",
       "      <td>94de646f7b6041228ca7dec82adb97d2</td>\n",
       "      <td>transaction</td>\n",
       "      <td>576</td>\n",
       "      <td>None</td>\n",
       "      <td>4.13</td>\n",
       "      <td>NaN</td>\n",
       "    </tr>\n",
       "    <tr>\n",
       "      <th>266174</th>\n",
       "      <td>94de646f7b6041228ca7dec82adb97d2</td>\n",
       "      <td>transaction</td>\n",
       "      <td>588</td>\n",
       "      <td>None</td>\n",
       "      <td>0.31</td>\n",
       "      <td>NaN</td>\n",
       "    </tr>\n",
       "    <tr>\n",
       "      <th>275001</th>\n",
       "      <td>94de646f7b6041228ca7dec82adb97d2</td>\n",
       "      <td>transaction</td>\n",
       "      <td>606</td>\n",
       "      <td>None</td>\n",
       "      <td>5.64</td>\n",
       "      <td>NaN</td>\n",
       "    </tr>\n",
       "    <tr>\n",
       "      <th>275002</th>\n",
       "      <td>94de646f7b6041228ca7dec82adb97d2</td>\n",
       "      <td>offer completed</td>\n",
       "      <td>606</td>\n",
       "      <td>9b98b8c7a33c4b65b9aebfe6a799e6d9</td>\n",
       "      <td>NaN</td>\n",
       "      <td>5.0</td>\n",
       "    </tr>\n",
       "    <tr>\n",
       "      <th>282196</th>\n",
       "      <td>94de646f7b6041228ca7dec82adb97d2</td>\n",
       "      <td>offer viewed</td>\n",
       "      <td>624</td>\n",
       "      <td>4d5c57ea9a6940dd891ad53e9dbe8da0</td>\n",
       "      <td>NaN</td>\n",
       "      <td>NaN</td>\n",
       "    </tr>\n",
       "    <tr>\n",
       "      <th>282197</th>\n",
       "      <td>94de646f7b6041228ca7dec82adb97d2</td>\n",
       "      <td>transaction</td>\n",
       "      <td>624</td>\n",
       "      <td>None</td>\n",
       "      <td>6.18</td>\n",
       "      <td>NaN</td>\n",
       "    </tr>\n",
       "    <tr>\n",
       "      <th>293425</th>\n",
       "      <td>94de646f7b6041228ca7dec82adb97d2</td>\n",
       "      <td>transaction</td>\n",
       "      <td>660</td>\n",
       "      <td>None</td>\n",
       "      <td>1.78</td>\n",
       "      <td>NaN</td>\n",
       "    </tr>\n",
       "    <tr>\n",
       "      <th>295012</th>\n",
       "      <td>94de646f7b6041228ca7dec82adb97d2</td>\n",
       "      <td>transaction</td>\n",
       "      <td>666</td>\n",
       "      <td>None</td>\n",
       "      <td>0.41</td>\n",
       "      <td>NaN</td>\n",
       "    </tr>\n",
       "    <tr>\n",
       "      <th>298164</th>\n",
       "      <td>94de646f7b6041228ca7dec82adb97d2</td>\n",
       "      <td>transaction</td>\n",
       "      <td>678</td>\n",
       "      <td>None</td>\n",
       "      <td>0.42</td>\n",
       "      <td>NaN</td>\n",
       "    </tr>\n",
       "    <tr>\n",
       "      <th>300877</th>\n",
       "      <td>94de646f7b6041228ca7dec82adb97d2</td>\n",
       "      <td>transaction</td>\n",
       "      <td>690</td>\n",
       "      <td>None</td>\n",
       "      <td>0.73</td>\n",
       "      <td>NaN</td>\n",
       "    </tr>\n",
       "    <tr>\n",
       "      <th>302162</th>\n",
       "      <td>94de646f7b6041228ca7dec82adb97d2</td>\n",
       "      <td>transaction</td>\n",
       "      <td>696</td>\n",
       "      <td>None</td>\n",
       "      <td>4.96</td>\n",
       "      <td>NaN</td>\n",
       "    </tr>\n",
       "    <tr>\n",
       "      <th>303445</th>\n",
       "      <td>94de646f7b6041228ca7dec82adb97d2</td>\n",
       "      <td>transaction</td>\n",
       "      <td>702</td>\n",
       "      <td>None</td>\n",
       "      <td>0.90</td>\n",
       "      <td>NaN</td>\n",
       "    </tr>\n",
       "  </tbody>\n",
       "</table>\n",
       "</div>"
      ],
      "text/plain": [
       "                                  person            event  time  \\\n",
       "2276    94de646f7b6041228ca7dec82adb97d2   offer received     0   \n",
       "16010   94de646f7b6041228ca7dec82adb97d2     offer viewed     6   \n",
       "24531   94de646f7b6041228ca7dec82adb97d2      transaction    30   \n",
       "24532   94de646f7b6041228ca7dec82adb97d2  offer completed    30   \n",
       "42252   94de646f7b6041228ca7dec82adb97d2      transaction   102   \n",
       "55475   94de646f7b6041228ca7dec82adb97d2   offer received   168   \n",
       "75256   94de646f7b6041228ca7dec82adb97d2     offer viewed   186   \n",
       "77624   94de646f7b6041228ca7dec82adb97d2      transaction   192   \n",
       "81725   94de646f7b6041228ca7dec82adb97d2      transaction   204   \n",
       "93913   94de646f7b6041228ca7dec82adb97d2      transaction   246   \n",
       "96627   94de646f7b6041228ca7dec82adb97d2      transaction   258   \n",
       "97913   94de646f7b6041228ca7dec82adb97d2      transaction   264   \n",
       "99190   94de646f7b6041228ca7dec82adb97d2      transaction   270   \n",
       "99191   94de646f7b6041228ca7dec82adb97d2  offer completed   270   \n",
       "100437  94de646f7b6041228ca7dec82adb97d2      transaction   276   \n",
       "101667  94de646f7b6041228ca7dec82adb97d2      transaction   282   \n",
       "102890  94de646f7b6041228ca7dec82adb97d2      transaction   288   \n",
       "104013  94de646f7b6041228ca7dec82adb97d2      transaction   294   \n",
       "109101  94de646f7b6041228ca7dec82adb97d2      transaction   324   \n",
       "110041  94de646f7b6041228ca7dec82adb97d2      transaction   330   \n",
       "113102  94de646f7b6041228ca7dec82adb97d2   offer received   336   \n",
       "152891  94de646f7b6041228ca7dec82adb97d2   offer received   408   \n",
       "164148  94de646f7b6041228ca7dec82adb97d2     offer viewed   408   \n",
       "168269  94de646f7b6041228ca7dec82adb97d2      transaction   414   \n",
       "171736  94de646f7b6041228ca7dec82adb97d2  offer completed   420   \n",
       "171735  94de646f7b6041228ca7dec82adb97d2      transaction   420   \n",
       "177767  94de646f7b6041228ca7dec82adb97d2      transaction   432   \n",
       "180401  94de646f7b6041228ca7dec82adb97d2      transaction   438   \n",
       "185283  94de646f7b6041228ca7dec82adb97d2      transaction   450   \n",
       "187480  94de646f7b6041228ca7dec82adb97d2      transaction   456   \n",
       "193520  94de646f7b6041228ca7dec82adb97d2      transaction   474   \n",
       "198779  94de646f7b6041228ca7dec82adb97d2      transaction   492   \n",
       "198780  94de646f7b6041228ca7dec82adb97d2  offer completed   492   \n",
       "203846  94de646f7b6041228ca7dec82adb97d2   offer received   504   \n",
       "222483  94de646f7b6041228ca7dec82adb97d2     offer viewed   516   \n",
       "222484  94de646f7b6041228ca7dec82adb97d2      transaction   516   \n",
       "235588  94de646f7b6041228ca7dec82adb97d2      transaction   546   \n",
       "237713  94de646f7b6041228ca7dec82adb97d2      transaction   552   \n",
       "247375  94de646f7b6041228ca7dec82adb97d2   offer received   576   \n",
       "258696  94de646f7b6041228ca7dec82adb97d2      transaction   576   \n",
       "266174  94de646f7b6041228ca7dec82adb97d2      transaction   588   \n",
       "275001  94de646f7b6041228ca7dec82adb97d2      transaction   606   \n",
       "275002  94de646f7b6041228ca7dec82adb97d2  offer completed   606   \n",
       "282196  94de646f7b6041228ca7dec82adb97d2     offer viewed   624   \n",
       "282197  94de646f7b6041228ca7dec82adb97d2      transaction   624   \n",
       "293425  94de646f7b6041228ca7dec82adb97d2      transaction   660   \n",
       "295012  94de646f7b6041228ca7dec82adb97d2      transaction   666   \n",
       "298164  94de646f7b6041228ca7dec82adb97d2      transaction   678   \n",
       "300877  94de646f7b6041228ca7dec82adb97d2      transaction   690   \n",
       "302162  94de646f7b6041228ca7dec82adb97d2      transaction   696   \n",
       "303445  94de646f7b6041228ca7dec82adb97d2      transaction   702   \n",
       "\n",
       "                                offer_id  amount  reward  \n",
       "2276    f19421c1d4aa40978ebb69ca19b0e20d     NaN     NaN  \n",
       "16010   f19421c1d4aa40978ebb69ca19b0e20d     NaN     NaN  \n",
       "24531                               None    7.41     NaN  \n",
       "24532   f19421c1d4aa40978ebb69ca19b0e20d     NaN     5.0  \n",
       "42252                               None    1.47     NaN  \n",
       "55475   9b98b8c7a33c4b65b9aebfe6a799e6d9     NaN     NaN  \n",
       "75256   9b98b8c7a33c4b65b9aebfe6a799e6d9     NaN     NaN  \n",
       "77624                               None    2.62     NaN  \n",
       "81725                               None    0.59     NaN  \n",
       "93913                               None    2.28     NaN  \n",
       "96627                               None    1.56     NaN  \n",
       "97913                               None    2.74     NaN  \n",
       "99190                               None    6.98     NaN  \n",
       "99191   9b98b8c7a33c4b65b9aebfe6a799e6d9     NaN     5.0  \n",
       "100437                              None    5.87     NaN  \n",
       "101667                              None    3.77     NaN  \n",
       "102890                              None    0.33     NaN  \n",
       "104013                              None    1.00     NaN  \n",
       "109101                              None    2.98     NaN  \n",
       "110041                              None    0.52     NaN  \n",
       "113102  0b1e1539f2cc45b7b9fa7c272da2e1d7     NaN     NaN  \n",
       "152891  fafdcd668e3743c1bb461111dcafc2a4     NaN     NaN  \n",
       "164148  fafdcd668e3743c1bb461111dcafc2a4     NaN     NaN  \n",
       "168269                              None    9.66     NaN  \n",
       "171736  fafdcd668e3743c1bb461111dcafc2a4     NaN     2.0  \n",
       "171735                              None    1.35     NaN  \n",
       "177767                              None    1.84     NaN  \n",
       "180401                              None    0.93     NaN  \n",
       "185283                              None    2.79     NaN  \n",
       "187480                              None    1.70     NaN  \n",
       "193520                              None    0.99     NaN  \n",
       "198779                              None    1.40     NaN  \n",
       "198780  0b1e1539f2cc45b7b9fa7c272da2e1d7     NaN     5.0  \n",
       "203846  9b98b8c7a33c4b65b9aebfe6a799e6d9     NaN     NaN  \n",
       "222483  9b98b8c7a33c4b65b9aebfe6a799e6d9     NaN     NaN  \n",
       "222484                              None    0.27     NaN  \n",
       "235588                              None    1.02     NaN  \n",
       "237713                              None    2.70     NaN  \n",
       "247375  4d5c57ea9a6940dd891ad53e9dbe8da0     NaN     NaN  \n",
       "258696                              None    4.13     NaN  \n",
       "266174                              None    0.31     NaN  \n",
       "275001                              None    5.64     NaN  \n",
       "275002  9b98b8c7a33c4b65b9aebfe6a799e6d9     NaN     5.0  \n",
       "282196  4d5c57ea9a6940dd891ad53e9dbe8da0     NaN     NaN  \n",
       "282197                              None    6.18     NaN  \n",
       "293425                              None    1.78     NaN  \n",
       "295012                              None    0.41     NaN  \n",
       "298164                              None    0.42     NaN  \n",
       "300877                              None    0.73     NaN  \n",
       "302162                              None    4.96     NaN  \n",
       "303445                              None    0.90     NaN  "
      ]
     },
     "execution_count": 27,
     "metadata": {},
     "output_type": "execute_result"
    }
   ],
   "source": [
    "# Let's check the first client\n",
    "transcript_df.loc[transcript_df['person'] == \\\n",
    "                  purchases_per_client.index[0]].sort_values('time')"
   ]
  },
  {
   "cell_type": "markdown",
   "metadata": {},
   "source": [
    "We see that there is connection between transaction and offer completed, displayed with the same time. Let's check whether this is true"
   ]
  },
  {
   "cell_type": "code",
   "execution_count": 28,
   "metadata": {
    "scrolled": true
   },
   "outputs": [
    {
     "name": "stdout",
     "output_type": "stream",
     "text": [
      "There are 33579 matches\n"
     ]
    }
   ],
   "source": [
    "print('There are {} matches'.format(\\\n",
    "        len(pd.merge(transcript_df.loc[transcript_df['event'] == \\\n",
    "                                                 'offer completed'],\n",
    "        transcript_df.loc[transcript_df['event'] == 'transaction'],\n",
    "        on=['person', 'time']))))"
   ]
  },
  {
   "cell_type": "code",
   "execution_count": 29,
   "metadata": {},
   "outputs": [
    {
     "name": "stdout",
     "output_type": "stream",
     "text": [
      "There are 79329 matches\n"
     ]
    }
   ],
   "source": [
    "# Let's also check the connection between offer received and offer viewed\n",
    "print('There are {} matches'.format(\\\n",
    "        len(pd.merge(transcript_df.loc[transcript_df['event'] == \\\n",
    "                                                 'offer received'],\n",
    "        transcript_df.loc[transcript_df['event'] == 'offer viewed'],\n",
    "        on=['person', 'offer_id']))))"
   ]
  },
  {
   "cell_type": "markdown",
   "metadata": {},
   "source": [
    "#### Customer's Journey"
   ]
  },
  {
   "cell_type": "markdown",
   "metadata": {},
   "source": [
    "In order to analyze the conversion, we have to recreate the customer's journey using the data. We have to:\n",
    "- Analyze the data about the offer view\n",
    "- Check the conversion into the purchase\n",
    "- Analyze the data about the transaction"
   ]
  },
  {
   "cell_type": "code",
   "execution_count": 30,
   "metadata": {},
   "outputs": [],
   "source": [
    "# Merge the offer receives and offer views\n",
    "offer_view_df = pd.merge(\\\n",
    "         transcript_df.loc[transcript_df['event'] == 'offer received', \\\n",
    "                           ['person', 'offer_id', 'time']],\n",
    "         transcript_df.loc[transcript_df['event'] == 'offer viewed', \\\n",
    "                           ['person', 'offer_id', 'time']],\n",
    "         on=['person', 'offer_id'], how='left', \\\n",
    "         suffixes=['_received', '_viewed'])"
   ]
  },
  {
   "cell_type": "code",
   "execution_count": 31,
   "metadata": {},
   "outputs": [],
   "source": [
    "# Remove the broken data: view have to be later than receive and remove null values\n",
    "offer_view_df = offer_view_df.loc[(offer_view_df['time_viewed'] >= \\\n",
    "                                   offer_view_df['time_received']) | \\\n",
    "                                  ~(offer_view_df['time_viewed'].isnull())]"
   ]
  },
  {
   "cell_type": "code",
   "execution_count": 32,
   "metadata": {},
   "outputs": [],
   "source": [
    "# Take the nearest receive before the view\n",
    "offer_view_df = pd.concat((offer_view_df.groupby(['person', 'offer_id', \n",
    "          'time_viewed']).agg({'time_received': 'max'}).reset_index(),\n",
    "          offer_view_df.loc[offer_view_df['time_viewed'].isnull()]))"
   ]
  },
  {
   "cell_type": "code",
   "execution_count": 33,
   "metadata": {},
   "outputs": [
    {
     "data": {
      "text/html": [
       "<div>\n",
       "<style scoped>\n",
       "    .dataframe tbody tr th:only-of-type {\n",
       "        vertical-align: middle;\n",
       "    }\n",
       "\n",
       "    .dataframe tbody tr th {\n",
       "        vertical-align: top;\n",
       "    }\n",
       "\n",
       "    .dataframe thead th {\n",
       "        text-align: right;\n",
       "    }\n",
       "</style>\n",
       "<table border=\"1\" class=\"dataframe\">\n",
       "  <thead>\n",
       "    <tr style=\"text-align: right;\">\n",
       "      <th></th>\n",
       "      <th>person</th>\n",
       "      <th>offer_id</th>\n",
       "      <th>time_viewed</th>\n",
       "      <th>time_received</th>\n",
       "    </tr>\n",
       "  </thead>\n",
       "  <tbody>\n",
       "    <tr>\n",
       "      <th>0</th>\n",
       "      <td>0009655768c64bdeb2e877511632db8f</td>\n",
       "      <td>3f207df678b143eea3cee63160fa8bed</td>\n",
       "      <td>372.0</td>\n",
       "      <td>336</td>\n",
       "    </tr>\n",
       "    <tr>\n",
       "      <th>1</th>\n",
       "      <td>0009655768c64bdeb2e877511632db8f</td>\n",
       "      <td>5a8bc65990b245e5a138643cd4eb9837</td>\n",
       "      <td>192.0</td>\n",
       "      <td>168</td>\n",
       "    </tr>\n",
       "    <tr>\n",
       "      <th>2</th>\n",
       "      <td>0009655768c64bdeb2e877511632db8f</td>\n",
       "      <td>f19421c1d4aa40978ebb69ca19b0e20d</td>\n",
       "      <td>456.0</td>\n",
       "      <td>408</td>\n",
       "    </tr>\n",
       "    <tr>\n",
       "      <th>3</th>\n",
       "      <td>0009655768c64bdeb2e877511632db8f</td>\n",
       "      <td>fafdcd668e3743c1bb461111dcafc2a4</td>\n",
       "      <td>540.0</td>\n",
       "      <td>504</td>\n",
       "    </tr>\n",
       "    <tr>\n",
       "      <th>4</th>\n",
       "      <td>00116118485d4dfda04fdbaba9a87b5c</td>\n",
       "      <td>f19421c1d4aa40978ebb69ca19b0e20d</td>\n",
       "      <td>216.0</td>\n",
       "      <td>576</td>\n",
       "    </tr>\n",
       "  </tbody>\n",
       "</table>\n",
       "</div>"
      ],
      "text/plain": [
       "                             person                          offer_id  \\\n",
       "0  0009655768c64bdeb2e877511632db8f  3f207df678b143eea3cee63160fa8bed   \n",
       "1  0009655768c64bdeb2e877511632db8f  5a8bc65990b245e5a138643cd4eb9837   \n",
       "2  0009655768c64bdeb2e877511632db8f  f19421c1d4aa40978ebb69ca19b0e20d   \n",
       "3  0009655768c64bdeb2e877511632db8f  fafdcd668e3743c1bb461111dcafc2a4   \n",
       "4  00116118485d4dfda04fdbaba9a87b5c  f19421c1d4aa40978ebb69ca19b0e20d   \n",
       "\n",
       "   time_viewed  time_received  \n",
       "0        372.0            336  \n",
       "1        192.0            168  \n",
       "2        456.0            408  \n",
       "3        540.0            504  \n",
       "4        216.0            576  "
      ]
     },
     "execution_count": 33,
     "metadata": {},
     "output_type": "execute_result"
    }
   ],
   "source": [
    "offer_view_df.head()"
   ]
  },
  {
   "cell_type": "markdown",
   "metadata": {},
   "source": [
    "Let's apply the same reasoning to the offer completion"
   ]
  },
  {
   "cell_type": "code",
   "execution_count": 34,
   "metadata": {},
   "outputs": [],
   "source": [
    "# Merge the DataFrames\n",
    "offer_complete_df = pd.merge(offer_view_df, \n",
    "         transcript_df.loc[transcript_df['event'] == 'offer completed', \\\n",
    "                           ['person', 'offer_id', 'time', 'reward']],\n",
    "         on=['person', 'offer_id'], how='left')\n",
    "\n",
    "# Rename the column\n",
    "offer_complete_df.rename(columns={'time': 'time_completed'}, inplace=True)"
   ]
  },
  {
   "cell_type": "code",
   "execution_count": 35,
   "metadata": {},
   "outputs": [],
   "source": [
    "# We ensure that completion is before the view \n",
    "offer_complete_df.loc[(offer_complete_df['time_viewed'].isnull()) | \\\n",
    "                      (offer_complete_df['time_viewed'] > \\\n",
    "                       offer_complete_df['time_completed']), \\\n",
    "                      ['reward', 'time_completed']] = (np.nan, np.nan)\n",
    "\n",
    "offer_complete_df.drop_duplicates = offer_complete_df.drop_duplicates()"
   ]
  },
  {
   "cell_type": "code",
   "execution_count": 36,
   "metadata": {},
   "outputs": [],
   "source": [
    "# Concatenate the nearest completion to the view and receive\n",
    "offer_complete_df = pd.concat(\n",
    "    (offer_complete_df.groupby(['person', 'offer_id', \n",
    "    'time_completed', 'reward']).agg({'time_viewed': 'max', \n",
    "                                  'time_received': 'max'}).reset_index(),\n",
    "     offer_complete_df.loc[offer_complete_df['time_completed'].isnull()]))"
   ]
  },
  {
   "cell_type": "code",
   "execution_count": 37,
   "metadata": {},
   "outputs": [
    {
     "data": {
      "text/html": [
       "<div>\n",
       "<style scoped>\n",
       "    .dataframe tbody tr th:only-of-type {\n",
       "        vertical-align: middle;\n",
       "    }\n",
       "\n",
       "    .dataframe tbody tr th {\n",
       "        vertical-align: top;\n",
       "    }\n",
       "\n",
       "    .dataframe thead th {\n",
       "        text-align: right;\n",
       "    }\n",
       "</style>\n",
       "<table border=\"1\" class=\"dataframe\">\n",
       "  <thead>\n",
       "    <tr style=\"text-align: right;\">\n",
       "      <th></th>\n",
       "      <th>person</th>\n",
       "      <th>offer_id</th>\n",
       "      <th>time_completed</th>\n",
       "      <th>reward</th>\n",
       "      <th>time_viewed</th>\n",
       "      <th>time_received</th>\n",
       "    </tr>\n",
       "  </thead>\n",
       "  <tbody>\n",
       "    <tr>\n",
       "      <th>0</th>\n",
       "      <td>0011e0d4e6b944f998e987f904e8c1e5</td>\n",
       "      <td>0b1e1539f2cc45b7b9fa7c272da2e1d7</td>\n",
       "      <td>576.0</td>\n",
       "      <td>5.0</td>\n",
       "      <td>432.0</td>\n",
       "      <td>408</td>\n",
       "    </tr>\n",
       "    <tr>\n",
       "      <th>1</th>\n",
       "      <td>0011e0d4e6b944f998e987f904e8c1e5</td>\n",
       "      <td>2298d6c36e964ae4a3e7e9706d1fb8c2</td>\n",
       "      <td>252.0</td>\n",
       "      <td>3.0</td>\n",
       "      <td>186.0</td>\n",
       "      <td>168</td>\n",
       "    </tr>\n",
       "    <tr>\n",
       "      <th>2</th>\n",
       "      <td>0011e0d4e6b944f998e987f904e8c1e5</td>\n",
       "      <td>9b98b8c7a33c4b65b9aebfe6a799e6d9</td>\n",
       "      <td>576.0</td>\n",
       "      <td>5.0</td>\n",
       "      <td>516.0</td>\n",
       "      <td>504</td>\n",
       "    </tr>\n",
       "    <tr>\n",
       "      <th>3</th>\n",
       "      <td>0020c2b971eb4e9188eac86d93036a77</td>\n",
       "      <td>4d5c57ea9a6940dd891ad53e9dbe8da0</td>\n",
       "      <td>510.0</td>\n",
       "      <td>10.0</td>\n",
       "      <td>426.0</td>\n",
       "      <td>408</td>\n",
       "    </tr>\n",
       "    <tr>\n",
       "      <th>4</th>\n",
       "      <td>0020c2b971eb4e9188eac86d93036a77</td>\n",
       "      <td>fafdcd668e3743c1bb461111dcafc2a4</td>\n",
       "      <td>54.0</td>\n",
       "      <td>2.0</td>\n",
       "      <td>12.0</td>\n",
       "      <td>336</td>\n",
       "    </tr>\n",
       "  </tbody>\n",
       "</table>\n",
       "</div>"
      ],
      "text/plain": [
       "                             person                          offer_id  \\\n",
       "0  0011e0d4e6b944f998e987f904e8c1e5  0b1e1539f2cc45b7b9fa7c272da2e1d7   \n",
       "1  0011e0d4e6b944f998e987f904e8c1e5  2298d6c36e964ae4a3e7e9706d1fb8c2   \n",
       "2  0011e0d4e6b944f998e987f904e8c1e5  9b98b8c7a33c4b65b9aebfe6a799e6d9   \n",
       "3  0020c2b971eb4e9188eac86d93036a77  4d5c57ea9a6940dd891ad53e9dbe8da0   \n",
       "4  0020c2b971eb4e9188eac86d93036a77  fafdcd668e3743c1bb461111dcafc2a4   \n",
       "\n",
       "   time_completed  reward  time_viewed  time_received  \n",
       "0           576.0     5.0        432.0            408  \n",
       "1           252.0     3.0        186.0            168  \n",
       "2           576.0     5.0        516.0            504  \n",
       "3           510.0    10.0        426.0            408  \n",
       "4            54.0     2.0         12.0            336  "
      ]
     },
     "execution_count": 37,
     "metadata": {},
     "output_type": "execute_result"
    }
   ],
   "source": [
    "offer_complete_df.head()"
   ]
  },
  {
   "cell_type": "markdown",
   "metadata": {},
   "source": [
    "Now let's add the information about the transactions"
   ]
  },
  {
   "cell_type": "code",
   "execution_count": 38,
   "metadata": {},
   "outputs": [],
   "source": [
    "# Merge the DataFrames\n",
    "offer_transaction_df = pd.merge(offer_complete_df, \n",
    "         transcript_df.loc[transcript_df['event'] == 'transaction', \\\n",
    "                           ['person', 'time', 'amount']],\n",
    "         left_on=['person', 'time_completed'], \n",
    "        right_on=['person', 'time'], how='outer')"
   ]
  },
  {
   "cell_type": "code",
   "execution_count": 39,
   "metadata": {},
   "outputs": [],
   "source": [
    "# Rename the column\n",
    "offer_transaction_df.rename(columns={'time': 'time_transaction'}, inplace=True)"
   ]
  },
  {
   "cell_type": "code",
   "execution_count": 40,
   "metadata": {},
   "outputs": [],
   "source": [
    "# Add a column with time equal to received offer, \n",
    "# and transaction time otherwise\n",
    "offer_transaction_df['time'] = offer_transaction_df['time_received']"
   ]
  },
  {
   "cell_type": "code",
   "execution_count": 41,
   "metadata": {},
   "outputs": [],
   "source": [
    "offer_transaction_df.loc[offer_transaction_df['time'].isnull(), \n",
    "                         'time'] = offer_transaction_df['time_transaction']"
   ]
  },
  {
   "cell_type": "code",
   "execution_count": 42,
   "metadata": {},
   "outputs": [],
   "source": [
    "# Drop the duplicates\n",
    "offer_transaction_df.sort_values(['person', 'offer_id', 'time', \n",
    "                                  'time_completed'], inplace=True)\n",
    "offer_transaction_df = offer_transaction_df.drop_duplicates(['person', \n",
    "                         'offer_id', 'time'])"
   ]
  },
  {
   "cell_type": "code",
   "execution_count": 43,
   "metadata": {
    "scrolled": true
   },
   "outputs": [
    {
     "name": "stdout",
     "output_type": "stream",
     "text": [
      "The final data size is  (164558, 9)\n"
     ]
    }
   ],
   "source": [
    "print(\"The final data size is \", offer_transaction_df.shape)"
   ]
  },
  {
   "cell_type": "markdown",
   "metadata": {},
   "source": [
    "Let's finally merge all the data into the single DataFrame."
   ]
  },
  {
   "cell_type": "code",
   "execution_count": 44,
   "metadata": {},
   "outputs": [],
   "source": [
    "# Add offer type information\n",
    "offer_type_df = pd.merge(offer_transaction_df, \n",
    "         portfolio_df.rename(columns={'id': 'offer_id', \n",
    "                                   'reward': 'portfolio_reward'}),\n",
    "        on='offer_id', how='left')"
   ]
  },
  {
   "cell_type": "code",
   "execution_count": 45,
   "metadata": {},
   "outputs": [
    {
     "data": {
      "text/html": [
       "<div>\n",
       "<style scoped>\n",
       "    .dataframe tbody tr th:only-of-type {\n",
       "        vertical-align: middle;\n",
       "    }\n",
       "\n",
       "    .dataframe tbody tr th {\n",
       "        vertical-align: top;\n",
       "    }\n",
       "\n",
       "    .dataframe thead th {\n",
       "        text-align: right;\n",
       "    }\n",
       "</style>\n",
       "<table border=\"1\" class=\"dataframe\">\n",
       "  <thead>\n",
       "    <tr style=\"text-align: right;\">\n",
       "      <th></th>\n",
       "      <th>person</th>\n",
       "      <th>offer_id</th>\n",
       "      <th>time_completed</th>\n",
       "      <th>reward</th>\n",
       "      <th>time_viewed</th>\n",
       "      <th>time_received</th>\n",
       "      <th>time_transaction</th>\n",
       "      <th>amount</th>\n",
       "      <th>time</th>\n",
       "      <th>portfolio_reward</th>\n",
       "      <th>channels</th>\n",
       "      <th>difficulty</th>\n",
       "      <th>duration</th>\n",
       "      <th>offer_type</th>\n",
       "    </tr>\n",
       "  </thead>\n",
       "  <tbody>\n",
       "    <tr>\n",
       "      <th>0</th>\n",
       "      <td>0009655768c64bdeb2e877511632db8f</td>\n",
       "      <td>3f207df678b143eea3cee63160fa8bed</td>\n",
       "      <td>NaN</td>\n",
       "      <td>NaN</td>\n",
       "      <td>372.0</td>\n",
       "      <td>336.0</td>\n",
       "      <td>NaN</td>\n",
       "      <td>NaN</td>\n",
       "      <td>336.0</td>\n",
       "      <td>0.0</td>\n",
       "      <td>[web, email, mobile]</td>\n",
       "      <td>0.0</td>\n",
       "      <td>4.0</td>\n",
       "      <td>informational</td>\n",
       "    </tr>\n",
       "    <tr>\n",
       "      <th>1</th>\n",
       "      <td>0009655768c64bdeb2e877511632db8f</td>\n",
       "      <td>5a8bc65990b245e5a138643cd4eb9837</td>\n",
       "      <td>NaN</td>\n",
       "      <td>NaN</td>\n",
       "      <td>192.0</td>\n",
       "      <td>168.0</td>\n",
       "      <td>NaN</td>\n",
       "      <td>NaN</td>\n",
       "      <td>168.0</td>\n",
       "      <td>0.0</td>\n",
       "      <td>[email, mobile, social]</td>\n",
       "      <td>0.0</td>\n",
       "      <td>3.0</td>\n",
       "      <td>informational</td>\n",
       "    </tr>\n",
       "    <tr>\n",
       "      <th>2</th>\n",
       "      <td>0009655768c64bdeb2e877511632db8f</td>\n",
       "      <td>f19421c1d4aa40978ebb69ca19b0e20d</td>\n",
       "      <td>NaN</td>\n",
       "      <td>NaN</td>\n",
       "      <td>456.0</td>\n",
       "      <td>408.0</td>\n",
       "      <td>NaN</td>\n",
       "      <td>NaN</td>\n",
       "      <td>408.0</td>\n",
       "      <td>5.0</td>\n",
       "      <td>[web, email, mobile, social]</td>\n",
       "      <td>5.0</td>\n",
       "      <td>5.0</td>\n",
       "      <td>bogo</td>\n",
       "    </tr>\n",
       "    <tr>\n",
       "      <th>3</th>\n",
       "      <td>0009655768c64bdeb2e877511632db8f</td>\n",
       "      <td>fafdcd668e3743c1bb461111dcafc2a4</td>\n",
       "      <td>NaN</td>\n",
       "      <td>NaN</td>\n",
       "      <td>540.0</td>\n",
       "      <td>504.0</td>\n",
       "      <td>NaN</td>\n",
       "      <td>NaN</td>\n",
       "      <td>504.0</td>\n",
       "      <td>2.0</td>\n",
       "      <td>[web, email, mobile, social]</td>\n",
       "      <td>10.0</td>\n",
       "      <td>10.0</td>\n",
       "      <td>discount</td>\n",
       "    </tr>\n",
       "    <tr>\n",
       "      <th>4</th>\n",
       "      <td>0009655768c64bdeb2e877511632db8f</td>\n",
       "      <td>NaN</td>\n",
       "      <td>NaN</td>\n",
       "      <td>NaN</td>\n",
       "      <td>NaN</td>\n",
       "      <td>NaN</td>\n",
       "      <td>228.0</td>\n",
       "      <td>22.16</td>\n",
       "      <td>228.0</td>\n",
       "      <td>NaN</td>\n",
       "      <td>NaN</td>\n",
       "      <td>NaN</td>\n",
       "      <td>NaN</td>\n",
       "      <td>NaN</td>\n",
       "    </tr>\n",
       "  </tbody>\n",
       "</table>\n",
       "</div>"
      ],
      "text/plain": [
       "                             person                          offer_id  \\\n",
       "0  0009655768c64bdeb2e877511632db8f  3f207df678b143eea3cee63160fa8bed   \n",
       "1  0009655768c64bdeb2e877511632db8f  5a8bc65990b245e5a138643cd4eb9837   \n",
       "2  0009655768c64bdeb2e877511632db8f  f19421c1d4aa40978ebb69ca19b0e20d   \n",
       "3  0009655768c64bdeb2e877511632db8f  fafdcd668e3743c1bb461111dcafc2a4   \n",
       "4  0009655768c64bdeb2e877511632db8f                               NaN   \n",
       "\n",
       "   time_completed  reward  time_viewed  time_received  time_transaction  \\\n",
       "0             NaN     NaN        372.0          336.0               NaN   \n",
       "1             NaN     NaN        192.0          168.0               NaN   \n",
       "2             NaN     NaN        456.0          408.0               NaN   \n",
       "3             NaN     NaN        540.0          504.0               NaN   \n",
       "4             NaN     NaN          NaN            NaN             228.0   \n",
       "\n",
       "   amount   time  portfolio_reward                      channels  difficulty  \\\n",
       "0     NaN  336.0               0.0          [web, email, mobile]         0.0   \n",
       "1     NaN  168.0               0.0       [email, mobile, social]         0.0   \n",
       "2     NaN  408.0               5.0  [web, email, mobile, social]         5.0   \n",
       "3     NaN  504.0               2.0  [web, email, mobile, social]        10.0   \n",
       "4   22.16  228.0               NaN                           NaN         NaN   \n",
       "\n",
       "   duration     offer_type  \n",
       "0       4.0  informational  \n",
       "1       3.0  informational  \n",
       "2       5.0           bogo  \n",
       "3      10.0       discount  \n",
       "4       NaN            NaN  "
      ]
     },
     "execution_count": 45,
     "metadata": {},
     "output_type": "execute_result"
    }
   ],
   "source": [
    "offer_type_df.head()"
   ]
  },
  {
   "cell_type": "code",
   "execution_count": 46,
   "metadata": {},
   "outputs": [],
   "source": [
    "# Add demographic information\n",
    "offer_all_df = pd.merge(offer_type_df,\n",
    "                       profile_df.rename(columns={'id': 'person'}),\n",
    "                       how='inner', on='person')"
   ]
  },
  {
   "cell_type": "code",
   "execution_count": 47,
   "metadata": {},
   "outputs": [
    {
     "data": {
      "text/html": [
       "<div>\n",
       "<style scoped>\n",
       "    .dataframe tbody tr th:only-of-type {\n",
       "        vertical-align: middle;\n",
       "    }\n",
       "\n",
       "    .dataframe tbody tr th {\n",
       "        vertical-align: top;\n",
       "    }\n",
       "\n",
       "    .dataframe thead th {\n",
       "        text-align: right;\n",
       "    }\n",
       "</style>\n",
       "<table border=\"1\" class=\"dataframe\">\n",
       "  <thead>\n",
       "    <tr style=\"text-align: right;\">\n",
       "      <th></th>\n",
       "      <th>person</th>\n",
       "      <th>offer_id</th>\n",
       "      <th>time_completed</th>\n",
       "      <th>reward</th>\n",
       "      <th>time_viewed</th>\n",
       "      <th>time_received</th>\n",
       "      <th>time_transaction</th>\n",
       "      <th>amount</th>\n",
       "      <th>time</th>\n",
       "      <th>portfolio_reward</th>\n",
       "      <th>channels</th>\n",
       "      <th>difficulty</th>\n",
       "      <th>duration</th>\n",
       "      <th>offer_type</th>\n",
       "      <th>gender</th>\n",
       "      <th>age</th>\n",
       "      <th>became_member_on</th>\n",
       "      <th>income</th>\n",
       "    </tr>\n",
       "  </thead>\n",
       "  <tbody>\n",
       "    <tr>\n",
       "      <th>0</th>\n",
       "      <td>0009655768c64bdeb2e877511632db8f</td>\n",
       "      <td>3f207df678b143eea3cee63160fa8bed</td>\n",
       "      <td>NaN</td>\n",
       "      <td>NaN</td>\n",
       "      <td>372.0</td>\n",
       "      <td>336.0</td>\n",
       "      <td>NaN</td>\n",
       "      <td>NaN</td>\n",
       "      <td>336.0</td>\n",
       "      <td>0.0</td>\n",
       "      <td>[web, email, mobile]</td>\n",
       "      <td>0.0</td>\n",
       "      <td>4.0</td>\n",
       "      <td>informational</td>\n",
       "      <td>M</td>\n",
       "      <td>33</td>\n",
       "      <td>2017-04-21</td>\n",
       "      <td>72000.0</td>\n",
       "    </tr>\n",
       "    <tr>\n",
       "      <th>1</th>\n",
       "      <td>0009655768c64bdeb2e877511632db8f</td>\n",
       "      <td>5a8bc65990b245e5a138643cd4eb9837</td>\n",
       "      <td>NaN</td>\n",
       "      <td>NaN</td>\n",
       "      <td>192.0</td>\n",
       "      <td>168.0</td>\n",
       "      <td>NaN</td>\n",
       "      <td>NaN</td>\n",
       "      <td>168.0</td>\n",
       "      <td>0.0</td>\n",
       "      <td>[email, mobile, social]</td>\n",
       "      <td>0.0</td>\n",
       "      <td>3.0</td>\n",
       "      <td>informational</td>\n",
       "      <td>M</td>\n",
       "      <td>33</td>\n",
       "      <td>2017-04-21</td>\n",
       "      <td>72000.0</td>\n",
       "    </tr>\n",
       "    <tr>\n",
       "      <th>2</th>\n",
       "      <td>0009655768c64bdeb2e877511632db8f</td>\n",
       "      <td>f19421c1d4aa40978ebb69ca19b0e20d</td>\n",
       "      <td>NaN</td>\n",
       "      <td>NaN</td>\n",
       "      <td>456.0</td>\n",
       "      <td>408.0</td>\n",
       "      <td>NaN</td>\n",
       "      <td>NaN</td>\n",
       "      <td>408.0</td>\n",
       "      <td>5.0</td>\n",
       "      <td>[web, email, mobile, social]</td>\n",
       "      <td>5.0</td>\n",
       "      <td>5.0</td>\n",
       "      <td>bogo</td>\n",
       "      <td>M</td>\n",
       "      <td>33</td>\n",
       "      <td>2017-04-21</td>\n",
       "      <td>72000.0</td>\n",
       "    </tr>\n",
       "    <tr>\n",
       "      <th>3</th>\n",
       "      <td>0009655768c64bdeb2e877511632db8f</td>\n",
       "      <td>fafdcd668e3743c1bb461111dcafc2a4</td>\n",
       "      <td>NaN</td>\n",
       "      <td>NaN</td>\n",
       "      <td>540.0</td>\n",
       "      <td>504.0</td>\n",
       "      <td>NaN</td>\n",
       "      <td>NaN</td>\n",
       "      <td>504.0</td>\n",
       "      <td>2.0</td>\n",
       "      <td>[web, email, mobile, social]</td>\n",
       "      <td>10.0</td>\n",
       "      <td>10.0</td>\n",
       "      <td>discount</td>\n",
       "      <td>M</td>\n",
       "      <td>33</td>\n",
       "      <td>2017-04-21</td>\n",
       "      <td>72000.0</td>\n",
       "    </tr>\n",
       "    <tr>\n",
       "      <th>4</th>\n",
       "      <td>0009655768c64bdeb2e877511632db8f</td>\n",
       "      <td>NaN</td>\n",
       "      <td>NaN</td>\n",
       "      <td>NaN</td>\n",
       "      <td>NaN</td>\n",
       "      <td>NaN</td>\n",
       "      <td>228.0</td>\n",
       "      <td>22.16</td>\n",
       "      <td>228.0</td>\n",
       "      <td>NaN</td>\n",
       "      <td>NaN</td>\n",
       "      <td>NaN</td>\n",
       "      <td>NaN</td>\n",
       "      <td>NaN</td>\n",
       "      <td>M</td>\n",
       "      <td>33</td>\n",
       "      <td>2017-04-21</td>\n",
       "      <td>72000.0</td>\n",
       "    </tr>\n",
       "  </tbody>\n",
       "</table>\n",
       "</div>"
      ],
      "text/plain": [
       "                             person                          offer_id  \\\n",
       "0  0009655768c64bdeb2e877511632db8f  3f207df678b143eea3cee63160fa8bed   \n",
       "1  0009655768c64bdeb2e877511632db8f  5a8bc65990b245e5a138643cd4eb9837   \n",
       "2  0009655768c64bdeb2e877511632db8f  f19421c1d4aa40978ebb69ca19b0e20d   \n",
       "3  0009655768c64bdeb2e877511632db8f  fafdcd668e3743c1bb461111dcafc2a4   \n",
       "4  0009655768c64bdeb2e877511632db8f                               NaN   \n",
       "\n",
       "   time_completed  reward  time_viewed  time_received  time_transaction  \\\n",
       "0             NaN     NaN        372.0          336.0               NaN   \n",
       "1             NaN     NaN        192.0          168.0               NaN   \n",
       "2             NaN     NaN        456.0          408.0               NaN   \n",
       "3             NaN     NaN        540.0          504.0               NaN   \n",
       "4             NaN     NaN          NaN            NaN             228.0   \n",
       "\n",
       "   amount   time  portfolio_reward                      channels  difficulty  \\\n",
       "0     NaN  336.0               0.0          [web, email, mobile]         0.0   \n",
       "1     NaN  168.0               0.0       [email, mobile, social]         0.0   \n",
       "2     NaN  408.0               5.0  [web, email, mobile, social]         5.0   \n",
       "3     NaN  504.0               2.0  [web, email, mobile, social]        10.0   \n",
       "4   22.16  228.0               NaN                           NaN         NaN   \n",
       "\n",
       "   duration     offer_type gender  age became_member_on   income  \n",
       "0       4.0  informational      M   33       2017-04-21  72000.0  \n",
       "1       3.0  informational      M   33       2017-04-21  72000.0  \n",
       "2       5.0           bogo      M   33       2017-04-21  72000.0  \n",
       "3      10.0       discount      M   33       2017-04-21  72000.0  \n",
       "4       NaN            NaN      M   33       2017-04-21  72000.0  "
      ]
     },
     "execution_count": 47,
     "metadata": {},
     "output_type": "execute_result"
    }
   ],
   "source": [
    "offer_all_df.head()"
   ]
  },
  {
   "cell_type": "code",
   "execution_count": 48,
   "metadata": {},
   "outputs": [],
   "source": [
    "# Sort the data\n",
    "offer_all_df.sort_values(['person', 'time', 'offer_id'], inplace=True)"
   ]
  },
  {
   "cell_type": "code",
   "execution_count": 49,
   "metadata": {},
   "outputs": [
    {
     "data": {
      "text/html": [
       "<div>\n",
       "<style scoped>\n",
       "    .dataframe tbody tr th:only-of-type {\n",
       "        vertical-align: middle;\n",
       "    }\n",
       "\n",
       "    .dataframe tbody tr th {\n",
       "        vertical-align: top;\n",
       "    }\n",
       "\n",
       "    .dataframe thead th {\n",
       "        text-align: right;\n",
       "    }\n",
       "</style>\n",
       "<table border=\"1\" class=\"dataframe\">\n",
       "  <thead>\n",
       "    <tr style=\"text-align: right;\">\n",
       "      <th></th>\n",
       "      <th>person</th>\n",
       "      <th>offer_id</th>\n",
       "      <th>time_completed</th>\n",
       "      <th>reward</th>\n",
       "      <th>time_viewed</th>\n",
       "      <th>time_received</th>\n",
       "      <th>time_transaction</th>\n",
       "      <th>amount</th>\n",
       "      <th>time</th>\n",
       "      <th>portfolio_reward</th>\n",
       "      <th>channels</th>\n",
       "      <th>difficulty</th>\n",
       "      <th>duration</th>\n",
       "      <th>offer_type</th>\n",
       "      <th>gender</th>\n",
       "      <th>age</th>\n",
       "      <th>became_member_on</th>\n",
       "      <th>income</th>\n",
       "    </tr>\n",
       "  </thead>\n",
       "  <tbody>\n",
       "    <tr>\n",
       "      <th>1</th>\n",
       "      <td>0009655768c64bdeb2e877511632db8f</td>\n",
       "      <td>5a8bc65990b245e5a138643cd4eb9837</td>\n",
       "      <td>NaN</td>\n",
       "      <td>NaN</td>\n",
       "      <td>192.0</td>\n",
       "      <td>168.0</td>\n",
       "      <td>NaN</td>\n",
       "      <td>NaN</td>\n",
       "      <td>168.0</td>\n",
       "      <td>0.0</td>\n",
       "      <td>[email, mobile, social]</td>\n",
       "      <td>0.0</td>\n",
       "      <td>3.0</td>\n",
       "      <td>informational</td>\n",
       "      <td>M</td>\n",
       "      <td>33</td>\n",
       "      <td>2017-04-21</td>\n",
       "      <td>72000.0</td>\n",
       "    </tr>\n",
       "    <tr>\n",
       "      <th>4</th>\n",
       "      <td>0009655768c64bdeb2e877511632db8f</td>\n",
       "      <td>NaN</td>\n",
       "      <td>NaN</td>\n",
       "      <td>NaN</td>\n",
       "      <td>NaN</td>\n",
       "      <td>NaN</td>\n",
       "      <td>228.0</td>\n",
       "      <td>22.16</td>\n",
       "      <td>228.0</td>\n",
       "      <td>NaN</td>\n",
       "      <td>NaN</td>\n",
       "      <td>NaN</td>\n",
       "      <td>NaN</td>\n",
       "      <td>transaction</td>\n",
       "      <td>M</td>\n",
       "      <td>33</td>\n",
       "      <td>2017-04-21</td>\n",
       "      <td>72000.0</td>\n",
       "    </tr>\n",
       "    <tr>\n",
       "      <th>0</th>\n",
       "      <td>0009655768c64bdeb2e877511632db8f</td>\n",
       "      <td>3f207df678b143eea3cee63160fa8bed</td>\n",
       "      <td>NaN</td>\n",
       "      <td>NaN</td>\n",
       "      <td>372.0</td>\n",
       "      <td>336.0</td>\n",
       "      <td>NaN</td>\n",
       "      <td>NaN</td>\n",
       "      <td>336.0</td>\n",
       "      <td>0.0</td>\n",
       "      <td>[web, email, mobile]</td>\n",
       "      <td>0.0</td>\n",
       "      <td>4.0</td>\n",
       "      <td>informational</td>\n",
       "      <td>M</td>\n",
       "      <td>33</td>\n",
       "      <td>2017-04-21</td>\n",
       "      <td>72000.0</td>\n",
       "    </tr>\n",
       "    <tr>\n",
       "      <th>2</th>\n",
       "      <td>0009655768c64bdeb2e877511632db8f</td>\n",
       "      <td>f19421c1d4aa40978ebb69ca19b0e20d</td>\n",
       "      <td>NaN</td>\n",
       "      <td>NaN</td>\n",
       "      <td>456.0</td>\n",
       "      <td>408.0</td>\n",
       "      <td>NaN</td>\n",
       "      <td>NaN</td>\n",
       "      <td>408.0</td>\n",
       "      <td>5.0</td>\n",
       "      <td>[web, email, mobile, social]</td>\n",
       "      <td>5.0</td>\n",
       "      <td>5.0</td>\n",
       "      <td>bogo</td>\n",
       "      <td>M</td>\n",
       "      <td>33</td>\n",
       "      <td>2017-04-21</td>\n",
       "      <td>72000.0</td>\n",
       "    </tr>\n",
       "    <tr>\n",
       "      <th>5</th>\n",
       "      <td>0009655768c64bdeb2e877511632db8f</td>\n",
       "      <td>NaN</td>\n",
       "      <td>NaN</td>\n",
       "      <td>NaN</td>\n",
       "      <td>NaN</td>\n",
       "      <td>NaN</td>\n",
       "      <td>414.0</td>\n",
       "      <td>8.57</td>\n",
       "      <td>414.0</td>\n",
       "      <td>NaN</td>\n",
       "      <td>NaN</td>\n",
       "      <td>NaN</td>\n",
       "      <td>NaN</td>\n",
       "      <td>transaction</td>\n",
       "      <td>M</td>\n",
       "      <td>33</td>\n",
       "      <td>2017-04-21</td>\n",
       "      <td>72000.0</td>\n",
       "    </tr>\n",
       "  </tbody>\n",
       "</table>\n",
       "</div>"
      ],
      "text/plain": [
       "                             person                          offer_id  \\\n",
       "1  0009655768c64bdeb2e877511632db8f  5a8bc65990b245e5a138643cd4eb9837   \n",
       "4  0009655768c64bdeb2e877511632db8f                               NaN   \n",
       "0  0009655768c64bdeb2e877511632db8f  3f207df678b143eea3cee63160fa8bed   \n",
       "2  0009655768c64bdeb2e877511632db8f  f19421c1d4aa40978ebb69ca19b0e20d   \n",
       "5  0009655768c64bdeb2e877511632db8f                               NaN   \n",
       "\n",
       "   time_completed  reward  time_viewed  time_received  time_transaction  \\\n",
       "1             NaN     NaN        192.0          168.0               NaN   \n",
       "4             NaN     NaN          NaN            NaN             228.0   \n",
       "0             NaN     NaN        372.0          336.0               NaN   \n",
       "2             NaN     NaN        456.0          408.0               NaN   \n",
       "5             NaN     NaN          NaN            NaN             414.0   \n",
       "\n",
       "   amount   time  portfolio_reward                      channels  difficulty  \\\n",
       "1     NaN  168.0               0.0       [email, mobile, social]         0.0   \n",
       "4   22.16  228.0               NaN                           NaN         NaN   \n",
       "0     NaN  336.0               0.0          [web, email, mobile]         0.0   \n",
       "2     NaN  408.0               5.0  [web, email, mobile, social]         5.0   \n",
       "5    8.57  414.0               NaN                           NaN         NaN   \n",
       "\n",
       "   duration     offer_type gender  age became_member_on   income  \n",
       "1       3.0  informational      M   33       2017-04-21  72000.0  \n",
       "4       NaN    transaction      M   33       2017-04-21  72000.0  \n",
       "0       4.0  informational      M   33       2017-04-21  72000.0  \n",
       "2       5.0           bogo      M   33       2017-04-21  72000.0  \n",
       "5       NaN    transaction      M   33       2017-04-21  72000.0  "
      ]
     },
     "execution_count": 49,
     "metadata": {},
     "output_type": "execute_result"
    }
   ],
   "source": [
    "# Let's fill the values for transactions' offer type \n",
    "offer_all_df['offer_type'].fillna('transaction', inplace=True)\n",
    "\n",
    "offer_all_df.head()"
   ]
  },
  {
   "cell_type": "code",
   "execution_count": 50,
   "metadata": {},
   "outputs": [
    {
     "name": "stdout",
     "output_type": "stream",
     "text": [
      "The final shape of the data is  (143843, 18)\n"
     ]
    }
   ],
   "source": [
    "print('The final shape of the data is ', offer_all_df.shape)"
   ]
  },
  {
   "cell_type": "code",
   "execution_count": 51,
   "metadata": {},
   "outputs": [],
   "source": [
    "# Save the data\n",
    "offer_all_df.to_csv('./data/customer_journey.csv', index=False)"
   ]
  },
  {
   "cell_type": "markdown",
   "metadata": {},
   "source": [
    "### New Features Creation"
   ]
  },
  {
   "cell_type": "code",
   "execution_count": 52,
   "metadata": {},
   "outputs": [],
   "source": [
    "# Let's test that the file we saved is loading correctly\n",
    "customer_journey_df = pd.read_csv('./data/customer_journey.csv',\n",
    "                                  parse_dates=['became_member_on'])"
   ]
  },
  {
   "cell_type": "code",
   "execution_count": 53,
   "metadata": {},
   "outputs": [],
   "source": [
    "# Let's drop the data when the offer was never viewed\n",
    "customer_journey_df = customer_journey_df.loc[\\\n",
    "              (customer_journey_df['offer_type'] == 'transaction') \\\n",
    "            |(customer_journey_df['time_viewed'].isnull() == False)]"
   ]
  },
  {
   "cell_type": "code",
   "execution_count": 54,
   "metadata": {},
   "outputs": [],
   "source": [
    "# Keep the time variable equal to time viewed, transaction time otherwise\n",
    "customer_journey_df['time'] = customer_journey_df['time_viewed']\n",
    "customer_journey_df.loc[customer_journey_df['offer_type'] == \\\n",
    "            'transaction', 'time'] = customer_journey_df['time_transaction']"
   ]
  },
  {
   "cell_type": "code",
   "execution_count": 55,
   "metadata": {},
   "outputs": [
    {
     "name": "stdout",
     "output_type": "stream",
     "text": [
      "The current shape of data is (143843, 18)\n"
     ]
    }
   ],
   "source": [
    "print('The current shape of data is {}'.format(customer_journey_df.shape))"
   ]
  },
  {
   "cell_type": "code",
   "execution_count": 56,
   "metadata": {},
   "outputs": [
    {
     "data": {
      "text/html": [
       "<div>\n",
       "<style scoped>\n",
       "    .dataframe tbody tr th:only-of-type {\n",
       "        vertical-align: middle;\n",
       "    }\n",
       "\n",
       "    .dataframe tbody tr th {\n",
       "        vertical-align: top;\n",
       "    }\n",
       "\n",
       "    .dataframe thead th {\n",
       "        text-align: right;\n",
       "    }\n",
       "</style>\n",
       "<table border=\"1\" class=\"dataframe\">\n",
       "  <thead>\n",
       "    <tr style=\"text-align: right;\">\n",
       "      <th></th>\n",
       "      <th>person</th>\n",
       "      <th>offer_id</th>\n",
       "      <th>time_completed</th>\n",
       "      <th>reward</th>\n",
       "      <th>time_viewed</th>\n",
       "      <th>time_received</th>\n",
       "      <th>time_transaction</th>\n",
       "      <th>amount</th>\n",
       "      <th>time</th>\n",
       "      <th>portfolio_reward</th>\n",
       "      <th>channels</th>\n",
       "      <th>difficulty</th>\n",
       "      <th>duration</th>\n",
       "      <th>offer_type</th>\n",
       "      <th>gender</th>\n",
       "      <th>age</th>\n",
       "      <th>became_member_on</th>\n",
       "      <th>income</th>\n",
       "    </tr>\n",
       "  </thead>\n",
       "  <tbody>\n",
       "    <tr>\n",
       "      <th>0</th>\n",
       "      <td>0009655768c64bdeb2e877511632db8f</td>\n",
       "      <td>5a8bc65990b245e5a138643cd4eb9837</td>\n",
       "      <td>NaN</td>\n",
       "      <td>NaN</td>\n",
       "      <td>192.0</td>\n",
       "      <td>168.0</td>\n",
       "      <td>NaN</td>\n",
       "      <td>NaN</td>\n",
       "      <td>192.0</td>\n",
       "      <td>0.0</td>\n",
       "      <td>['email', 'mobile', 'social']</td>\n",
       "      <td>0.0</td>\n",
       "      <td>3.0</td>\n",
       "      <td>informational</td>\n",
       "      <td>M</td>\n",
       "      <td>33</td>\n",
       "      <td>2017-04-21</td>\n",
       "      <td>72000.0</td>\n",
       "    </tr>\n",
       "    <tr>\n",
       "      <th>1</th>\n",
       "      <td>0009655768c64bdeb2e877511632db8f</td>\n",
       "      <td>NaN</td>\n",
       "      <td>NaN</td>\n",
       "      <td>NaN</td>\n",
       "      <td>NaN</td>\n",
       "      <td>NaN</td>\n",
       "      <td>228.0</td>\n",
       "      <td>22.16</td>\n",
       "      <td>228.0</td>\n",
       "      <td>NaN</td>\n",
       "      <td>NaN</td>\n",
       "      <td>NaN</td>\n",
       "      <td>NaN</td>\n",
       "      <td>transaction</td>\n",
       "      <td>M</td>\n",
       "      <td>33</td>\n",
       "      <td>2017-04-21</td>\n",
       "      <td>72000.0</td>\n",
       "    </tr>\n",
       "    <tr>\n",
       "      <th>2</th>\n",
       "      <td>0009655768c64bdeb2e877511632db8f</td>\n",
       "      <td>3f207df678b143eea3cee63160fa8bed</td>\n",
       "      <td>NaN</td>\n",
       "      <td>NaN</td>\n",
       "      <td>372.0</td>\n",
       "      <td>336.0</td>\n",
       "      <td>NaN</td>\n",
       "      <td>NaN</td>\n",
       "      <td>372.0</td>\n",
       "      <td>0.0</td>\n",
       "      <td>['web', 'email', 'mobile']</td>\n",
       "      <td>0.0</td>\n",
       "      <td>4.0</td>\n",
       "      <td>informational</td>\n",
       "      <td>M</td>\n",
       "      <td>33</td>\n",
       "      <td>2017-04-21</td>\n",
       "      <td>72000.0</td>\n",
       "    </tr>\n",
       "    <tr>\n",
       "      <th>3</th>\n",
       "      <td>0009655768c64bdeb2e877511632db8f</td>\n",
       "      <td>f19421c1d4aa40978ebb69ca19b0e20d</td>\n",
       "      <td>NaN</td>\n",
       "      <td>NaN</td>\n",
       "      <td>456.0</td>\n",
       "      <td>408.0</td>\n",
       "      <td>NaN</td>\n",
       "      <td>NaN</td>\n",
       "      <td>456.0</td>\n",
       "      <td>5.0</td>\n",
       "      <td>['web', 'email', 'mobile', 'social']</td>\n",
       "      <td>5.0</td>\n",
       "      <td>5.0</td>\n",
       "      <td>bogo</td>\n",
       "      <td>M</td>\n",
       "      <td>33</td>\n",
       "      <td>2017-04-21</td>\n",
       "      <td>72000.0</td>\n",
       "    </tr>\n",
       "    <tr>\n",
       "      <th>4</th>\n",
       "      <td>0009655768c64bdeb2e877511632db8f</td>\n",
       "      <td>NaN</td>\n",
       "      <td>NaN</td>\n",
       "      <td>NaN</td>\n",
       "      <td>NaN</td>\n",
       "      <td>NaN</td>\n",
       "      <td>414.0</td>\n",
       "      <td>8.57</td>\n",
       "      <td>414.0</td>\n",
       "      <td>NaN</td>\n",
       "      <td>NaN</td>\n",
       "      <td>NaN</td>\n",
       "      <td>NaN</td>\n",
       "      <td>transaction</td>\n",
       "      <td>M</td>\n",
       "      <td>33</td>\n",
       "      <td>2017-04-21</td>\n",
       "      <td>72000.0</td>\n",
       "    </tr>\n",
       "  </tbody>\n",
       "</table>\n",
       "</div>"
      ],
      "text/plain": [
       "                             person                          offer_id  \\\n",
       "0  0009655768c64bdeb2e877511632db8f  5a8bc65990b245e5a138643cd4eb9837   \n",
       "1  0009655768c64bdeb2e877511632db8f                               NaN   \n",
       "2  0009655768c64bdeb2e877511632db8f  3f207df678b143eea3cee63160fa8bed   \n",
       "3  0009655768c64bdeb2e877511632db8f  f19421c1d4aa40978ebb69ca19b0e20d   \n",
       "4  0009655768c64bdeb2e877511632db8f                               NaN   \n",
       "\n",
       "   time_completed  reward  time_viewed  time_received  time_transaction  \\\n",
       "0             NaN     NaN        192.0          168.0               NaN   \n",
       "1             NaN     NaN          NaN            NaN             228.0   \n",
       "2             NaN     NaN        372.0          336.0               NaN   \n",
       "3             NaN     NaN        456.0          408.0               NaN   \n",
       "4             NaN     NaN          NaN            NaN             414.0   \n",
       "\n",
       "   amount   time  portfolio_reward                              channels  \\\n",
       "0     NaN  192.0               0.0         ['email', 'mobile', 'social']   \n",
       "1   22.16  228.0               NaN                                   NaN   \n",
       "2     NaN  372.0               0.0            ['web', 'email', 'mobile']   \n",
       "3     NaN  456.0               5.0  ['web', 'email', 'mobile', 'social']   \n",
       "4    8.57  414.0               NaN                                   NaN   \n",
       "\n",
       "   difficulty  duration     offer_type gender  age became_member_on   income  \n",
       "0         0.0       3.0  informational      M   33       2017-04-21  72000.0  \n",
       "1         NaN       NaN    transaction      M   33       2017-04-21  72000.0  \n",
       "2         0.0       4.0  informational      M   33       2017-04-21  72000.0  \n",
       "3         5.0       5.0           bogo      M   33       2017-04-21  72000.0  \n",
       "4         NaN       NaN    transaction      M   33       2017-04-21  72000.0  "
      ]
     },
     "execution_count": 56,
     "metadata": {},
     "output_type": "execute_result"
    }
   ],
   "source": [
    "customer_journey_df.head()"
   ]
  },
  {
   "cell_type": "markdown",
   "metadata": {},
   "source": [
    "We set as the aim to maximize the conversion rate for each offer type.\n",
    "In order to evaluate the model, we have to calculate the benchmark based on the historical data."
   ]
  },
  {
   "cell_type": "code",
   "execution_count": 57,
   "metadata": {},
   "outputs": [],
   "source": [
    "# Keep only relevant features\n",
    "conversion_df = customer_journey_df.loc[:, ['offer_type',\n",
    "                                           'time_viewed', 'time_completed']]\n",
    "\n",
    "# Mark the offers viewed if they are non-informational and viewed\n",
    "conversion_df['viewed'] = 0\n",
    "conversion_df.loc[(conversion_df['offer_type'].isin(['bogo', 'discount'])) & \\\n",
    "                  (conversion_df['time_viewed'].isnull() == False), \n",
    "                  'viewed'] = 1"
   ]
  },
  {
   "cell_type": "code",
   "execution_count": 58,
   "metadata": {},
   "outputs": [],
   "source": [
    "# Mark conversion\n",
    "conversion_df['conversion'] = 0\n",
    "conversion_df.loc[(conversion_df['viewed'] == 1.0) & \\\n",
    "                  (conversion_df['time_completed'].isnull() == False), \n",
    "                  'conversion'] = 1"
   ]
  },
  {
   "cell_type": "code",
   "execution_count": 59,
   "metadata": {},
   "outputs": [
    {
     "name": "stdout",
     "output_type": "stream",
     "text": [
      "34451 users viewed the offer and 20453 completed it\n",
      "Therefore, the conversion is 59.37 %\n"
     ]
    }
   ],
   "source": [
    "viewed_num = np.sum(conversion_df['viewed'])\n",
    "conversion_num = np.sum(conversion_df['conversion'])\n",
    "\n",
    "print('{} users viewed the offer and {} completed it'.format(\n",
    "    viewed_num, conversion_num))\n",
    "print('Therefore, the conversion is {} %'.format(\\\n",
    "                                 round(conversion_num/viewed_num*100, 2)))"
   ]
  },
  {
   "cell_type": "code",
   "execution_count": 60,
   "metadata": {},
   "outputs": [
    {
     "data": {
      "text/html": [
       "<div>\n",
       "<style scoped>\n",
       "    .dataframe tbody tr th:only-of-type {\n",
       "        vertical-align: middle;\n",
       "    }\n",
       "\n",
       "    .dataframe tbody tr th {\n",
       "        vertical-align: top;\n",
       "    }\n",
       "\n",
       "    .dataframe thead th {\n",
       "        text-align: right;\n",
       "    }\n",
       "</style>\n",
       "<table border=\"1\" class=\"dataframe\">\n",
       "  <thead>\n",
       "    <tr style=\"text-align: right;\">\n",
       "      <th></th>\n",
       "      <th>conversion</th>\n",
       "    </tr>\n",
       "    <tr>\n",
       "      <th>offer_type</th>\n",
       "      <th></th>\n",
       "    </tr>\n",
       "  </thead>\n",
       "  <tbody>\n",
       "    <tr>\n",
       "      <th>bogo</th>\n",
       "      <td>0.525094</td>\n",
       "    </tr>\n",
       "    <tr>\n",
       "      <th>discount</th>\n",
       "      <td>0.675021</td>\n",
       "    </tr>\n",
       "  </tbody>\n",
       "</table>\n",
       "</div>"
      ],
      "text/plain": [
       "            conversion\n",
       "offer_type            \n",
       "bogo          0.525094\n",
       "discount      0.675021"
      ]
     },
     "execution_count": 60,
     "metadata": {},
     "output_type": "execute_result"
    }
   ],
   "source": [
    "# We can also divide it by the offer type\n",
    "conversion_df.loc[conversion_df['viewed'] == 1\\\n",
    "                 ].groupby('offer_type').agg({'conversion': 'mean'})"
   ]
  },
  {
   "cell_type": "markdown",
   "metadata": {},
   "source": [
    "Furthermore, we can analyze the conversion for the informational offer. This can be evaluated as transaction near the informational offer."
   ]
  },
  {
   "cell_type": "code",
   "execution_count": 61,
   "metadata": {},
   "outputs": [],
   "source": [
    "# Copy the dataset and take viewed offers with non-empty transaction\n",
    "informational_offer_df = customer_journey_df.loc[\n",
    "    (customer_journey_df['time_viewed'].isnull() == False) | \\\n",
    "    (customer_journey_df['time_transaction'].isnull() == False),\n",
    "     ['person', 'offer_id', 'offer_type', 'time_viewed', 'time_transaction']]"
   ]
  },
  {
   "cell_type": "code",
   "execution_count": 62,
   "metadata": {},
   "outputs": [],
   "source": [
    "# Replace time with time viewed. Otherwise - transaction time\n",
    "informational_offer_df['time'] = informational_offer_df['time_viewed']\n",
    "\n",
    "informational_offer_df.loc[informational_offer_df['time'].isnull(), \n",
    "                       'time'] = informational_offer_df['time_transaction']"
   ]
  },
  {
   "cell_type": "code",
   "execution_count": 63,
   "metadata": {},
   "outputs": [],
   "source": [
    "# In order to analyze it, we have to check the consequent offer for the user\n",
    "informational_offer_df['next_offer_type'] = \\\n",
    "                    informational_offer_df['offer_type'].shift(-1)\n",
    "\n",
    "informational_offer_df['next_time'] = informational_offer_df['time'].shift(-1)"
   ]
  },
  {
   "cell_type": "code",
   "execution_count": 64,
   "metadata": {},
   "outputs": [],
   "source": [
    "# If the offer relates to other person, we skip it\n",
    "informational_offer_df.loc[\n",
    "    informational_offer_df['person'].shift(-1) != \\\n",
    "    informational_offer_df['person'], \n",
    "    ['next_offer_type', 'next_time']] = ['', np.nan]"
   ]
  },
  {
   "cell_type": "code",
   "execution_count": 65,
   "metadata": {},
   "outputs": [],
   "source": [
    "# Get the information about the difference in time for the offer types\n",
    "informational_offer_df['time_diff'] = \\\n",
    "    informational_offer_df['next_time'] - informational_offer_df['time_viewed']"
   ]
  },
  {
   "cell_type": "code",
   "execution_count": 66,
   "metadata": {},
   "outputs": [
    {
     "data": {
      "text/plain": [
       "count    4948.000000\n",
       "mean       97.612773\n",
       "std       136.946582\n",
       "min         0.000000\n",
       "25%        12.000000\n",
       "50%        36.000000\n",
       "75%       126.000000\n",
       "max       702.000000\n",
       "Name: time_diff, dtype: float64"
      ]
     },
     "execution_count": 66,
     "metadata": {},
     "output_type": "execute_result"
    }
   ],
   "source": [
    "# Let's check the time distribution between informational offer and transaction\n",
    "informational_offer_df.loc[\n",
    "    (informational_offer_df['offer_type'] == 'informational') & \\\n",
    "    (informational_offer_df['next_offer_type'] == 'transaction') &\n",
    "    (informational_offer_df['time_diff'] >=0), \n",
    "    'time_diff'].describe()"
   ]
  },
  {
   "cell_type": "markdown",
   "metadata": {},
   "source": [
    "We see that the median difference in 24 hours"
   ]
  },
  {
   "cell_type": "code",
   "execution_count": 67,
   "metadata": {},
   "outputs": [
    {
     "data": {
      "text/plain": [
       "<AxesSubplot:>"
      ]
     },
     "execution_count": 67,
     "metadata": {},
     "output_type": "execute_result"
    },
    {
     "data": {
      "image/png": "[encoded data removed]",
      "text/plain": [
       "<Figure size 432x288 with 1 Axes>"
      ]
     },
     "metadata": {
      "needs_background": "light"
     },
     "output_type": "display_data"
    }
   ],
   "source": [
    "informational_offer_df.loc[\n",
    "    (informational_offer_df['offer_type'] == 'informational') & \\\n",
    "    (informational_offer_df['next_offer_type'] == 'transaction')&\n",
    "    (informational_offer_df['time_diff'] >=0), \n",
    "    'time_diff'].hist()"
   ]
  },
  {
   "cell_type": "code",
   "execution_count": 68,
   "metadata": {},
   "outputs": [],
   "source": [
    "# Let's check the conversion if we check the transaction within 24 hours\n",
    "# after the informational offer"
   ]
  },
  {
   "cell_type": "code",
   "execution_count": 69,
   "metadata": {},
   "outputs": [],
   "source": [
    "time_diff_threshold = 24.0\n",
    "\n",
    "viewed_info_num = np.sum(informational_offer_df['offer_type'] == \\\n",
    "                         'informational')\n",
    "\n",
    "conversion_info_num = np.sum((informational_offer_df['offer_type'] == \\\n",
    "                          'informational') \\\n",
    "        & (informational_offer_df['next_offer_type'] == 'transaction') & \\\n",
    "         (informational_offer_df['time_diff'] <= time_diff_threshold))"
   ]
  },
  {
   "cell_type": "code",
   "execution_count": 70,
   "metadata": {},
   "outputs": [
    {
     "name": "stdout",
     "output_type": "stream",
     "text": [
      "8042 users viewed the offer and 3367 completed it\n",
      "Therefore, the conversion is 41.87 %\n"
     ]
    }
   ],
   "source": [
    "print('{} users viewed the offer and {} completed it'.format(\n",
    "    viewed_info_num, conversion_info_num))\n",
    "print('Therefore, the conversion is {} %'.format(\\\n",
    "                     round(conversion_info_num/viewed_info_num*100, 2)))"
   ]
  },
  {
   "cell_type": "markdown",
   "metadata": {},
   "source": [
    "Now let's create features for each offer type"
   ]
  },
  {
   "cell_type": "code",
   "execution_count": 71,
   "metadata": {},
   "outputs": [],
   "source": [
    "# If the offer was viewed and it is BOGO and there was transaction, fill it \n",
    "customer_journey_df.loc[\n",
    "    (customer_journey_df['time_viewed'].isnull() == False) & \\\n",
    "                        (customer_journey_df['offer_type'] == 'bogo'), \n",
    "    'bogo'] = 0\n",
    "\n",
    "customer_journey_df.loc[\n",
    "    (customer_journey_df['time_viewed'].isnull() == False) & \\\n",
    "                        (customer_journey_df['offer_type'] == 'bogo') & \\\n",
    "    (customer_journey_df['time_completed'].isnull() == False), 'bogo'] = 1"
   ]
  },
  {
   "cell_type": "code",
   "execution_count": 72,
   "metadata": {},
   "outputs": [],
   "source": [
    "# If the offer was viewed and it is Discount and there was transaction, fill it\n",
    "customer_journey_df.loc[\n",
    "    (customer_journey_df['time_viewed'].isnull() == False) & \\\n",
    "                        (customer_journey_df['offer_type'] == 'discount'), \n",
    "    'discount'] = 0\n",
    "\n",
    "customer_journey_df.loc[\n",
    "    (customer_journey_df['time_viewed'].isnull() == False) & \\\n",
    "                        (customer_journey_df['offer_type'] == 'discount') & \\\n",
    "    (customer_journey_df['time_completed'].isnull() == False), 'discount'] = 1"
   ]
  },
  {
   "cell_type": "markdown",
   "metadata": {},
   "source": [
    "Now let's work a bit on the informational offer DataFrame"
   ]
  },
  {
   "cell_type": "code",
   "execution_count": 73,
   "metadata": {},
   "outputs": [],
   "source": [
    "informational_offer_df.loc[\n",
    "    informational_offer_df['offer_type'] == 'informational', 'info'] = 0\n",
    "informational_offer_df.loc[\n",
    "    (informational_offer_df['offer_type'] == 'informational') & \\\n",
    "    (informational_offer_df['next_offer_type'] == 'transaction') & \\\n",
    "    (informational_offer_df['time_diff'] <= time_diff_threshold), 'info'] = 1"
   ]
  },
  {
   "cell_type": "code",
   "execution_count": 74,
   "metadata": {},
   "outputs": [],
   "source": [
    "customer_journey_df = pd.merge(customer_journey_df,\n",
    "              informational_offer_df.loc[\n",
    "              informational_offer_df['info'].isnull() == False, \n",
    "              ['person', 'offer_id', 'time_viewed', 'info', 'next_time']],\n",
    "              how='left', on=['person', 'offer_id', 'time_viewed'])\n",
    "\n",
    "# Override time completed with the following time of transaction \n",
    "customer_journey_df.loc[customer_journey_df['info'] == 1, \n",
    "                        'time_completed'] = customer_journey_df['next_time']\n",
    "customer_journey_df.loc[customer_journey_df['info'] == 1, \n",
    "                        'time_transaction'] = customer_journey_df['next_time']"
   ]
  },
  {
   "cell_type": "code",
   "execution_count": 75,
   "metadata": {},
   "outputs": [],
   "source": [
    "customer_journey_df = customer_journey_df.drop('next_time', axis=1)"
   ]
  },
  {
   "cell_type": "code",
   "execution_count": 76,
   "metadata": {},
   "outputs": [
    {
     "name": "stdout",
     "output_type": "stream",
     "text": [
      "The current DataFrame contains: 18690 BOGO, 15761 Discount and 8042 Informational events of conversion.\n"
     ]
    }
   ],
   "source": [
    "bogo_num = np.sum(customer_journey_df['bogo'].isnull() == False)\n",
    "disc_num = np.sum(customer_journey_df['discount'].isnull() == False)\n",
    "info_num = np.sum(customer_journey_df['info'].isnull() == False)\n",
    "\n",
    "print('The current DataFrame contains: {} BOGO, {} Discount and {} \\\n",
    "Informational events of conversion.'.format(bogo_num, disc_num, info_num))"
   ]
  },
  {
   "cell_type": "markdown",
   "metadata": {},
   "source": [
    "Now we can work more on the features for the customers"
   ]
  },
  {
   "cell_type": "code",
   "execution_count": 77,
   "metadata": {
    "scrolled": true
   },
   "outputs": [
    {
     "name": "stderr",
     "output_type": "stream",
     "text": [
      "/home/ec2-user/anaconda3/envs/python3/lib/python3.6/site-packages/ipykernel/__main__.py:4: FutureWarning: Treating datetime data as categorical rather than numeric in `.describe` is deprecated and will be removed in a future version of pandas. Specify `datetime_is_numeric=True` to silence this warning and adopt the future behavior now.\n"
     ]
    },
    {
     "data": {
      "text/html": [
       "<div>\n",
       "<style scoped>\n",
       "    .dataframe tbody tr th:only-of-type {\n",
       "        vertical-align: middle;\n",
       "    }\n",
       "\n",
       "    .dataframe tbody tr th {\n",
       "        vertical-align: top;\n",
       "    }\n",
       "\n",
       "    .dataframe thead th {\n",
       "        text-align: right;\n",
       "    }\n",
       "</style>\n",
       "<table border=\"1\" class=\"dataframe\">\n",
       "  <thead>\n",
       "    <tr style=\"text-align: right;\">\n",
       "      <th></th>\n",
       "      <th>count</th>\n",
       "      <th>unique</th>\n",
       "      <th>top</th>\n",
       "      <th>freq</th>\n",
       "      <th>first</th>\n",
       "      <th>last</th>\n",
       "      <th>mean</th>\n",
       "      <th>std</th>\n",
       "      <th>min</th>\n",
       "      <th>25%</th>\n",
       "      <th>50%</th>\n",
       "      <th>75%</th>\n",
       "      <th>max</th>\n",
       "    </tr>\n",
       "  </thead>\n",
       "  <tbody>\n",
       "    <tr>\n",
       "      <th>person</th>\n",
       "      <td>14815</td>\n",
       "      <td>14815</td>\n",
       "      <td>81e9ad5fa55a4884b65e01a5db8f1b4e</td>\n",
       "      <td>1</td>\n",
       "      <td>NaT</td>\n",
       "      <td>NaT</td>\n",
       "      <td>NaN</td>\n",
       "      <td>NaN</td>\n",
       "      <td>NaN</td>\n",
       "      <td>NaN</td>\n",
       "      <td>NaN</td>\n",
       "      <td>NaN</td>\n",
       "      <td>NaN</td>\n",
       "    </tr>\n",
       "    <tr>\n",
       "      <th>gender</th>\n",
       "      <td>14815</td>\n",
       "      <td>3</td>\n",
       "      <td>M</td>\n",
       "      <td>8477</td>\n",
       "      <td>NaT</td>\n",
       "      <td>NaT</td>\n",
       "      <td>NaN</td>\n",
       "      <td>NaN</td>\n",
       "      <td>NaN</td>\n",
       "      <td>NaN</td>\n",
       "      <td>NaN</td>\n",
       "      <td>NaN</td>\n",
       "      <td>NaN</td>\n",
       "    </tr>\n",
       "    <tr>\n",
       "      <th>age</th>\n",
       "      <td>14815</td>\n",
       "      <td>NaN</td>\n",
       "      <td>NaN</td>\n",
       "      <td>NaN</td>\n",
       "      <td>NaT</td>\n",
       "      <td>NaT</td>\n",
       "      <td>54.3931</td>\n",
       "      <td>17.3866</td>\n",
       "      <td>18</td>\n",
       "      <td>42</td>\n",
       "      <td>55</td>\n",
       "      <td>66</td>\n",
       "      <td>101</td>\n",
       "    </tr>\n",
       "    <tr>\n",
       "      <th>income</th>\n",
       "      <td>14815</td>\n",
       "      <td>NaN</td>\n",
       "      <td>NaN</td>\n",
       "      <td>NaN</td>\n",
       "      <td>NaT</td>\n",
       "      <td>NaT</td>\n",
       "      <td>65397.8</td>\n",
       "      <td>21598.6</td>\n",
       "      <td>30000</td>\n",
       "      <td>49000</td>\n",
       "      <td>64000</td>\n",
       "      <td>80000</td>\n",
       "      <td>120000</td>\n",
       "    </tr>\n",
       "    <tr>\n",
       "      <th>became_member_on</th>\n",
       "      <td>14815</td>\n",
       "      <td>1707</td>\n",
       "      <td>2017-08-19 00:00:00</td>\n",
       "      <td>39</td>\n",
       "      <td>2013-07-29</td>\n",
       "      <td>2018-07-26</td>\n",
       "      <td>NaN</td>\n",
       "      <td>NaN</td>\n",
       "      <td>NaN</td>\n",
       "      <td>NaN</td>\n",
       "      <td>NaN</td>\n",
       "      <td>NaN</td>\n",
       "      <td>NaN</td>\n",
       "    </tr>\n",
       "  </tbody>\n",
       "</table>\n",
       "</div>"
      ],
      "text/plain": [
       "                  count unique                               top  freq  \\\n",
       "person            14815  14815  81e9ad5fa55a4884b65e01a5db8f1b4e     1   \n",
       "gender            14815      3                                 M  8477   \n",
       "age               14815    NaN                               NaN   NaN   \n",
       "income            14815    NaN                               NaN   NaN   \n",
       "became_member_on  14815   1707               2017-08-19 00:00:00    39   \n",
       "\n",
       "                      first       last     mean      std    min    25%    50%  \\\n",
       "person                  NaT        NaT      NaN      NaN    NaN    NaN    NaN   \n",
       "gender                  NaT        NaT      NaN      NaN    NaN    NaN    NaN   \n",
       "age                     NaT        NaT  54.3931  17.3866     18     42     55   \n",
       "income                  NaT        NaT  65397.8  21598.6  30000  49000  64000   \n",
       "became_member_on 2013-07-29 2018-07-26      NaN      NaN    NaN    NaN    NaN   \n",
       "\n",
       "                    75%     max  \n",
       "person              NaN     NaN  \n",
       "gender              NaN     NaN  \n",
       "age                  66     101  \n",
       "income            80000  120000  \n",
       "became_member_on    NaN     NaN  "
      ]
     },
     "execution_count": 77,
     "metadata": {},
     "output_type": "execute_result"
    }
   ],
   "source": [
    "customer_df = customer_journey_df[['person', 'gender', \n",
    "                   'age', 'income', 'became_member_on']].drop_duplicates()\n",
    "\n",
    "customer_df.describe(include='all').T"
   ]
  },
  {
   "cell_type": "markdown",
   "metadata": {},
   "source": [
    "Now let's create a feature to analyze the retention of the customers to the service."
   ]
  },
  {
   "cell_type": "code",
   "execution_count": 78,
   "metadata": {},
   "outputs": [],
   "source": [
    "def months_difference(date_start, date_end):\n",
    "    ''' This function is used to calculate the difference \n",
    "    in months between two dates\n",
    "    \n",
    "    Args:\n",
    "    date_start (timestamp/datetime) - start date of the period\n",
    "    date_end (timestamp/datetime) - end date of the period\n",
    "    \n",
    "    Outputs:\n",
    "    difference(int) - difference in months between the dates\n",
    "    '''\n",
    "    difference = (date_end.year - date_start.year) * 12 + \\\n",
    "                                        (date_end.month - date_start.month) \n",
    "    return difference"
   ]
  },
  {
   "cell_type": "code",
   "execution_count": 79,
   "metadata": {},
   "outputs": [],
   "source": [
    "customer_journey_df['day'] = np.floor(\n",
    "                        customer_journey_df['time_viewed'] / 24.0)"
   ]
  },
  {
   "cell_type": "code",
   "execution_count": 80,
   "metadata": {},
   "outputs": [],
   "source": [
    "customer_journey_df['weekday'] = customer_journey_df['day'] % 7.0"
   ]
  },
  {
   "cell_type": "code",
   "execution_count": 81,
   "metadata": {
    "scrolled": true
   },
   "outputs": [],
   "source": [
    "customer_journey_df['became_member_from'] = customer_journey_df.apply(\n",
    "            lambda x: months_difference(\n",
    "                x['became_member_on'], datetime(2018, 8, 1)), 1)"
   ]
  },
  {
   "cell_type": "code",
   "execution_count": 82,
   "metadata": {},
   "outputs": [
    {
     "data": {
      "text/html": [
       "<div>\n",
       "<style scoped>\n",
       "    .dataframe tbody tr th:only-of-type {\n",
       "        vertical-align: middle;\n",
       "    }\n",
       "\n",
       "    .dataframe tbody tr th {\n",
       "        vertical-align: top;\n",
       "    }\n",
       "\n",
       "    .dataframe thead th {\n",
       "        text-align: right;\n",
       "    }\n",
       "</style>\n",
       "<table border=\"1\" class=\"dataframe\">\n",
       "  <thead>\n",
       "    <tr style=\"text-align: right;\">\n",
       "      <th></th>\n",
       "      <th>person</th>\n",
       "      <th>offer_id</th>\n",
       "      <th>time_completed</th>\n",
       "      <th>reward</th>\n",
       "      <th>time_viewed</th>\n",
       "      <th>time_received</th>\n",
       "      <th>time_transaction</th>\n",
       "      <th>amount</th>\n",
       "      <th>time</th>\n",
       "      <th>portfolio_reward</th>\n",
       "      <th>...</th>\n",
       "      <th>gender</th>\n",
       "      <th>age</th>\n",
       "      <th>became_member_on</th>\n",
       "      <th>income</th>\n",
       "      <th>bogo</th>\n",
       "      <th>discount</th>\n",
       "      <th>info</th>\n",
       "      <th>day</th>\n",
       "      <th>weekday</th>\n",
       "      <th>became_member_from</th>\n",
       "    </tr>\n",
       "  </thead>\n",
       "  <tbody>\n",
       "    <tr>\n",
       "      <th>0</th>\n",
       "      <td>0009655768c64bdeb2e877511632db8f</td>\n",
       "      <td>5a8bc65990b245e5a138643cd4eb9837</td>\n",
       "      <td>NaN</td>\n",
       "      <td>NaN</td>\n",
       "      <td>192.0</td>\n",
       "      <td>168.0</td>\n",
       "      <td>NaN</td>\n",
       "      <td>NaN</td>\n",
       "      <td>192.0</td>\n",
       "      <td>0.0</td>\n",
       "      <td>...</td>\n",
       "      <td>M</td>\n",
       "      <td>33</td>\n",
       "      <td>2017-04-21</td>\n",
       "      <td>72000.0</td>\n",
       "      <td>NaN</td>\n",
       "      <td>NaN</td>\n",
       "      <td>0.0</td>\n",
       "      <td>8.0</td>\n",
       "      <td>1.0</td>\n",
       "      <td>16</td>\n",
       "    </tr>\n",
       "    <tr>\n",
       "      <th>1</th>\n",
       "      <td>0009655768c64bdeb2e877511632db8f</td>\n",
       "      <td>NaN</td>\n",
       "      <td>NaN</td>\n",
       "      <td>NaN</td>\n",
       "      <td>NaN</td>\n",
       "      <td>NaN</td>\n",
       "      <td>228.0</td>\n",
       "      <td>22.16</td>\n",
       "      <td>228.0</td>\n",
       "      <td>NaN</td>\n",
       "      <td>...</td>\n",
       "      <td>M</td>\n",
       "      <td>33</td>\n",
       "      <td>2017-04-21</td>\n",
       "      <td>72000.0</td>\n",
       "      <td>NaN</td>\n",
       "      <td>NaN</td>\n",
       "      <td>NaN</td>\n",
       "      <td>NaN</td>\n",
       "      <td>NaN</td>\n",
       "      <td>16</td>\n",
       "    </tr>\n",
       "    <tr>\n",
       "      <th>2</th>\n",
       "      <td>0009655768c64bdeb2e877511632db8f</td>\n",
       "      <td>3f207df678b143eea3cee63160fa8bed</td>\n",
       "      <td>NaN</td>\n",
       "      <td>NaN</td>\n",
       "      <td>372.0</td>\n",
       "      <td>336.0</td>\n",
       "      <td>NaN</td>\n",
       "      <td>NaN</td>\n",
       "      <td>372.0</td>\n",
       "      <td>0.0</td>\n",
       "      <td>...</td>\n",
       "      <td>M</td>\n",
       "      <td>33</td>\n",
       "      <td>2017-04-21</td>\n",
       "      <td>72000.0</td>\n",
       "      <td>NaN</td>\n",
       "      <td>NaN</td>\n",
       "      <td>0.0</td>\n",
       "      <td>15.0</td>\n",
       "      <td>1.0</td>\n",
       "      <td>16</td>\n",
       "    </tr>\n",
       "    <tr>\n",
       "      <th>3</th>\n",
       "      <td>0009655768c64bdeb2e877511632db8f</td>\n",
       "      <td>f19421c1d4aa40978ebb69ca19b0e20d</td>\n",
       "      <td>NaN</td>\n",
       "      <td>NaN</td>\n",
       "      <td>456.0</td>\n",
       "      <td>408.0</td>\n",
       "      <td>NaN</td>\n",
       "      <td>NaN</td>\n",
       "      <td>456.0</td>\n",
       "      <td>5.0</td>\n",
       "      <td>...</td>\n",
       "      <td>M</td>\n",
       "      <td>33</td>\n",
       "      <td>2017-04-21</td>\n",
       "      <td>72000.0</td>\n",
       "      <td>0.0</td>\n",
       "      <td>NaN</td>\n",
       "      <td>NaN</td>\n",
       "      <td>19.0</td>\n",
       "      <td>5.0</td>\n",
       "      <td>16</td>\n",
       "    </tr>\n",
       "    <tr>\n",
       "      <th>4</th>\n",
       "      <td>0009655768c64bdeb2e877511632db8f</td>\n",
       "      <td>NaN</td>\n",
       "      <td>NaN</td>\n",
       "      <td>NaN</td>\n",
       "      <td>NaN</td>\n",
       "      <td>NaN</td>\n",
       "      <td>414.0</td>\n",
       "      <td>8.57</td>\n",
       "      <td>414.0</td>\n",
       "      <td>NaN</td>\n",
       "      <td>...</td>\n",
       "      <td>M</td>\n",
       "      <td>33</td>\n",
       "      <td>2017-04-21</td>\n",
       "      <td>72000.0</td>\n",
       "      <td>NaN</td>\n",
       "      <td>NaN</td>\n",
       "      <td>NaN</td>\n",
       "      <td>NaN</td>\n",
       "      <td>NaN</td>\n",
       "      <td>16</td>\n",
       "    </tr>\n",
       "  </tbody>\n",
       "</table>\n",
       "<p>5 rows × 24 columns</p>\n",
       "</div>"
      ],
      "text/plain": [
       "                             person                          offer_id  \\\n",
       "0  0009655768c64bdeb2e877511632db8f  5a8bc65990b245e5a138643cd4eb9837   \n",
       "1  0009655768c64bdeb2e877511632db8f                               NaN   \n",
       "2  0009655768c64bdeb2e877511632db8f  3f207df678b143eea3cee63160fa8bed   \n",
       "3  0009655768c64bdeb2e877511632db8f  f19421c1d4aa40978ebb69ca19b0e20d   \n",
       "4  0009655768c64bdeb2e877511632db8f                               NaN   \n",
       "\n",
       "   time_completed  reward  time_viewed  time_received  time_transaction  \\\n",
       "0             NaN     NaN        192.0          168.0               NaN   \n",
       "1             NaN     NaN          NaN            NaN             228.0   \n",
       "2             NaN     NaN        372.0          336.0               NaN   \n",
       "3             NaN     NaN        456.0          408.0               NaN   \n",
       "4             NaN     NaN          NaN            NaN             414.0   \n",
       "\n",
       "   amount   time  portfolio_reward  ... gender  age  became_member_on  \\\n",
       "0     NaN  192.0               0.0  ...      M   33        2017-04-21   \n",
       "1   22.16  228.0               NaN  ...      M   33        2017-04-21   \n",
       "2     NaN  372.0               0.0  ...      M   33        2017-04-21   \n",
       "3     NaN  456.0               5.0  ...      M   33        2017-04-21   \n",
       "4    8.57  414.0               NaN  ...      M   33        2017-04-21   \n",
       "\n",
       "    income bogo  discount info   day  weekday  became_member_from  \n",
       "0  72000.0  NaN       NaN  0.0   8.0      1.0                  16  \n",
       "1  72000.0  NaN       NaN  NaN   NaN      NaN                  16  \n",
       "2  72000.0  NaN       NaN  0.0  15.0      1.0                  16  \n",
       "3  72000.0  0.0       NaN  NaN  19.0      5.0                  16  \n",
       "4  72000.0  NaN       NaN  NaN   NaN      NaN                  16  \n",
       "\n",
       "[5 rows x 24 columns]"
      ]
     },
     "execution_count": 82,
     "metadata": {},
     "output_type": "execute_result"
    }
   ],
   "source": [
    "customer_journey_df.head()"
   ]
  },
  {
   "cell_type": "markdown",
   "metadata": {},
   "source": [
    "Let's check the distribution of these values"
   ]
  },
  {
   "cell_type": "code",
   "execution_count": 83,
   "metadata": {},
   "outputs": [
    {
     "name": "stderr",
     "output_type": "stream",
     "text": [
      "/home/ec2-user/anaconda3/envs/python3/lib/python3.6/site-packages/seaborn/distributions.py:2557: FutureWarning: `distplot` is a deprecated function and will be removed in a future version. Please adapt your code to use either `displot` (a figure-level function with similar flexibility) or `histplot` (an axes-level function for histograms).\n",
      "  warnings.warn(msg, FutureWarning)\n"
     ]
    },
    {
     "data": {
      "image/png": "[encoded data removed]",
      "text/plain": [
       "<Figure size 432x288 with 1 Axes>"
      ]
     },
     "metadata": {
      "needs_background": "light"
     },
     "output_type": "display_data"
    }
   ],
   "source": [
    "sns.distplot(customer_journey_df['day'].dropna())\n",
    "plt.title('Offer Day Distribution')\n",
    "plt.show()"
   ]
  },
  {
   "cell_type": "code",
   "execution_count": 84,
   "metadata": {},
   "outputs": [
    {
     "name": "stderr",
     "output_type": "stream",
     "text": [
      "/home/ec2-user/anaconda3/envs/python3/lib/python3.6/site-packages/seaborn/distributions.py:2557: FutureWarning: `distplot` is a deprecated function and will be removed in a future version. Please adapt your code to use either `displot` (a figure-level function with similar flexibility) or `histplot` (an axes-level function for histograms).\n",
      "  warnings.warn(msg, FutureWarning)\n"
     ]
    },
    {
     "data": {
      "image/png": "[encoded data removed]",
      "text/plain": [
       "<Figure size 432x288 with 1 Axes>"
      ]
     },
     "metadata": {
      "needs_background": "light"
     },
     "output_type": "display_data"
    }
   ],
   "source": [
    "sns.distplot(customer_journey_df['weekday'].dropna())\n",
    "plt.title('Offer Weekday Distribution')\n",
    "plt.show()"
   ]
  },
  {
   "cell_type": "code",
   "execution_count": 85,
   "metadata": {},
   "outputs": [
    {
     "name": "stderr",
     "output_type": "stream",
     "text": [
      "/home/ec2-user/anaconda3/envs/python3/lib/python3.6/site-packages/seaborn/distributions.py:2557: FutureWarning: `distplot` is a deprecated function and will be removed in a future version. Please adapt your code to use either `displot` (a figure-level function with similar flexibility) or `histplot` (an axes-level function for histograms).\n",
      "  warnings.warn(msg, FutureWarning)\n"
     ]
    },
    {
     "data": {
      "image/png": "[encoded data removed]",
      "text/plain": [
       "<Figure size 432x288 with 1 Axes>"
      ]
     },
     "metadata": {
      "needs_background": "light"
     },
     "output_type": "display_data"
    }
   ],
   "source": [
    "sns.distplot(customer_journey_df['became_member_from'].dropna())\n",
    "plt.title('Months from the initial Membership')\n",
    "plt.show()"
   ]
  },
  {
   "cell_type": "markdown",
   "metadata": {},
   "source": [
    "In order to analyze the data correctly, it is important to look at the data in the past. I propose to create new features to analyze the particular clients' behavior:\n",
    "- Particular Transactions\n",
    "- Average number of Transactions per client\n",
    "- Number of rewards sent\n",
    "- Number of offers, which were completed or viewed\n",
    "- The time from offer receival to completion or view"
   ]
  },
  {
   "cell_type": "code",
   "execution_count": 86,
   "metadata": {},
   "outputs": [],
   "source": [
    "# Check whether there was a transaction\n",
    "customer_journey_df['transaction'] = 0\n",
    "customer_journey_df.loc[\n",
    "    customer_journey_df['time_transaction'].isnull() == False,\n",
    "    'transaction'] = 1\n",
    "\n",
    "# Check whether the offer was completed\n",
    "customer_journey_df['completed'] = 0\n",
    "customer_journey_df.loc[\n",
    "    customer_journey_df['time_completed'].isnull() == False,\n",
    "    'completed'] = 1"
   ]
  },
  {
   "cell_type": "code",
   "execution_count": 87,
   "metadata": {},
   "outputs": [],
   "source": [
    "# Create new features\n",
    "customer_journey_df['number_of_offers_viewed'] = 0\n",
    "customer_journey_df['number_of_offers_completed'] = 0\n",
    "customer_journey_df['receival_to_view_avg'] = 0\n",
    "customer_journey_df['view_to_completion_avg'] = 0\n",
    "\n",
    "customer_journey_df['number_of_transactions'] = 0\n",
    "customer_journey_df['avg_number_of_transctions'] = 0\n",
    "customer_journey_df['avg_reward'] = 0\n",
    "\n",
    "customer_journey_df['receival_to_view'] = \\\n",
    "    customer_journey_df['time_viewed'] - customer_journey_df['time_received']\n",
    "\n",
    "customer_journey_df['time_from_view_to_completion'] = \\\n",
    "    customer_journey_df['time_completed'] - customer_journey_df['time_viewed']\n"
   ]
  },
  {
   "cell_type": "code",
   "execution_count": 97,
   "metadata": {},
   "outputs": [],
   "source": [
    "# Check if the same person is between the transactions\n",
    "customer_journey_df['prev_person'] = customer_journey_df['person'].shift(1)"
   ]
  },
  {
   "cell_type": "code",
   "execution_count": 98,
   "metadata": {},
   "outputs": [
    {
     "name": "stdout",
     "output_type": "stream",
     "text": [
      "143842 / 143843\r"
     ]
    }
   ],
   "source": [
    "# Fill the features via loop\n",
    "for i, row in customer_journey_df.iterrows():\n",
    "    # Check the progress\n",
    "    print(str(i)+' / '+str(len(customer_journey_df)), end='\\r')\n",
    "    \n",
    "    # We fill the features if rows are attributed to the same person\n",
    "    if row['person'] == row['prev_person']:\n",
    "        \n",
    "        # If the previous offer was viewed\n",
    "        customer_journey_df.loc[i, 'number_of_offers_viewed'] = \\\n",
    "            customer_journey_df.loc[i-1, 'number_of_offers_viewed'] + \\\n",
    "                (0 if customer_journey_df.loc[i-1, 'offer_type'] == \\\n",
    "                                             'transaction' else 1)\n",
    "        \n",
    "        # If the previous offer was completed\n",
    "        customer_journey_df.loc[i, 'number_of_offers_completed'] = \\\n",
    "            customer_journey_df.loc[i-1, 'number_of_offers_completed'] + \\\n",
    "                                customer_journey_df.loc[i-1, 'completed']\n",
    "        \n",
    "        # Previous time from Receival to View\n",
    "        customer_journey_df.loc[i, 'receival_to_view_avg'] = \\\n",
    "            np.nansum((customer_journey_df.loc[i-1, \\\n",
    "               'receival_to_view_avg'], \n",
    "                       customer_journey_df.loc[i-1, 'receival_to_view_avg']))\n",
    "        \n",
    "        # Previous time from View to Completion\n",
    "        customer_journey_df.loc[i, 'view_to_completion_avg'] = \\\n",
    "            np.nansum((customer_journey_df.loc[i-1, \n",
    "               'view_to_completion_avg'], \n",
    "                   customer_journey_df.loc[i-1, \n",
    "                       'time_from_view_to_completion']))\n",
    "        \n",
    "        # If the previous row was a Transaction\n",
    "        customer_journey_df.loc[i, 'number_of_transactions'] = \\\n",
    "            customer_journey_df.loc[i-1, 'number_of_transactions'] + \\\n",
    "                customer_journey_df.loc[i-1, 'transaction']\n",
    "        \n",
    "        # If the previous row was a Transaction, add amount\n",
    "        customer_journey_df.loc[i, 'avg_number_of_transctions'] = \\\n",
    "            customer_journey_df.loc[i-1, 'avg_number_of_transctions'] + \\\n",
    "                (0 if customer_journey_df.loc[i-1, 'transaction'] == \\\n",
    "                     0 else customer_journey_df.loc[i-1, 'amount'])\n",
    "        \n",
    "        # If the previous row was a Reward, add reward\n",
    "        customer_journey_df.loc[i, 'avg_reward'] = \\\n",
    "            np.nansum((customer_journey_df.loc[i-1, 'avg_reward'], \n",
    "               customer_journey_df.loc[i-1, 'reward']))"
   ]
  },
  {
   "cell_type": "code",
   "execution_count": 99,
   "metadata": {},
   "outputs": [],
   "source": [
    "# Get the average values\n",
    "customer_journey_df['receival_to_view_avg'] = \\\n",
    "    customer_journey_df['receival_to_view_avg'] / \\\n",
    "        customer_journey_df['number_of_offers_viewed']\n",
    "\n",
    "customer_journey_df['view_to_completion_avg'] = \\\n",
    "    customer_journey_df['view_to_completion_avg'] / \\\n",
    "        customer_journey_df['number_of_offers_completed']\n",
    "\n",
    "customer_journey_df['avg_number_of_transctions'] = \\\n",
    "    customer_journey_df['avg_number_of_transctions'] / \\\n",
    "        customer_journey_df['number_of_transactions']\n",
    "\n",
    "customer_journey_df['receival_to_view_avg'].fillna(0, inplace=True)\n",
    "\n",
    "customer_journey_df['view_to_completion_avg'].fillna(0, inplace=True)\n",
    "\n",
    "customer_journey_df['avg_number_of_transctions'].fillna(0, inplace=True)"
   ]
  },
  {
   "cell_type": "code",
   "execution_count": 100,
   "metadata": {},
   "outputs": [
    {
     "data": {
      "text/html": [
       "<div>\n",
       "<style scoped>\n",
       "    .dataframe tbody tr th:only-of-type {\n",
       "        vertical-align: middle;\n",
       "    }\n",
       "\n",
       "    .dataframe tbody tr th {\n",
       "        vertical-align: top;\n",
       "    }\n",
       "\n",
       "    .dataframe thead th {\n",
       "        text-align: right;\n",
       "    }\n",
       "</style>\n",
       "<table border=\"1\" class=\"dataframe\">\n",
       "  <thead>\n",
       "    <tr style=\"text-align: right;\">\n",
       "      <th></th>\n",
       "      <th>person</th>\n",
       "      <th>offer_id</th>\n",
       "      <th>time_completed</th>\n",
       "      <th>reward</th>\n",
       "      <th>time_viewed</th>\n",
       "      <th>time_received</th>\n",
       "      <th>time_transaction</th>\n",
       "      <th>amount</th>\n",
       "      <th>time</th>\n",
       "      <th>portfolio_reward</th>\n",
       "      <th>...</th>\n",
       "      <th>number_of_offers_viewed</th>\n",
       "      <th>number_of_offers_completed</th>\n",
       "      <th>receival_to_view_avg</th>\n",
       "      <th>view_to_completion_avg</th>\n",
       "      <th>number_of_transactions</th>\n",
       "      <th>avg_number_of_transctions</th>\n",
       "      <th>avg_reward</th>\n",
       "      <th>receival_to_view</th>\n",
       "      <th>time_from_view_to_completion</th>\n",
       "      <th>prev_person</th>\n",
       "    </tr>\n",
       "  </thead>\n",
       "  <tbody>\n",
       "    <tr>\n",
       "      <th>143838</th>\n",
       "      <td>ffff82501cea40309d5fdd7edcca4a07</td>\n",
       "      <td>9b98b8c7a33c4b65b9aebfe6a799e6d9</td>\n",
       "      <td>NaN</td>\n",
       "      <td>NaN</td>\n",
       "      <td>534.0</td>\n",
       "      <td>504.0</td>\n",
       "      <td>NaN</td>\n",
       "      <td>NaN</td>\n",
       "      <td>534.0</td>\n",
       "      <td>5.0</td>\n",
       "      <td>...</td>\n",
       "      <td>2</td>\n",
       "      <td>2</td>\n",
       "      <td>0.0</td>\n",
       "      <td>39.0</td>\n",
       "      <td>9</td>\n",
       "      <td>15.766667</td>\n",
       "      <td>7.0</td>\n",
       "      <td>30.0</td>\n",
       "      <td>NaN</td>\n",
       "      <td>ffff82501cea40309d5fdd7edcca4a07</td>\n",
       "    </tr>\n",
       "    <tr>\n",
       "      <th>143839</th>\n",
       "      <td>ffff82501cea40309d5fdd7edcca4a07</td>\n",
       "      <td>NaN</td>\n",
       "      <td>NaN</td>\n",
       "      <td>NaN</td>\n",
       "      <td>NaN</td>\n",
       "      <td>NaN</td>\n",
       "      <td>504.0</td>\n",
       "      <td>7.79</td>\n",
       "      <td>504.0</td>\n",
       "      <td>NaN</td>\n",
       "      <td>...</td>\n",
       "      <td>3</td>\n",
       "      <td>2</td>\n",
       "      <td>0.0</td>\n",
       "      <td>39.0</td>\n",
       "      <td>9</td>\n",
       "      <td>15.766667</td>\n",
       "      <td>7.0</td>\n",
       "      <td>NaN</td>\n",
       "      <td>NaN</td>\n",
       "      <td>ffff82501cea40309d5fdd7edcca4a07</td>\n",
       "    </tr>\n",
       "    <tr>\n",
       "      <th>143840</th>\n",
       "      <td>ffff82501cea40309d5fdd7edcca4a07</td>\n",
       "      <td>2906b810c7d4411798c6938adc9daaa5</td>\n",
       "      <td>384.0</td>\n",
       "      <td>2.0</td>\n",
       "      <td>354.0</td>\n",
       "      <td>576.0</td>\n",
       "      <td>384.0</td>\n",
       "      <td>15.57</td>\n",
       "      <td>354.0</td>\n",
       "      <td>2.0</td>\n",
       "      <td>...</td>\n",
       "      <td>3</td>\n",
       "      <td>2</td>\n",
       "      <td>0.0</td>\n",
       "      <td>39.0</td>\n",
       "      <td>10</td>\n",
       "      <td>14.969000</td>\n",
       "      <td>7.0</td>\n",
       "      <td>-222.0</td>\n",
       "      <td>30.0</td>\n",
       "      <td>ffff82501cea40309d5fdd7edcca4a07</td>\n",
       "    </tr>\n",
       "    <tr>\n",
       "      <th>143841</th>\n",
       "      <td>ffff82501cea40309d5fdd7edcca4a07</td>\n",
       "      <td>NaN</td>\n",
       "      <td>NaN</td>\n",
       "      <td>NaN</td>\n",
       "      <td>NaN</td>\n",
       "      <td>NaN</td>\n",
       "      <td>606.0</td>\n",
       "      <td>10.12</td>\n",
       "      <td>606.0</td>\n",
       "      <td>NaN</td>\n",
       "      <td>...</td>\n",
       "      <td>4</td>\n",
       "      <td>3</td>\n",
       "      <td>0.0</td>\n",
       "      <td>36.0</td>\n",
       "      <td>11</td>\n",
       "      <td>15.023636</td>\n",
       "      <td>9.0</td>\n",
       "      <td>NaN</td>\n",
       "      <td>NaN</td>\n",
       "      <td>ffff82501cea40309d5fdd7edcca4a07</td>\n",
       "    </tr>\n",
       "    <tr>\n",
       "      <th>143842</th>\n",
       "      <td>ffff82501cea40309d5fdd7edcca4a07</td>\n",
       "      <td>NaN</td>\n",
       "      <td>NaN</td>\n",
       "      <td>NaN</td>\n",
       "      <td>NaN</td>\n",
       "      <td>NaN</td>\n",
       "      <td>648.0</td>\n",
       "      <td>18.91</td>\n",
       "      <td>648.0</td>\n",
       "      <td>NaN</td>\n",
       "      <td>...</td>\n",
       "      <td>4</td>\n",
       "      <td>3</td>\n",
       "      <td>0.0</td>\n",
       "      <td>36.0</td>\n",
       "      <td>12</td>\n",
       "      <td>14.615000</td>\n",
       "      <td>9.0</td>\n",
       "      <td>NaN</td>\n",
       "      <td>NaN</td>\n",
       "      <td>ffff82501cea40309d5fdd7edcca4a07</td>\n",
       "    </tr>\n",
       "  </tbody>\n",
       "</table>\n",
       "<p>5 rows × 36 columns</p>\n",
       "</div>"
      ],
      "text/plain": [
       "                                  person                          offer_id  \\\n",
       "143838  ffff82501cea40309d5fdd7edcca4a07  9b98b8c7a33c4b65b9aebfe6a799e6d9   \n",
       "143839  ffff82501cea40309d5fdd7edcca4a07                               NaN   \n",
       "143840  ffff82501cea40309d5fdd7edcca4a07  2906b810c7d4411798c6938adc9daaa5   \n",
       "143841  ffff82501cea40309d5fdd7edcca4a07                               NaN   \n",
       "143842  ffff82501cea40309d5fdd7edcca4a07                               NaN   \n",
       "\n",
       "        time_completed  reward  time_viewed  time_received  time_transaction  \\\n",
       "143838             NaN     NaN        534.0          504.0               NaN   \n",
       "143839             NaN     NaN          NaN            NaN             504.0   \n",
       "143840           384.0     2.0        354.0          576.0             384.0   \n",
       "143841             NaN     NaN          NaN            NaN             606.0   \n",
       "143842             NaN     NaN          NaN            NaN             648.0   \n",
       "\n",
       "        amount   time  portfolio_reward  ... number_of_offers_viewed  \\\n",
       "143838     NaN  534.0               5.0  ...                       2   \n",
       "143839    7.79  504.0               NaN  ...                       3   \n",
       "143840   15.57  354.0               2.0  ...                       3   \n",
       "143841   10.12  606.0               NaN  ...                       4   \n",
       "143842   18.91  648.0               NaN  ...                       4   \n",
       "\n",
       "        number_of_offers_completed  receival_to_view_avg  \\\n",
       "143838                           2                   0.0   \n",
       "143839                           2                   0.0   \n",
       "143840                           2                   0.0   \n",
       "143841                           3                   0.0   \n",
       "143842                           3                   0.0   \n",
       "\n",
       "       view_to_completion_avg number_of_transactions  \\\n",
       "143838                   39.0                      9   \n",
       "143839                   39.0                      9   \n",
       "143840                   39.0                     10   \n",
       "143841                   36.0                     11   \n",
       "143842                   36.0                     12   \n",
       "\n",
       "        avg_number_of_transctions avg_reward  receival_to_view  \\\n",
       "143838                  15.766667        7.0              30.0   \n",
       "143839                  15.766667        7.0               NaN   \n",
       "143840                  14.969000        7.0            -222.0   \n",
       "143841                  15.023636        9.0               NaN   \n",
       "143842                  14.615000        9.0               NaN   \n",
       "\n",
       "        time_from_view_to_completion                       prev_person  \n",
       "143838                           NaN  ffff82501cea40309d5fdd7edcca4a07  \n",
       "143839                           NaN  ffff82501cea40309d5fdd7edcca4a07  \n",
       "143840                          30.0  ffff82501cea40309d5fdd7edcca4a07  \n",
       "143841                           NaN  ffff82501cea40309d5fdd7edcca4a07  \n",
       "143842                           NaN  ffff82501cea40309d5fdd7edcca4a07  \n",
       "\n",
       "[5 rows x 36 columns]"
      ]
     },
     "execution_count": 100,
     "metadata": {},
     "output_type": "execute_result"
    }
   ],
   "source": [
    "customer_journey_df.tail()"
   ]
  },
  {
   "cell_type": "code",
   "execution_count": 101,
   "metadata": {},
   "outputs": [],
   "source": [
    "# Save the data to CSV to upload it after to the Sagemaker\n",
    "customer_journey_df.to_csv('customer_journey_updated.csv')"
   ]
  },
  {
   "cell_type": "markdown",
   "metadata": {},
   "source": [
    "Now let's upload the data to Sagemaker"
   ]
  },
  {
   "cell_type": "code",
   "execution_count": 102,
   "metadata": {},
   "outputs": [],
   "source": [
    "import boto3\n",
    "import sagemaker\n",
    "from sagemaker import get_execution_role\n",
    "\n",
    "session = sagemaker.Session()\n",
    "role = get_execution_role()"
   ]
  },
  {
   "cell_type": "code",
   "execution_count": 107,
   "metadata": {},
   "outputs": [],
   "source": [
    "variables = ['gender', 'weekday', 'age', 'income', 'day','became_member_from', \n",
    "             'number_of_transactions', 'avg_number_of_transctions',\n",
    "             'number_of_offers_completed', 'number_of_offers_viewed', \n",
    "             'avg_reward', 'receival_to_view_avg', 'view_to_completion_avg']"
   ]
  },
  {
   "cell_type": "code",
   "execution_count": 111,
   "metadata": {},
   "outputs": [],
   "source": [
    "# Create dictionary for each type of offer\n",
    "df_target = {}\n",
    "prefix = 'CapstoneProjectStarbucks'\n",
    "data_location_dict = {}\n",
    "\n",
    "for tgt in ['bogo', 'discount', 'info']:\n",
    "    df_target[tgt] = customer_journey_df.loc[\n",
    "        customer_journey_df[tgt].isnull() == False, [tgt] + variables]\n",
    "    \n",
    "    df_target[tgt].to_csv(f'./data/{tgt}.csv', index=False, header=False)\n",
    "    \n",
    "    data_location_dict[tgt] = \\\n",
    "                session.upload_data(f'./data/{tgt}.csv', key_prefix=prefix)"
   ]
  },
  {
   "cell_type": "code",
   "execution_count": 113,
   "metadata": {},
   "outputs": [
    {
     "data": {
      "text/plain": [
       "{'bogo': 's3://sagemaker-us-east-1-847508660735/CapstoneProjectStarbucks/bogo.csv',\n",
       " 'discount': 's3://sagemaker-us-east-1-847508660735/CapstoneProjectStarbucks/discount.csv',\n",
       " 'info': 's3://sagemaker-us-east-1-847508660735/CapstoneProjectStarbucks/info.csv'}"
      ]
     },
     "execution_count": 113,
     "metadata": {},
     "output_type": "execute_result"
    }
   ],
   "source": [
    "# Check the location\n",
    "data_location_dict"
   ]
  },
  {
   "cell_type": "code",
   "execution_count": 114,
   "metadata": {},
   "outputs": [],
   "source": [
    "# Read the data to check\n",
    "df_target = {}\n",
    "for tgt in ['bogo', 'discount', 'info']:\n",
    "    df_target[tgt] = pd.read_csv(f'./data/{tgt}.csv', \n",
    "                                 header=None, names=[tgt] + variables)"
   ]
  },
  {
   "cell_type": "markdown",
   "metadata": {},
   "source": [
    "Now we are ready to compare the current analysis of features versus the baseline values. In order to do this, we have to introduce couple of new functions to analyze the charts."
   ]
  },
  {
   "cell_type": "code",
   "execution_count": 115,
   "metadata": {},
   "outputs": [],
   "source": [
    "def analyse_categorical_vars(df, feature_name, threshold=0.01, \n",
    "             target_name='tgt', plot_title=None, target_mean_color='black'):\n",
    "    '''\n",
    "    Function charts the mean Target value versus a categorical\n",
    "    variable.\n",
    "    \n",
    "    Args:\n",
    "    df (DataFrame) - input data\n",
    "    feature_name (str) - feature to analyze versus the target.\n",
    "    threshold(float) - categories with frequency between threshold are\n",
    "                        labeled as Other\n",
    "    target_name (str) - name of the target variable\n",
    "    plot_title (str) - plot title\n",
    "    target_mean_color (str) - color for the average target value\n",
    "\n",
    "    Outputs:\n",
    "    chart (matplotlib) - chart plotting the analyzed variable versus target\n",
    "    '''\n",
    "\n",
    "    # Select only used features\n",
    "    df_copy = df[[feature_name, target_name]].copy()\n",
    "    df_copy[feature_name] = df_copy[feature_name].fillna('NULL')\n",
    "    \n",
    "    # Replace categories with distribution less than threshold with Other\n",
    "    df_temp = df_copy[feature_name].value_counts(1)\n",
    "    others_list = df_temp[df_temp < threshold].index.tolist()\n",
    "    \n",
    "    if len(others_list) > 1:\n",
    "        df_copy[feature_name] = \\\n",
    "                df_analysis[feature_name].replace(others_list, 'Other')\n",
    "\n",
    "    # Compute the target mean\n",
    "    target_mean = df_copy[target_name].mean()\n",
    "\n",
    "    plt.title(plot_title)\n",
    "        \n",
    "    plt.xticks(rotation='vertical')\n",
    "    \n",
    "    df_barplot = df_copy.groupby(feature_name).agg(\n",
    "                                    {target_name: 'mean'}).reset_index()\n",
    "    \n",
    "    plot = sns.barplot(x = feature_name, y = target_name, \n",
    "                       data = df_barplot, ci = None)\n",
    "    \n",
    "    plot.axhline(target_mean, ls = '--', color = target_mean_color)"
   ]
  },
  {
   "cell_type": "code",
   "execution_count": 126,
   "metadata": {},
   "outputs": [],
   "source": [
    "def analyse_numerical_vars(df, feature_name, q=(0, 0.25, 0.5, 0.75, 1), \n",
    "       target_name='tgt', plot_title=None, target_mean_color='black'):\n",
    "    \n",
    "    '''\n",
    "    Function charts the mean Target value versus a numerical \n",
    "    variable and the list of its quantiles.\n",
    "    \n",
    "   Args:\n",
    "    df (DataFrame) - input data\n",
    "    feature_name (str) - feature to analyze versus the target.\n",
    "    q (tuple of floats) - quantiles for bucketing the values\n",
    "    target_name (str) - name of the target variable\n",
    "    plot_title (str) - plot title\n",
    "    target_mean_color (str) - color for the average target value\n",
    "\n",
    "    Outputs:\n",
    "    chart (matplotlib) - chart plotting the analyzed variable versus target\n",
    "    '''\n",
    "    \n",
    "    # Compute the overall target mean\n",
    "    target_mean = df[target_name].mean()\n",
    "\n",
    "    plt.title(plot_title)\n",
    "        \n",
    "    plt.xticks(rotation='vertical')\n",
    "    \n",
    "    df_temp = df[[feature_name, target_name]].copy()\n",
    "    cuts = np.quantile(df[feature_name].dropna(), q)\n",
    "    \n",
    "    df_temp['agg'] = pd.cut(df_temp[feature_name], bins=cuts, \n",
    "                     duplicates='drop', include_lowest=True).astype(str)\n",
    "    df_agg = df_temp.groupby('agg').agg({target_name: 'mean'}).reset_index()\n",
    "    df_agg['ord'] = df_agg['agg'].apply(\n",
    "        lambda x: float(x[1:].split(',')[0]) if x != 'nan' else np.nan)\n",
    "    df_agg.sort_values('ord', inplace=True)\n",
    "    \n",
    "    plot = sns.barplot(x='agg', y=target_name, data=df_agg, ci=None)\n",
    "    plot.set_xlabel(feature_name)\n",
    "    plot.axhline(target_mean, ls='--', color=target_mean_color)"
   ]
  },
  {
   "cell_type": "markdown",
   "metadata": {},
   "source": [
    "Now let's plot all the values compared with the target ones"
   ]
  },
  {
   "cell_type": "code",
   "execution_count": 127,
   "metadata": {},
   "outputs": [],
   "source": [
    "def analyse_var(df_target, feature):\n",
    "    '''\n",
    "    This function creates a chart for all required variables for all\n",
    "    types of offers.\n",
    "    \n",
    "    Args:\n",
    "    df_target (dict) - dictionary with DataFrames with input data\n",
    "    feature (str) - the required feature to plot the charts\n",
    "    \n",
    "    Outputs:\n",
    "    chart (matplotlib) - chart comparing the analyzed features\n",
    "    versus target for each offer type\n",
    "    '''\n",
    "    \n",
    "    plt.subplots(1, 3, figsize=(15, 5))\n",
    "    \n",
    "    if df_target['bogo'][feature].dtype == 'O' or feature == 'weekday':\n",
    "        func = analyse_categorical_vars\n",
    "    else:\n",
    "        func = analyse_numerical_vars\n",
    "        \n",
    "    plt.suptitle(feature, fontsize=20)\n",
    "    \n",
    "    plt.subplot(131)\n",
    "    func(df_target['bogo'], feature, target_name='bogo', \n",
    "                         plot_title='Bogo')\n",
    "    \n",
    "    plt.subplot(132)\n",
    "    func(df_target['discount'], feature, target_name='discount', \n",
    "                            plot_title='Discount')\n",
    "    \n",
    "    plt.subplot(133)\n",
    "    func(df_target['info'], feature, target_name='info', \n",
    "                             plot_title='Informational')\n",
    "        \n",
    "    plt.show()\n",
    "    print('\\n')"
   ]
  },
  {
   "cell_type": "code",
   "execution_count": 128,
   "metadata": {
    "scrolled": false
   },
   "outputs": [
    {
     "data": {
      "image/png": "[encoded data removed]",
      "text/plain": [
       "<Figure size 1080x360 with 3 Axes>"
      ]
     },
     "metadata": {
      "needs_background": "light"
     },
     "output_type": "display_data"
    },
    {
     "name": "stdout",
     "output_type": "stream",
     "text": [
      "\n",
      "\n"
     ]
    },
    {
     "data": {
      "image/png": "[encoded data removed]",
      "text/plain": [
       "<Figure size 1080x360 with 3 Axes>"
      ]
     },
     "metadata": {
      "needs_background": "light"
     },
     "output_type": "display_data"
    },
    {
     "name": "stdout",
     "output_type": "stream",
     "text": [
      "\n",
      "\n"
     ]
    },
    {
     "data": {
      "image/png": "[encoded data removed]",
      "text/plain": [
       "<Figure size 1080x360 with 3 Axes>"
      ]
     },
     "metadata": {
      "needs_background": "light"
     },
     "output_type": "display_data"
    },
    {
     "name": "stdout",
     "output_type": "stream",
     "text": [
      "\n",
      "\n"
     ]
    },
    {
     "data": {
      "image/png": "[encoded data removed]",
      "text/plain": [
       "<Figure size 1080x360 with 3 Axes>"
      ]
     },
     "metadata": {
      "needs_background": "light"
     },
     "output_type": "display_data"
    },
    {
     "name": "stdout",
     "output_type": "stream",
     "text": [
      "\n",
      "\n"
     ]
    },
    {
     "data": {
      "image/png": "[encoded data removed]",
      "text/plain": [
       "<Figure size 1080x360 with 3 Axes>"
      ]
     },
     "metadata": {
      "needs_background": "light"
     },
     "output_type": "display_data"
    },
    {
     "name": "stdout",
     "output_type": "stream",
     "text": [
      "\n",
      "\n"
     ]
    },
    {
     "data": {
      "image/png": "[encoded data removed]",
      "text/plain": [
       "<Figure size 1080x360 with 3 Axes>"
      ]
     },
     "metadata": {
      "needs_background": "light"
     },
     "output_type": "display_data"
    },
    {
     "name": "stdout",
     "output_type": "stream",
     "text": [
      "\n",
      "\n"
     ]
    },
    {
     "data": {
      "image/png": "[encoded data removed]",
      "text/plain": [
       "<Figure size 1080x360 with 3 Axes>"
      ]
     },
     "metadata": {
      "needs_background": "light"
     },
     "output_type": "display_data"
    },
    {
     "name": "stdout",
     "output_type": "stream",
     "text": [
      "\n",
      "\n"
     ]
    },
    {
     "data": {
      "image/png": "[encoded data removed]",
      "text/plain": [
       "<Figure size 1080x360 with 3 Axes>"
      ]
     },
     "metadata": {
      "needs_background": "light"
     },
     "output_type": "display_data"
    },
    {
     "name": "stdout",
     "output_type": "stream",
     "text": [
      "\n",
      "\n"
     ]
    },
    {
     "data": {
      "image/png": "[encoded data removed]",
      "text/plain": [
       "<Figure size 1080x360 with 3 Axes>"
      ]
     },
     "metadata": {
      "needs_background": "light"
     },
     "output_type": "display_data"
    },
    {
     "name": "stdout",
     "output_type": "stream",
     "text": [
      "\n",
      "\n"
     ]
    },
    {
     "data": {
      "image/png": "[encoded data removed]",
      "text/plain": [
       "<Figure size 1080x360 with 3 Axes>"
      ]
     },
     "metadata": {
      "needs_background": "light"
     },
     "output_type": "display_data"
    },
    {
     "name": "stdout",
     "output_type": "stream",
     "text": [
      "\n",
      "\n"
     ]
    },
    {
     "data": {
      "image/png": "[encoded data removed]",
      "text/plain": [
       "<Figure size 1080x360 with 3 Axes>"
      ]
     },
     "metadata": {
      "needs_background": "light"
     },
     "output_type": "display_data"
    },
    {
     "name": "stdout",
     "output_type": "stream",
     "text": [
      "\n",
      "\n"
     ]
    },
    {
     "data": {
      "image/png": "[encoded data removed]",
      "text/plain": [
       "<Figure size 1080x360 with 3 Axes>"
      ]
     },
     "metadata": {
      "needs_background": "light"
     },
     "output_type": "display_data"
    },
    {
     "name": "stdout",
     "output_type": "stream",
     "text": [
      "\n",
      "\n"
     ]
    },
    {
     "data": {
      "image/png": "[encoded data removed]",
      "text/plain": [
       "<Figure size 1080x360 with 3 Axes>"
      ]
     },
     "metadata": {
      "needs_background": "light"
     },
     "output_type": "display_data"
    },
    {
     "name": "stdout",
     "output_type": "stream",
     "text": [
      "\n",
      "\n"
     ]
    }
   ],
   "source": [
    "for feature in variables:\n",
    "    analyse_var(df_target, feature)"
   ]
  },
  {
   "cell_type": "code",
   "execution_count": null,
   "metadata": {},
   "outputs": [],
   "source": []
  }
 ],
 "metadata": {
  "kernelspec": {
   "display_name": "conda_python3",
   "language": "python",
   "name": "conda_python3"
  },
  "language_info": {
   "codemirror_mode": {
    "name": "ipython",
    "version": 3
   },
   "file_extension": ".py",
   "mimetype": "text/x-python",
   "name": "python",
   "nbconvert_exporter": "python",
   "pygments_lexer": "ipython3",
   "version": "3.6.13"
  }
 },
 "nbformat": 4,
 "nbformat_minor": 2
}
